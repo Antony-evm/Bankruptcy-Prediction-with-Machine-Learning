{
 "cells": [
  {
   "cell_type": "code",
   "execution_count": 30,
   "metadata": {
    "collapsed": true
   },
   "outputs": [],
   "source": [
    "import pandas as pd\n",
    "import numpy as np\n",
    "import matplotlib.pyplot as plt\n",
    "import warnings\n",
    "from sklearn.preprocessing import normalize\n",
    "\n",
    "warnings.filterwarnings('ignore')\n",
    "\n",
    "from sklearn import svm\n",
    "from sklearn.tree import DecisionTreeClassifier\n",
    "from sklearn.naive_bayes import GaussianNB\n",
    "from sklearn.linear_model import LogisticRegression\n",
    "\n",
    "from tensorflow.keras.models import Sequential\n",
    "from tensorflow.keras.layers import Dense,LSTM,Flatten\n",
    "from tensorflow.keras.optimizers import SGD,Adam\n",
    "from tensorflow.keras.callbacks import EarlyStopping,ModelCheckpoint,ReduceLROnPlateau\n",
    "\n",
    "\n",
    "from sklearn.model_selection import train_test_split\n",
    "\n",
    "from sklearn import metrics\n",
    "\n",
    "import autosklearn.classification\n",
    "import sklearn.model_selection\n",
    "import sklearn.datasets\n",
    "import sklearn.metrics"
   ]
  },
  {
   "cell_type": "markdown",
   "metadata": {},
   "source": [
    "## First we deal with the dataset \"last year\""
   ]
  },
  {
   "cell_type": "code",
   "execution_count": 31,
   "metadata": {
    "scrolled": true
   },
   "outputs": [
    {
     "name": "stdout",
     "output_type": "stream",
     "text": [
      "Our dataset is comprised of 145 rows and 38 columns. We have 49 bankrupted companies and 96 companies that still operate\n"
     ]
    }
   ],
   "source": [
    "df=pd.read_csv(\"last year.csv\")\n",
    "df['final'][df['final']=='Bankrupted']=0\n",
    "df['final'][df['final']=='Non-Bankrupted']=1\n",
    "\n",
    "bankruptcies=df['final'][df['final']==0].count()\n",
    "rows=df.shape[0]\n",
    "columns=df.shape[1]\n",
    "print(f'Our dataset is comprised of {rows} rows and {columns} columns. We have {bankruptcies} bankrupted companies and {rows-bankruptcies} companies that still operate')\n"
   ]
  },
  {
   "cell_type": "markdown",
   "metadata": {},
   "source": [
    "## Train test split and normalizing the data"
   ]
  },
  {
   "cell_type": "code",
   "execution_count": 32,
   "metadata": {},
   "outputs": [],
   "source": [
    "np.random.seed(333)\n",
    "\n",
    "X=df.iloc[:,0:-1].values\n",
    "Y=df.iloc[:,-1]\n",
    "X_train,X_test, y_train,y_test = train_test_split(X,Y,test_size=0.2,random_state=43) \n",
    "\n",
    "y_train=y_train.astype(int)\n",
    "y_test=y_test.astype(int)\n",
    "\n",
    "X_train=normalize(X_train)\n",
    "X_test=normalize(X_test)\n",
    "\n"
   ]
  },
  {
   "cell_type": "markdown",
   "metadata": {},
   "source": [
    "## Autosklearn"
   ]
  },
  {
   "cell_type": "code",
   "execution_count": 33,
   "metadata": {
    "scrolled": true
   },
   "outputs": [
    {
     "name": "stdout",
     "output_type": "stream",
     "text": [
      "[WARNING] [2020-03-17 09:14:14,246:EnsembleBuilder(42):d4372048c12e872c84b2f9585388b078] No models better than random - using Dummy Score!\n",
      "[WARNING] [2020-03-17 09:14:14,259:EnsembleBuilder(42):d4372048c12e872c84b2f9585388b078] No models better than random - using Dummy Score!\n",
      "[WARNING] [2020-03-17 09:14:16,263:EnsembleBuilder(42):d4372048c12e872c84b2f9585388b078] No models better than random - using Dummy Score!\n",
      "[WARNING] [2020-03-17 09:14:18,267:EnsembleBuilder(42):d4372048c12e872c84b2f9585388b078] No models better than random - using Dummy Score!\n",
      "42\n",
      "['/tmp/autosklearn_tmp_2541_3966/.auto-sklearn/ensembles/42.0000000000.ensemble', '/tmp/autosklearn_tmp_2541_3966/.auto-sklearn/ensembles/42.0000000001.ensemble', '/tmp/autosklearn_tmp_2541_3966/.auto-sklearn/ensembles/42.0000000002.ensemble', '/tmp/autosklearn_tmp_2541_3966/.auto-sklearn/ensembles/42.0000000003.ensemble', '/tmp/autosklearn_tmp_2541_3966/.auto-sklearn/ensembles/42.0000000004.ensemble', '/tmp/autosklearn_tmp_2541_3966/.auto-sklearn/ensembles/42.0000000005.ensemble', '/tmp/autosklearn_tmp_2541_3966/.auto-sklearn/ensembles/42.0000000006.ensemble', '/tmp/autosklearn_tmp_2541_3966/.auto-sklearn/ensembles/42.0000000007.ensemble', '/tmp/autosklearn_tmp_2541_3966/.auto-sklearn/ensembles/42.0000000008.ensemble', '/tmp/autosklearn_tmp_2541_3966/.auto-sklearn/ensembles/42.0000000009.ensemble', '/tmp/autosklearn_tmp_2541_3966/.auto-sklearn/ensembles/42.0000000010.ensemble', '/tmp/autosklearn_tmp_2541_3966/.auto-sklearn/ensembles/42.0000000011.ensemble', '/tmp/autosklearn_tmp_2541_3966/.auto-sklearn/ensembles/42.0000000012.ensemble', '/tmp/autosklearn_tmp_2541_3966/.auto-sklearn/ensembles/42.0000000013.ensemble', '/tmp/autosklearn_tmp_2541_3966/.auto-sklearn/ensembles/42.0000000014.ensemble', '/tmp/autosklearn_tmp_2541_3966/.auto-sklearn/ensembles/42.0000000015.ensemble', '/tmp/autosklearn_tmp_2541_3966/.auto-sklearn/ensembles/42.0000000016.ensemble', '/tmp/autosklearn_tmp_2541_3966/.auto-sklearn/ensembles/42.0000000017.ensemble', '/tmp/autosklearn_tmp_2541_3966/.auto-sklearn/ensembles/42.0000000018.ensemble', '/tmp/autosklearn_tmp_2541_3966/.auto-sklearn/ensembles/42.0000000019.ensemble', '/tmp/autosklearn_tmp_2541_3966/.auto-sklearn/ensembles/42.0000000020.ensemble', '/tmp/autosklearn_tmp_2541_3966/.auto-sklearn/ensembles/42.0000000021.ensemble', '/tmp/autosklearn_tmp_2541_3966/.auto-sklearn/ensembles/42.0000000022.ensemble', '/tmp/autosklearn_tmp_2541_3966/.auto-sklearn/ensembles/42.0000000023.ensemble', '/tmp/autosklearn_tmp_2541_3966/.auto-sklearn/ensembles/42.0000000024.ensemble', '/tmp/autosklearn_tmp_2541_3966/.auto-sklearn/ensembles/42.0000000025.ensemble', '/tmp/autosklearn_tmp_2541_3966/.auto-sklearn/ensembles/42.0000000026.ensemble', '/tmp/autosklearn_tmp_2541_3966/.auto-sklearn/ensembles/42.0000000027.ensemble', '/tmp/autosklearn_tmp_2541_3966/.auto-sklearn/ensembles/42.0000000028.ensemble', '/tmp/autosklearn_tmp_2541_3966/.auto-sklearn/ensembles/42.0000000029.ensemble', '/tmp/autosklearn_tmp_2541_3966/.auto-sklearn/ensembles/42.0000000030.ensemble', '/tmp/autosklearn_tmp_2541_3966/.auto-sklearn/ensembles/42.0000000031.ensemble', '/tmp/autosklearn_tmp_2541_3966/.auto-sklearn/ensembles/42.0000000032.ensemble', '/tmp/autosklearn_tmp_2541_3966/.auto-sklearn/ensembles/42.0000000033.ensemble', '/tmp/autosklearn_tmp_2541_3966/.auto-sklearn/ensembles/42.0000000034.ensemble', '/tmp/autosklearn_tmp_2541_3966/.auto-sklearn/ensembles/42.0000000035.ensemble']\n",
      "[(0.420000, SimpleClassificationPipeline({'balancing:strategy': 'weighting', 'categorical_encoding:__choice__': 'one_hot_encoding', 'classifier:__choice__': 'multinomial_nb', 'imputation:strategy': 'mean', 'preprocessor:__choice__': 'liblinear_svc_preprocessor', 'rescaling:__choice__': 'normalize', 'categorical_encoding:one_hot_encoding:use_minimum_fraction': 'False', 'classifier:multinomial_nb:alpha': 0.15886249385821313, 'classifier:multinomial_nb:fit_prior': 'False', 'preprocessor:liblinear_svc_preprocessor:C': 34.79124705386491, 'preprocessor:liblinear_svc_preprocessor:dual': 'False', 'preprocessor:liblinear_svc_preprocessor:fit_intercept': 'True', 'preprocessor:liblinear_svc_preprocessor:intercept_scaling': 1, 'preprocessor:liblinear_svc_preprocessor:loss': 'squared_hinge', 'preprocessor:liblinear_svc_preprocessor:multi_class': 'ovr', 'preprocessor:liblinear_svc_preprocessor:penalty': 'l1', 'preprocessor:liblinear_svc_preprocessor:tol': 1.0368854545877722e-05},\n",
      "dataset_properties={\n",
      "  'task': 1,\n",
      "  'sparse': False,\n",
      "  'multilabel': False,\n",
      "  'multiclass': False,\n",
      "  'target_type': 'classification',\n",
      "  'signed': False})),\n",
      "(0.180000, SimpleClassificationPipeline({'balancing:strategy': 'weighting', 'categorical_encoding:__choice__': 'one_hot_encoding', 'classifier:__choice__': 'extra_trees', 'imputation:strategy': 'median', 'preprocessor:__choice__': 'no_preprocessing', 'rescaling:__choice__': 'none', 'categorical_encoding:one_hot_encoding:use_minimum_fraction': 'False', 'classifier:extra_trees:bootstrap': 'True', 'classifier:extra_trees:criterion': 'gini', 'classifier:extra_trees:max_depth': 'None', 'classifier:extra_trees:max_features': 0.7014443542797131, 'classifier:extra_trees:max_leaf_nodes': 'None', 'classifier:extra_trees:min_impurity_decrease': 0.0, 'classifier:extra_trees:min_samples_leaf': 13, 'classifier:extra_trees:min_samples_split': 18, 'classifier:extra_trees:min_weight_fraction_leaf': 0.0, 'classifier:extra_trees:n_estimators': 100},\n",
      "dataset_properties={\n",
      "  'task': 1,\n",
      "  'sparse': False,\n",
      "  'multilabel': False,\n",
      "  'multiclass': False,\n",
      "  'target_type': 'classification',\n",
      "  'signed': False})),\n",
      "(0.140000, SimpleClassificationPipeline({'balancing:strategy': 'weighting', 'categorical_encoding:__choice__': 'one_hot_encoding', 'classifier:__choice__': 'adaboost', 'imputation:strategy': 'mean', 'preprocessor:__choice__': 'liblinear_svc_preprocessor', 'rescaling:__choice__': 'none', 'categorical_encoding:one_hot_encoding:use_minimum_fraction': 'False', 'classifier:adaboost:algorithm': 'SAMME.R', 'classifier:adaboost:learning_rate': 0.6675842348625202, 'classifier:adaboost:max_depth': 1, 'classifier:adaboost:n_estimators': 363, 'preprocessor:liblinear_svc_preprocessor:C': 2909.747806304255, 'preprocessor:liblinear_svc_preprocessor:dual': 'False', 'preprocessor:liblinear_svc_preprocessor:fit_intercept': 'True', 'preprocessor:liblinear_svc_preprocessor:intercept_scaling': 1, 'preprocessor:liblinear_svc_preprocessor:loss': 'squared_hinge', 'preprocessor:liblinear_svc_preprocessor:multi_class': 'ovr', 'preprocessor:liblinear_svc_preprocessor:penalty': 'l1', 'preprocessor:liblinear_svc_preprocessor:tol': 0.0013453218902917522},\n",
      "dataset_properties={\n",
      "  'task': 1,\n",
      "  'sparse': False,\n",
      "  'multilabel': False,\n",
      "  'multiclass': False,\n",
      "  'target_type': 'classification',\n",
      "  'signed': False})),\n",
      "(0.060000, SimpleClassificationPipeline({'balancing:strategy': 'none', 'categorical_encoding:__choice__': 'one_hot_encoding', 'classifier:__choice__': 'gradient_boosting', 'imputation:strategy': 'most_frequent', 'preprocessor:__choice__': 'liblinear_svc_preprocessor', 'rescaling:__choice__': 'standardize', 'categorical_encoding:one_hot_encoding:use_minimum_fraction': 'False', 'classifier:gradient_boosting:criterion': 'mse', 'classifier:gradient_boosting:learning_rate': 0.054728251483381944, 'classifier:gradient_boosting:loss': 'deviance', 'classifier:gradient_boosting:max_depth': 3, 'classifier:gradient_boosting:max_features': 0.445635243882436, 'classifier:gradient_boosting:max_leaf_nodes': 'None', 'classifier:gradient_boosting:min_impurity_decrease': 0.0, 'classifier:gradient_boosting:min_samples_leaf': 6, 'classifier:gradient_boosting:min_samples_split': 17, 'classifier:gradient_boosting:min_weight_fraction_leaf': 0.0, 'classifier:gradient_boosting:n_estimators': 165, 'classifier:gradient_boosting:subsample': 0.7703313214757509, 'preprocessor:liblinear_svc_preprocessor:C': 0.1068024687939933, 'preprocessor:liblinear_svc_preprocessor:dual': 'False', 'preprocessor:liblinear_svc_preprocessor:fit_intercept': 'True', 'preprocessor:liblinear_svc_preprocessor:intercept_scaling': 1, 'preprocessor:liblinear_svc_preprocessor:loss': 'squared_hinge', 'preprocessor:liblinear_svc_preprocessor:multi_class': 'ovr', 'preprocessor:liblinear_svc_preprocessor:penalty': 'l1', 'preprocessor:liblinear_svc_preprocessor:tol': 0.003494447478616623},\n",
      "dataset_properties={\n",
      "  'task': 1,\n",
      "  'sparse': False,\n",
      "  'multilabel': False,\n",
      "  'multiclass': False,\n",
      "  'target_type': 'classification',\n",
      "  'signed': False})),\n",
      "(0.060000, SimpleClassificationPipeline({'balancing:strategy': 'weighting', 'categorical_encoding:__choice__': 'no_encoding', 'classifier:__choice__': 'lda', 'imputation:strategy': 'median', 'preprocessor:__choice__': 'extra_trees_preproc_for_classification', 'rescaling:__choice__': 'none', 'classifier:lda:n_components': 76, 'classifier:lda:shrinkage': 'None', 'classifier:lda:tol': 0.00032505037459238496, 'preprocessor:extra_trees_preproc_for_classification:bootstrap': 'False', 'preprocessor:extra_trees_preproc_for_classification:criterion': 'gini', 'preprocessor:extra_trees_preproc_for_classification:max_depth': 'None', 'preprocessor:extra_trees_preproc_for_classification:max_features': 0.5986065200361524, 'preprocessor:extra_trees_preproc_for_classification:max_leaf_nodes': 'None', 'preprocessor:extra_trees_preproc_for_classification:min_impurity_decrease': 0.0, 'preprocessor:extra_trees_preproc_for_classification:min_samples_leaf': 15, 'preprocessor:extra_trees_preproc_for_classification:min_samples_split': 11, 'preprocessor:extra_trees_preproc_for_classification:min_weight_fraction_leaf': 0.0, 'preprocessor:extra_trees_preproc_for_classification:n_estimators': 100},\n",
      "dataset_properties={\n",
      "  'task': 1,\n",
      "  'sparse': False,\n",
      "  'multilabel': False,\n",
      "  'multiclass': False,\n",
      "  'target_type': 'classification',\n",
      "  'signed': False})),\n",
      "(0.040000, SimpleClassificationPipeline({'balancing:strategy': 'weighting', 'categorical_encoding:__choice__': 'one_hot_encoding', 'classifier:__choice__': 'decision_tree', 'imputation:strategy': 'median', 'preprocessor:__choice__': 'select_percentile_classification', 'rescaling:__choice__': 'none', 'categorical_encoding:one_hot_encoding:use_minimum_fraction': 'False', 'classifier:decision_tree:criterion': 'gini', 'classifier:decision_tree:max_depth_factor': 1.8048808187843197, 'classifier:decision_tree:max_features': 1.0, 'classifier:decision_tree:max_leaf_nodes': 'None', 'classifier:decision_tree:min_impurity_decrease': 0.0, 'classifier:decision_tree:min_samples_leaf': 6, 'classifier:decision_tree:min_samples_split': 19, 'classifier:decision_tree:min_weight_fraction_leaf': 0.0, 'preprocessor:select_percentile_classification:percentile': 48.341430305504275, 'preprocessor:select_percentile_classification:score_func': 'f_classif'},\n",
      "dataset_properties={\n",
      "  'task': 1,\n",
      "  'sparse': False,\n",
      "  'multilabel': False,\n",
      "  'multiclass': False,\n",
      "  'target_type': 'classification',\n",
      "  'signed': False})),\n",
      "(0.020000, SimpleClassificationPipeline({'balancing:strategy': 'weighting', 'categorical_encoding:__choice__': 'no_encoding', 'classifier:__choice__': 'qda', 'imputation:strategy': 'most_frequent', 'preprocessor:__choice__': 'extra_trees_preproc_for_classification', 'rescaling:__choice__': 'standardize', 'classifier:qda:reg_param': 0.6682643137567424, 'preprocessor:extra_trees_preproc_for_classification:bootstrap': 'True', 'preprocessor:extra_trees_preproc_for_classification:criterion': 'gini', 'preprocessor:extra_trees_preproc_for_classification:max_depth': 'None', 'preprocessor:extra_trees_preproc_for_classification:max_features': 0.806630978528111, 'preprocessor:extra_trees_preproc_for_classification:max_leaf_nodes': 'None', 'preprocessor:extra_trees_preproc_for_classification:min_impurity_decrease': 0.0, 'preprocessor:extra_trees_preproc_for_classification:min_samples_leaf': 9, 'preprocessor:extra_trees_preproc_for_classification:min_samples_split': 2, 'preprocessor:extra_trees_preproc_for_classification:min_weight_fraction_leaf': 0.0, 'preprocessor:extra_trees_preproc_for_classification:n_estimators': 100},\n",
      "dataset_properties={\n",
      "  'task': 1,\n",
      "  'sparse': False,\n",
      "  'multilabel': False,\n",
      "  'multiclass': False,\n",
      "  'target_type': 'classification',\n",
      "  'signed': False})),\n",
      "(0.020000, SimpleClassificationPipeline({'balancing:strategy': 'none', 'categorical_encoding:__choice__': 'one_hot_encoding', 'classifier:__choice__': 'adaboost', 'imputation:strategy': 'mean', 'preprocessor:__choice__': 'no_preprocessing', 'rescaling:__choice__': 'standardize', 'categorical_encoding:one_hot_encoding:use_minimum_fraction': 'True', 'classifier:adaboost:algorithm': 'SAMME.R', 'classifier:adaboost:learning_rate': 0.5366239226453543, 'classifier:adaboost:max_depth': 7, 'classifier:adaboost:n_estimators': 186, 'categorical_encoding:one_hot_encoding:minimum_fraction': 0.0003577387098846521},\n",
      "dataset_properties={\n",
      "  'task': 1,\n",
      "  'sparse': False,\n",
      "  'multilabel': False,\n",
      "  'multiclass': False,\n",
      "  'target_type': 'classification',\n",
      "  'signed': False})),\n",
      "(0.020000, SimpleClassificationPipeline({'balancing:strategy': 'none', 'categorical_encoding:__choice__': 'one_hot_encoding', 'classifier:__choice__': 'passive_aggressive', 'imputation:strategy': 'median', 'preprocessor:__choice__': 'polynomial', 'rescaling:__choice__': 'standardize', 'categorical_encoding:one_hot_encoding:use_minimum_fraction': 'False', 'classifier:passive_aggressive:C': 9.381674083299868e-05, 'classifier:passive_aggressive:average': 'True', 'classifier:passive_aggressive:fit_intercept': 'True', 'classifier:passive_aggressive:loss': 'hinge', 'classifier:passive_aggressive:tol': 0.002933754159999856, 'preprocessor:polynomial:degree': 3, 'preprocessor:polynomial:include_bias': 'True', 'preprocessor:polynomial:interaction_only': 'False'},\n",
      "dataset_properties={\n",
      "  'task': 1,\n",
      "  'sparse': False,\n",
      "  'multilabel': False,\n",
      "  'multiclass': False,\n",
      "  'target_type': 'classification',\n",
      "  'signed': False})),\n",
      "(0.020000, SimpleClassificationPipeline({'balancing:strategy': 'none', 'categorical_encoding:__choice__': 'one_hot_encoding', 'classifier:__choice__': 'qda', 'imputation:strategy': 'mean', 'preprocessor:__choice__': 'kernel_pca', 'rescaling:__choice__': 'normalize', 'categorical_encoding:one_hot_encoding:use_minimum_fraction': 'False', 'classifier:qda:reg_param': 0.2061636056865408, 'preprocessor:kernel_pca:kernel': 'sigmoid', 'preprocessor:kernel_pca:n_components': 1461, 'preprocessor:kernel_pca:coef0': 0.5370642323006811},\n",
      "dataset_properties={\n",
      "  'task': 1,\n",
      "  'sparse': False,\n",
      "  'multilabel': False,\n",
      "  'multiclass': False,\n",
      "  'target_type': 'classification',\n",
      "  'signed': False})),\n",
      "(0.020000, SimpleClassificationPipeline({'balancing:strategy': 'weighting', 'categorical_encoding:__choice__': 'one_hot_encoding', 'classifier:__choice__': 'random_forest', 'imputation:strategy': 'median', 'preprocessor:__choice__': 'fast_ica', 'rescaling:__choice__': 'normalize', 'categorical_encoding:one_hot_encoding:use_minimum_fraction': 'False', 'classifier:random_forest:bootstrap': 'True', 'classifier:random_forest:criterion': 'entropy', 'classifier:random_forest:max_depth': 'None', 'classifier:random_forest:max_features': 0.8645316467376957, 'classifier:random_forest:max_leaf_nodes': 'None', 'classifier:random_forest:min_impurity_decrease': 0.0, 'classifier:random_forest:min_samples_leaf': 8, 'classifier:random_forest:min_samples_split': 7, 'classifier:random_forest:min_weight_fraction_leaf': 0.0, 'classifier:random_forest:n_estimators': 100, 'preprocessor:fast_ica:algorithm': 'parallel', 'preprocessor:fast_ica:fun': 'exp', 'preprocessor:fast_ica:whiten': 'True', 'preprocessor:fast_ica:n_components': 491},\n",
      "dataset_properties={\n",
      "  'task': 1,\n",
      "  'sparse': False,\n",
      "  'multilabel': False,\n",
      "  'multiclass': False,\n",
      "  'target_type': 'classification',\n",
      "  'signed': False})),\n",
      "]\n"
     ]
    }
   ],
   "source": [
    "cls = autosklearn.classification.AutoSklearnClassifier(time_left_for_this_task=300,per_run_time_limit=150,\n",
    "        ml_memory_limit=20240,ensemble_size=50,ensemble_nbest=200,\n",
    "        initial_configurations_via_metalearning=0,resampling_strategy='cv',\n",
    "        resampling_strategy_arguments={'folds': 5},\n",
    "        seed=42)\n",
    "cls.fit(X_train.copy(), y_train.copy())\n",
    "cls.refit(X_train.copy(),y_train.copy())\n",
    "y_pred = cls.predict(X_test)\n",
    "\n",
    "print(cls.show_models())\n",
    "\n",
    "\n"
   ]
  },
  {
   "cell_type": "code",
   "execution_count": 34,
   "metadata": {},
   "outputs": [
    {
     "name": "stdout",
     "output_type": "stream",
     "text": [
      "Auc score: 0.7210526315789473\n",
      "Acc score: 0.7586206896551724\n"
     ]
    }
   ],
   "source": [
    "auc_sklearn_last=metrics.roc_auc_score(y_test,y_pred)\n",
    "acc_sklearn_last=metrics.accuracy_score(y_test,y_pred)\n",
    "\n",
    "print(\"Auc score:\",auc_sklearn_last)\n",
    "print(\"Acc score:\",acc_sklearn_last)"
   ]
  },
  {
   "cell_type": "markdown",
   "metadata": {},
   "source": [
    "## Dataset \"1 years before\""
   ]
  },
  {
   "cell_type": "code",
   "execution_count": 35,
   "metadata": {
    "scrolled": true
   },
   "outputs": [
    {
     "name": "stdout",
     "output_type": "stream",
     "text": [
      "Our dataset is comprised of 145 rows and 38 columns. We have 49 bankrupted companies and 96 companies that still operate\n"
     ]
    }
   ],
   "source": [
    "df_1year=pd.read_csv(\"last year.csv\")\n",
    "df_1year['final'][df_1year['final']=='Bankrupted']=0\n",
    "df_1year['final'][df_1year['final']=='Non-Bankrupted']=1\n",
    "\n",
    "bankruptcies=df_1year['final'][df_1year['final']==0].count()\n",
    "rows=df_1year.shape[0]\n",
    "columns=df_1year.shape[1]\n",
    "print(f'Our dataset is comprised of {rows} rows and {columns} columns. We have {bankruptcies} bankrupted companies and {rows-bankruptcies} companies that still operate')\n"
   ]
  },
  {
   "cell_type": "markdown",
   "metadata": {},
   "source": [
    "## Train test split and normalizing the data"
   ]
  },
  {
   "cell_type": "code",
   "execution_count": 36,
   "metadata": {
    "collapsed": true
   },
   "outputs": [],
   "source": [
    "np.random.seed(333)\n",
    "\n",
    "X=df_1year.iloc[:,0:-1].values\n",
    "Y=df_1year.iloc[:,-1]\n",
    "X_train,X_test, y_train,y_test = train_test_split(X,Y,test_size=0.2,random_state=43) \n",
    "\n",
    "y_train=y_train.astype(int)\n",
    "y_test=y_test.astype(int)\n",
    "\n",
    "X_train=normalize(X_train)\n",
    "X_test=normalize(X_test)\n",
    "\n"
   ]
  },
  {
   "cell_type": "markdown",
   "metadata": {},
   "source": [
    "## Autosklearn"
   ]
  },
  {
   "cell_type": "code",
   "execution_count": 37,
   "metadata": {
    "scrolled": true
   },
   "outputs": [
    {
     "name": "stdout",
     "output_type": "stream",
     "text": [
      "[WARNING] [2020-03-17 09:19:13,818:EnsembleBuilder(42):d4372048c12e872c84b2f9585388b078] No models better than random - using Dummy Score!\n",
      "[WARNING] [2020-03-17 09:19:13,831:EnsembleBuilder(42):d4372048c12e872c84b2f9585388b078] No models better than random - using Dummy Score!\n",
      "[WARNING] [2020-03-17 09:19:15,846:EnsembleBuilder(42):d4372048c12e872c84b2f9585388b078] No models better than random - using Dummy Score!\n",
      "[WARNING] [2020-03-17 09:19:17,854:EnsembleBuilder(42):d4372048c12e872c84b2f9585388b078] No models better than random - using Dummy Score!\n",
      "42\n",
      "['/tmp/autosklearn_tmp_2541_8033/.auto-sklearn/ensembles/42.0000000000.ensemble', '/tmp/autosklearn_tmp_2541_8033/.auto-sklearn/ensembles/42.0000000001.ensemble', '/tmp/autosklearn_tmp_2541_8033/.auto-sklearn/ensembles/42.0000000002.ensemble', '/tmp/autosklearn_tmp_2541_8033/.auto-sklearn/ensembles/42.0000000003.ensemble', '/tmp/autosklearn_tmp_2541_8033/.auto-sklearn/ensembles/42.0000000004.ensemble', '/tmp/autosklearn_tmp_2541_8033/.auto-sklearn/ensembles/42.0000000005.ensemble', '/tmp/autosklearn_tmp_2541_8033/.auto-sklearn/ensembles/42.0000000006.ensemble', '/tmp/autosklearn_tmp_2541_8033/.auto-sklearn/ensembles/42.0000000007.ensemble', '/tmp/autosklearn_tmp_2541_8033/.auto-sklearn/ensembles/42.0000000008.ensemble', '/tmp/autosklearn_tmp_2541_8033/.auto-sklearn/ensembles/42.0000000009.ensemble', '/tmp/autosklearn_tmp_2541_8033/.auto-sklearn/ensembles/42.0000000010.ensemble', '/tmp/autosklearn_tmp_2541_8033/.auto-sklearn/ensembles/42.0000000011.ensemble', '/tmp/autosklearn_tmp_2541_8033/.auto-sklearn/ensembles/42.0000000012.ensemble', '/tmp/autosklearn_tmp_2541_8033/.auto-sklearn/ensembles/42.0000000013.ensemble', '/tmp/autosklearn_tmp_2541_8033/.auto-sklearn/ensembles/42.0000000014.ensemble', '/tmp/autosklearn_tmp_2541_8033/.auto-sklearn/ensembles/42.0000000015.ensemble', '/tmp/autosklearn_tmp_2541_8033/.auto-sklearn/ensembles/42.0000000016.ensemble', '/tmp/autosklearn_tmp_2541_8033/.auto-sklearn/ensembles/42.0000000017.ensemble', '/tmp/autosklearn_tmp_2541_8033/.auto-sklearn/ensembles/42.0000000018.ensemble', '/tmp/autosklearn_tmp_2541_8033/.auto-sklearn/ensembles/42.0000000019.ensemble', '/tmp/autosklearn_tmp_2541_8033/.auto-sklearn/ensembles/42.0000000020.ensemble', '/tmp/autosklearn_tmp_2541_8033/.auto-sklearn/ensembles/42.0000000021.ensemble', '/tmp/autosklearn_tmp_2541_8033/.auto-sklearn/ensembles/42.0000000022.ensemble', '/tmp/autosklearn_tmp_2541_8033/.auto-sklearn/ensembles/42.0000000023.ensemble', '/tmp/autosklearn_tmp_2541_8033/.auto-sklearn/ensembles/42.0000000024.ensemble', '/tmp/autosklearn_tmp_2541_8033/.auto-sklearn/ensembles/42.0000000025.ensemble', '/tmp/autosklearn_tmp_2541_8033/.auto-sklearn/ensembles/42.0000000026.ensemble', '/tmp/autosklearn_tmp_2541_8033/.auto-sklearn/ensembles/42.0000000027.ensemble', '/tmp/autosklearn_tmp_2541_8033/.auto-sklearn/ensembles/42.0000000028.ensemble', '/tmp/autosklearn_tmp_2541_8033/.auto-sklearn/ensembles/42.0000000029.ensemble', '/tmp/autosklearn_tmp_2541_8033/.auto-sklearn/ensembles/42.0000000030.ensemble', '/tmp/autosklearn_tmp_2541_8033/.auto-sklearn/ensembles/42.0000000031.ensemble', '/tmp/autosklearn_tmp_2541_8033/.auto-sklearn/ensembles/42.0000000032.ensemble', '/tmp/autosklearn_tmp_2541_8033/.auto-sklearn/ensembles/42.0000000033.ensemble', '/tmp/autosklearn_tmp_2541_8033/.auto-sklearn/ensembles/42.0000000034.ensemble', '/tmp/autosklearn_tmp_2541_8033/.auto-sklearn/ensembles/42.0000000035.ensemble', '/tmp/autosklearn_tmp_2541_8033/.auto-sklearn/ensembles/42.0000000036.ensemble']\n",
      "[(0.460000, SimpleClassificationPipeline({'balancing:strategy': 'weighting', 'categorical_encoding:__choice__': 'one_hot_encoding', 'classifier:__choice__': 'multinomial_nb', 'imputation:strategy': 'mean', 'preprocessor:__choice__': 'liblinear_svc_preprocessor', 'rescaling:__choice__': 'normalize', 'categorical_encoding:one_hot_encoding:use_minimum_fraction': 'False', 'classifier:multinomial_nb:alpha': 0.15886249385821313, 'classifier:multinomial_nb:fit_prior': 'False', 'preprocessor:liblinear_svc_preprocessor:C': 34.79124705386491, 'preprocessor:liblinear_svc_preprocessor:dual': 'False', 'preprocessor:liblinear_svc_preprocessor:fit_intercept': 'True', 'preprocessor:liblinear_svc_preprocessor:intercept_scaling': 1, 'preprocessor:liblinear_svc_preprocessor:loss': 'squared_hinge', 'preprocessor:liblinear_svc_preprocessor:multi_class': 'ovr', 'preprocessor:liblinear_svc_preprocessor:penalty': 'l1', 'preprocessor:liblinear_svc_preprocessor:tol': 1.0368854545877722e-05},\n",
      "dataset_properties={\n",
      "  'task': 1,\n",
      "  'sparse': False,\n",
      "  'multilabel': False,\n",
      "  'multiclass': False,\n",
      "  'target_type': 'classification',\n",
      "  'signed': False})),\n",
      "(0.240000, SimpleClassificationPipeline({'balancing:strategy': 'weighting', 'categorical_encoding:__choice__': 'one_hot_encoding', 'classifier:__choice__': 'adaboost', 'imputation:strategy': 'mean', 'preprocessor:__choice__': 'liblinear_svc_preprocessor', 'rescaling:__choice__': 'none', 'categorical_encoding:one_hot_encoding:use_minimum_fraction': 'False', 'classifier:adaboost:algorithm': 'SAMME.R', 'classifier:adaboost:learning_rate': 0.6675842348625202, 'classifier:adaboost:max_depth': 1, 'classifier:adaboost:n_estimators': 363, 'preprocessor:liblinear_svc_preprocessor:C': 2909.747806304255, 'preprocessor:liblinear_svc_preprocessor:dual': 'False', 'preprocessor:liblinear_svc_preprocessor:fit_intercept': 'True', 'preprocessor:liblinear_svc_preprocessor:intercept_scaling': 1, 'preprocessor:liblinear_svc_preprocessor:loss': 'squared_hinge', 'preprocessor:liblinear_svc_preprocessor:multi_class': 'ovr', 'preprocessor:liblinear_svc_preprocessor:penalty': 'l1', 'preprocessor:liblinear_svc_preprocessor:tol': 0.0013453218902917522},\n",
      "dataset_properties={\n",
      "  'task': 1,\n",
      "  'sparse': False,\n",
      "  'multilabel': False,\n",
      "  'multiclass': False,\n",
      "  'target_type': 'classification',\n",
      "  'signed': False})),\n",
      "(0.060000, SimpleClassificationPipeline({'balancing:strategy': 'none', 'categorical_encoding:__choice__': 'one_hot_encoding', 'classifier:__choice__': 'gradient_boosting', 'imputation:strategy': 'most_frequent', 'preprocessor:__choice__': 'liblinear_svc_preprocessor', 'rescaling:__choice__': 'standardize', 'categorical_encoding:one_hot_encoding:use_minimum_fraction': 'False', 'classifier:gradient_boosting:criterion': 'mse', 'classifier:gradient_boosting:learning_rate': 0.054728251483381944, 'classifier:gradient_boosting:loss': 'deviance', 'classifier:gradient_boosting:max_depth': 3, 'classifier:gradient_boosting:max_features': 0.445635243882436, 'classifier:gradient_boosting:max_leaf_nodes': 'None', 'classifier:gradient_boosting:min_impurity_decrease': 0.0, 'classifier:gradient_boosting:min_samples_leaf': 6, 'classifier:gradient_boosting:min_samples_split': 17, 'classifier:gradient_boosting:min_weight_fraction_leaf': 0.0, 'classifier:gradient_boosting:n_estimators': 165, 'classifier:gradient_boosting:subsample': 0.7703313214757509, 'preprocessor:liblinear_svc_preprocessor:C': 0.1068024687939933, 'preprocessor:liblinear_svc_preprocessor:dual': 'False', 'preprocessor:liblinear_svc_preprocessor:fit_intercept': 'True', 'preprocessor:liblinear_svc_preprocessor:intercept_scaling': 1, 'preprocessor:liblinear_svc_preprocessor:loss': 'squared_hinge', 'preprocessor:liblinear_svc_preprocessor:multi_class': 'ovr', 'preprocessor:liblinear_svc_preprocessor:penalty': 'l1', 'preprocessor:liblinear_svc_preprocessor:tol': 0.003494447478616623},\n",
      "dataset_properties={\n",
      "  'task': 1,\n",
      "  'sparse': False,\n",
      "  'multilabel': False,\n",
      "  'multiclass': False,\n",
      "  'target_type': 'classification',\n",
      "  'signed': False})),\n",
      "(0.040000, SimpleClassificationPipeline({'balancing:strategy': 'weighting', 'categorical_encoding:__choice__': 'one_hot_encoding', 'classifier:__choice__': 'decision_tree', 'imputation:strategy': 'median', 'preprocessor:__choice__': 'select_percentile_classification', 'rescaling:__choice__': 'none', 'categorical_encoding:one_hot_encoding:use_minimum_fraction': 'False', 'classifier:decision_tree:criterion': 'gini', 'classifier:decision_tree:max_depth_factor': 1.8048808187843197, 'classifier:decision_tree:max_features': 1.0, 'classifier:decision_tree:max_leaf_nodes': 'None', 'classifier:decision_tree:min_impurity_decrease': 0.0, 'classifier:decision_tree:min_samples_leaf': 6, 'classifier:decision_tree:min_samples_split': 19, 'classifier:decision_tree:min_weight_fraction_leaf': 0.0, 'preprocessor:select_percentile_classification:percentile': 48.341430305504275, 'preprocessor:select_percentile_classification:score_func': 'f_classif'},\n",
      "dataset_properties={\n",
      "  'task': 1,\n",
      "  'sparse': False,\n",
      "  'multilabel': False,\n",
      "  'multiclass': False,\n",
      "  'target_type': 'classification',\n",
      "  'signed': False})),\n",
      "(0.040000, SimpleClassificationPipeline({'balancing:strategy': 'weighting', 'categorical_encoding:__choice__': 'one_hot_encoding', 'classifier:__choice__': 'extra_trees', 'imputation:strategy': 'median', 'preprocessor:__choice__': 'no_preprocessing', 'rescaling:__choice__': 'none', 'categorical_encoding:one_hot_encoding:use_minimum_fraction': 'False', 'classifier:extra_trees:bootstrap': 'True', 'classifier:extra_trees:criterion': 'gini', 'classifier:extra_trees:max_depth': 'None', 'classifier:extra_trees:max_features': 0.7014443542797131, 'classifier:extra_trees:max_leaf_nodes': 'None', 'classifier:extra_trees:min_impurity_decrease': 0.0, 'classifier:extra_trees:min_samples_leaf': 13, 'classifier:extra_trees:min_samples_split': 18, 'classifier:extra_trees:min_weight_fraction_leaf': 0.0, 'classifier:extra_trees:n_estimators': 100},\n",
      "dataset_properties={\n",
      "  'task': 1,\n",
      "  'sparse': False,\n",
      "  'multilabel': False,\n",
      "  'multiclass': False,\n",
      "  'target_type': 'classification',\n",
      "  'signed': False})),\n",
      "(0.040000, SimpleClassificationPipeline({'balancing:strategy': 'weighting', 'categorical_encoding:__choice__': 'one_hot_encoding', 'classifier:__choice__': 'decision_tree', 'imputation:strategy': 'median', 'preprocessor:__choice__': 'select_rates', 'rescaling:__choice__': 'quantile_transformer', 'categorical_encoding:one_hot_encoding:use_minimum_fraction': 'False', 'classifier:decision_tree:criterion': 'entropy', 'classifier:decision_tree:max_depth_factor': 0.5588729453264691, 'classifier:decision_tree:max_features': 1.0, 'classifier:decision_tree:max_leaf_nodes': 'None', 'classifier:decision_tree:min_impurity_decrease': 0.0, 'classifier:decision_tree:min_samples_leaf': 15, 'classifier:decision_tree:min_samples_split': 9, 'classifier:decision_tree:min_weight_fraction_leaf': 0.0, 'preprocessor:select_rates:alpha': 0.2558001397483089, 'preprocessor:select_rates:mode': 'fpr', 'preprocessor:select_rates:score_func': 'chi2', 'rescaling:quantile_transformer:n_quantiles': 1822, 'rescaling:quantile_transformer:output_distribution': 'uniform'},\n",
      "dataset_properties={\n",
      "  'task': 1,\n",
      "  'sparse': False,\n",
      "  'multilabel': False,\n",
      "  'multiclass': False,\n",
      "  'target_type': 'classification',\n",
      "  'signed': False})),\n",
      "(0.020000, SimpleClassificationPipeline({'balancing:strategy': 'none', 'categorical_encoding:__choice__': 'one_hot_encoding', 'classifier:__choice__': 'gradient_boosting', 'imputation:strategy': 'most_frequent', 'preprocessor:__choice__': 'liblinear_svc_preprocessor', 'rescaling:__choice__': 'normalize', 'categorical_encoding:one_hot_encoding:use_minimum_fraction': 'False', 'classifier:gradient_boosting:criterion': 'mse', 'classifier:gradient_boosting:learning_rate': 0.054728251483381944, 'classifier:gradient_boosting:loss': 'deviance', 'classifier:gradient_boosting:max_depth': 3, 'classifier:gradient_boosting:max_features': 0.445635243882436, 'classifier:gradient_boosting:max_leaf_nodes': 'None', 'classifier:gradient_boosting:min_impurity_decrease': 0.0, 'classifier:gradient_boosting:min_samples_leaf': 6, 'classifier:gradient_boosting:min_samples_split': 17, 'classifier:gradient_boosting:min_weight_fraction_leaf': 0.0, 'classifier:gradient_boosting:n_estimators': 165, 'classifier:gradient_boosting:subsample': 0.7703313214757509, 'preprocessor:liblinear_svc_preprocessor:C': 0.1068024687939933, 'preprocessor:liblinear_svc_preprocessor:dual': 'False', 'preprocessor:liblinear_svc_preprocessor:fit_intercept': 'True', 'preprocessor:liblinear_svc_preprocessor:intercept_scaling': 1, 'preprocessor:liblinear_svc_preprocessor:loss': 'squared_hinge', 'preprocessor:liblinear_svc_preprocessor:multi_class': 'ovr', 'preprocessor:liblinear_svc_preprocessor:penalty': 'l1', 'preprocessor:liblinear_svc_preprocessor:tol': 0.003494447478616623},\n",
      "dataset_properties={\n",
      "  'task': 1,\n",
      "  'sparse': False,\n",
      "  'multilabel': False,\n",
      "  'multiclass': False,\n",
      "  'target_type': 'classification',\n",
      "  'signed': False})),\n",
      "(0.020000, SimpleClassificationPipeline({'balancing:strategy': 'weighting', 'categorical_encoding:__choice__': 'no_encoding', 'classifier:__choice__': 'gradient_boosting', 'imputation:strategy': 'most_frequent', 'preprocessor:__choice__': 'pca', 'rescaling:__choice__': 'standardize', 'classifier:gradient_boosting:criterion': 'friedman_mse', 'classifier:gradient_boosting:learning_rate': 0.013835599143875827, 'classifier:gradient_boosting:loss': 'deviance', 'classifier:gradient_boosting:max_depth': 8, 'classifier:gradient_boosting:max_features': 0.4997057833065951, 'classifier:gradient_boosting:max_leaf_nodes': 'None', 'classifier:gradient_boosting:min_impurity_decrease': 0.0, 'classifier:gradient_boosting:min_samples_leaf': 2, 'classifier:gradient_boosting:min_samples_split': 12, 'classifier:gradient_boosting:min_weight_fraction_leaf': 0.0, 'classifier:gradient_boosting:n_estimators': 201, 'classifier:gradient_boosting:subsample': 0.9233900900093288, 'preprocessor:pca:keep_variance': 0.8114837583850993, 'preprocessor:pca:whiten': 'True'},\n",
      "dataset_properties={\n",
      "  'task': 1,\n",
      "  'sparse': False,\n",
      "  'multilabel': False,\n",
      "  'multiclass': False,\n",
      "  'target_type': 'classification',\n",
      "  'signed': False})),\n",
      "(0.020000, SimpleClassificationPipeline({'balancing:strategy': 'weighting', 'categorical_encoding:__choice__': 'no_encoding', 'classifier:__choice__': 'qda', 'imputation:strategy': 'most_frequent', 'preprocessor:__choice__': 'extra_trees_preproc_for_classification', 'rescaling:__choice__': 'standardize', 'classifier:qda:reg_param': 0.6682643137567424, 'preprocessor:extra_trees_preproc_for_classification:bootstrap': 'True', 'preprocessor:extra_trees_preproc_for_classification:criterion': 'gini', 'preprocessor:extra_trees_preproc_for_classification:max_depth': 'None', 'preprocessor:extra_trees_preproc_for_classification:max_features': 0.806630978528111, 'preprocessor:extra_trees_preproc_for_classification:max_leaf_nodes': 'None', 'preprocessor:extra_trees_preproc_for_classification:min_impurity_decrease': 0.0, 'preprocessor:extra_trees_preproc_for_classification:min_samples_leaf': 9, 'preprocessor:extra_trees_preproc_for_classification:min_samples_split': 2, 'preprocessor:extra_trees_preproc_for_classification:min_weight_fraction_leaf': 0.0, 'preprocessor:extra_trees_preproc_for_classification:n_estimators': 100},\n",
      "dataset_properties={\n",
      "  'task': 1,\n",
      "  'sparse': False,\n",
      "  'multilabel': False,\n",
      "  'multiclass': False,\n",
      "  'target_type': 'classification',\n",
      "  'signed': False})),\n",
      "(0.020000, SimpleClassificationPipeline({'balancing:strategy': 'none', 'categorical_encoding:__choice__': 'one_hot_encoding', 'classifier:__choice__': 'qda', 'imputation:strategy': 'median', 'preprocessor:__choice__': 'extra_trees_preproc_for_classification', 'rescaling:__choice__': 'robust_scaler', 'categorical_encoding:one_hot_encoding:use_minimum_fraction': 'False', 'classifier:qda:reg_param': 0.49699477799840264, 'preprocessor:extra_trees_preproc_for_classification:bootstrap': 'True', 'preprocessor:extra_trees_preproc_for_classification:criterion': 'gini', 'preprocessor:extra_trees_preproc_for_classification:max_depth': 'None', 'preprocessor:extra_trees_preproc_for_classification:max_features': 0.8221176410434877, 'preprocessor:extra_trees_preproc_for_classification:max_leaf_nodes': 'None', 'preprocessor:extra_trees_preproc_for_classification:min_impurity_decrease': 0.0, 'preprocessor:extra_trees_preproc_for_classification:min_samples_leaf': 16, 'preprocessor:extra_trees_preproc_for_classification:min_samples_split': 7, 'preprocessor:extra_trees_preproc_for_classification:min_weight_fraction_leaf': 0.0, 'preprocessor:extra_trees_preproc_for_classification:n_estimators': 100, 'rescaling:robust_scaler:q_max': 0.9411193199089896, 'rescaling:robust_scaler:q_min': 0.047698704853686984},\n",
      "dataset_properties={\n",
      "  'task': 1,\n",
      "  'sparse': False,\n",
      "  'multilabel': False,\n",
      "  'multiclass': False,\n",
      "  'target_type': 'classification',\n",
      "  'signed': False})),\n",
      "(0.020000, SimpleClassificationPipeline({'balancing:strategy': 'none', 'categorical_encoding:__choice__': 'one_hot_encoding', 'classifier:__choice__': 'adaboost', 'imputation:strategy': 'mean', 'preprocessor:__choice__': 'no_preprocessing', 'rescaling:__choice__': 'standardize', 'categorical_encoding:one_hot_encoding:use_minimum_fraction': 'True', 'classifier:adaboost:algorithm': 'SAMME.R', 'classifier:adaboost:learning_rate': 0.5366239226453543, 'classifier:adaboost:max_depth': 7, 'classifier:adaboost:n_estimators': 186, 'categorical_encoding:one_hot_encoding:minimum_fraction': 0.0003577387098846521},\n",
      "dataset_properties={\n",
      "  'task': 1,\n",
      "  'sparse': False,\n",
      "  'multilabel': False,\n",
      "  'multiclass': False,\n",
      "  'target_type': 'classification',\n",
      "  'signed': False})),\n",
      "(0.020000, SimpleClassificationPipeline({'balancing:strategy': 'weighting', 'categorical_encoding:__choice__': 'no_encoding', 'classifier:__choice__': 'gradient_boosting', 'imputation:strategy': 'mean', 'preprocessor:__choice__': 'liblinear_svc_preprocessor', 'rescaling:__choice__': 'normalize', 'classifier:gradient_boosting:criterion': 'friedman_mse', 'classifier:gradient_boosting:learning_rate': 0.04209447701895603, 'classifier:gradient_boosting:loss': 'deviance', 'classifier:gradient_boosting:max_depth': 6, 'classifier:gradient_boosting:max_features': 0.8879059984540508, 'classifier:gradient_boosting:max_leaf_nodes': 'None', 'classifier:gradient_boosting:min_impurity_decrease': 0.0, 'classifier:gradient_boosting:min_samples_leaf': 9, 'classifier:gradient_boosting:min_samples_split': 5, 'classifier:gradient_boosting:min_weight_fraction_leaf': 0.0, 'classifier:gradient_boosting:n_estimators': 83, 'classifier:gradient_boosting:subsample': 0.02577883235306444, 'preprocessor:liblinear_svc_preprocessor:C': 0.14041956446272597, 'preprocessor:liblinear_svc_preprocessor:dual': 'False', 'preprocessor:liblinear_svc_preprocessor:fit_intercept': 'True', 'preprocessor:liblinear_svc_preprocessor:intercept_scaling': 1, 'preprocessor:liblinear_svc_preprocessor:loss': 'squared_hinge', 'preprocessor:liblinear_svc_preprocessor:multi_class': 'ovr', 'preprocessor:liblinear_svc_preprocessor:penalty': 'l1', 'preprocessor:liblinear_svc_preprocessor:tol': 0.03000063483063073},\n",
      "dataset_properties={\n",
      "  'task': 1,\n",
      "  'sparse': False,\n",
      "  'multilabel': False,\n",
      "  'multiclass': False,\n",
      "  'target_type': 'classification',\n",
      "  'signed': False})),\n",
      "]\n"
     ]
    }
   ],
   "source": [
    "cls_1year = autosklearn.classification.AutoSklearnClassifier(time_left_for_this_task=300,per_run_time_limit=150,\n",
    "        ml_memory_limit=20240,ensemble_size=50,ensemble_nbest=200,\n",
    "        initial_configurations_via_metalearning=0,resampling_strategy='cv',\n",
    "        resampling_strategy_arguments={'folds': 5},\n",
    "        seed=42)\n",
    "cls_1year.fit(X_train.copy(), y_train.copy())\n",
    "cls_1year.refit(X_train.copy(),y_train.copy())\n",
    "y_pred = cls_1year.predict(X_test)\n",
    "\n",
    "print(cls_1year.show_models())\n",
    "\n",
    "\n"
   ]
  },
  {
   "cell_type": "code",
   "execution_count": 38,
   "metadata": {},
   "outputs": [
    {
     "name": "stdout",
     "output_type": "stream",
     "text": [
      "Auc score: 0.7586206896551724\n",
      "Acc score: 0.7586206896551724\n"
     ]
    }
   ],
   "source": [
    "auc_sklearn_1year=metrics.roc_auc_score(y_test,y_pred)\n",
    "acc_sklearn_1year=metrics.accuracy_score(y_test,y_pred)\n",
    "\n",
    "print(\"Auc score:\",acc_sklearn_1year)\n",
    "print(\"Acc score:\",acc_sklearn_1year)"
   ]
  },
  {
   "cell_type": "markdown",
   "metadata": {},
   "source": [
    "## Dataset \"2 years before\""
   ]
  },
  {
   "cell_type": "code",
   "execution_count": 39,
   "metadata": {
    "scrolled": true
   },
   "outputs": [
    {
     "name": "stdout",
     "output_type": "stream",
     "text": [
      "Our dataset is comprised of 145 rows and 38 columns. We have 49 bankrupted companies and 96 companies that still operate\n"
     ]
    }
   ],
   "source": [
    "df_2year=pd.read_csv(\"last year.csv\")\n",
    "df_2year['final'][df_2year['final']=='Bankrupted']=0\n",
    "df_2year['final'][df_2year['final']=='Non-Bankrupted']=1\n",
    "\n",
    "bankruptcies=df_2year['final'][df_2year['final']==0].count()\n",
    "rows=df_2year.shape[0]\n",
    "columns=df_2year.shape[1]\n",
    "print(f'Our dataset is comprised of {rows} rows and {columns} columns. We have {bankruptcies} bankrupted companies and {rows-bankruptcies} companies that still operate')\n"
   ]
  },
  {
   "cell_type": "markdown",
   "metadata": {},
   "source": [
    "## Train test split and normalizing the data"
   ]
  },
  {
   "cell_type": "code",
   "execution_count": 40,
   "metadata": {
    "collapsed": true
   },
   "outputs": [],
   "source": [
    "np.random.seed(333)\n",
    "\n",
    "X=df_2year.iloc[:,0:-1].values\n",
    "Y=df_2year.iloc[:,-1]\n",
    "X_train,X_test, y_train,y_test = train_test_split(X,Y,test_size=0.2,random_state=43) \n",
    "\n",
    "y_train=y_train.astype(int)\n",
    "y_test=y_test.astype(int)\n",
    "\n",
    "X_train=normalize(X_train)\n",
    "X_test=normalize(X_test)\n",
    "\n"
   ]
  },
  {
   "cell_type": "markdown",
   "metadata": {},
   "source": [
    "## Autosklearn"
   ]
  },
  {
   "cell_type": "code",
   "execution_count": 41,
   "metadata": {
    "scrolled": true
   },
   "outputs": [
    {
     "name": "stdout",
     "output_type": "stream",
     "text": [
      "[WARNING] [2020-03-17 09:24:14,077:EnsembleBuilder(42):d4372048c12e872c84b2f9585388b078] No models better than random - using Dummy Score!\n",
      "[WARNING] [2020-03-17 09:24:14,091:EnsembleBuilder(42):d4372048c12e872c84b2f9585388b078] No models better than random - using Dummy Score!\n",
      "[WARNING] [2020-03-17 09:24:16,106:EnsembleBuilder(42):d4372048c12e872c84b2f9585388b078] No models better than random - using Dummy Score!\n",
      "[WARNING] [2020-03-17 09:24:18,111:EnsembleBuilder(42):d4372048c12e872c84b2f9585388b078] No models better than random - using Dummy Score!\n",
      "42\n",
      "['/tmp/autosklearn_tmp_2541_4206/.auto-sklearn/ensembles/42.0000000000.ensemble', '/tmp/autosklearn_tmp_2541_4206/.auto-sklearn/ensembles/42.0000000001.ensemble', '/tmp/autosklearn_tmp_2541_4206/.auto-sklearn/ensembles/42.0000000002.ensemble', '/tmp/autosklearn_tmp_2541_4206/.auto-sklearn/ensembles/42.0000000003.ensemble', '/tmp/autosklearn_tmp_2541_4206/.auto-sklearn/ensembles/42.0000000004.ensemble', '/tmp/autosklearn_tmp_2541_4206/.auto-sklearn/ensembles/42.0000000005.ensemble', '/tmp/autosklearn_tmp_2541_4206/.auto-sklearn/ensembles/42.0000000006.ensemble', '/tmp/autosklearn_tmp_2541_4206/.auto-sklearn/ensembles/42.0000000007.ensemble', '/tmp/autosklearn_tmp_2541_4206/.auto-sklearn/ensembles/42.0000000008.ensemble', '/tmp/autosklearn_tmp_2541_4206/.auto-sklearn/ensembles/42.0000000009.ensemble', '/tmp/autosklearn_tmp_2541_4206/.auto-sklearn/ensembles/42.0000000010.ensemble', '/tmp/autosklearn_tmp_2541_4206/.auto-sklearn/ensembles/42.0000000011.ensemble', '/tmp/autosklearn_tmp_2541_4206/.auto-sklearn/ensembles/42.0000000012.ensemble', '/tmp/autosklearn_tmp_2541_4206/.auto-sklearn/ensembles/42.0000000013.ensemble', '/tmp/autosklearn_tmp_2541_4206/.auto-sklearn/ensembles/42.0000000014.ensemble', '/tmp/autosklearn_tmp_2541_4206/.auto-sklearn/ensembles/42.0000000015.ensemble', '/tmp/autosklearn_tmp_2541_4206/.auto-sklearn/ensembles/42.0000000016.ensemble', '/tmp/autosklearn_tmp_2541_4206/.auto-sklearn/ensembles/42.0000000017.ensemble', '/tmp/autosklearn_tmp_2541_4206/.auto-sklearn/ensembles/42.0000000018.ensemble', '/tmp/autosklearn_tmp_2541_4206/.auto-sklearn/ensembles/42.0000000019.ensemble', '/tmp/autosklearn_tmp_2541_4206/.auto-sklearn/ensembles/42.0000000020.ensemble', '/tmp/autosklearn_tmp_2541_4206/.auto-sklearn/ensembles/42.0000000021.ensemble', '/tmp/autosklearn_tmp_2541_4206/.auto-sklearn/ensembles/42.0000000022.ensemble', '/tmp/autosklearn_tmp_2541_4206/.auto-sklearn/ensembles/42.0000000023.ensemble', '/tmp/autosklearn_tmp_2541_4206/.auto-sklearn/ensembles/42.0000000024.ensemble', '/tmp/autosklearn_tmp_2541_4206/.auto-sklearn/ensembles/42.0000000025.ensemble', '/tmp/autosklearn_tmp_2541_4206/.auto-sklearn/ensembles/42.0000000026.ensemble', '/tmp/autosklearn_tmp_2541_4206/.auto-sklearn/ensembles/42.0000000027.ensemble', '/tmp/autosklearn_tmp_2541_4206/.auto-sklearn/ensembles/42.0000000028.ensemble', '/tmp/autosklearn_tmp_2541_4206/.auto-sklearn/ensembles/42.0000000029.ensemble', '/tmp/autosklearn_tmp_2541_4206/.auto-sklearn/ensembles/42.0000000030.ensemble', '/tmp/autosklearn_tmp_2541_4206/.auto-sklearn/ensembles/42.0000000031.ensemble', '/tmp/autosklearn_tmp_2541_4206/.auto-sklearn/ensembles/42.0000000032.ensemble', '/tmp/autosklearn_tmp_2541_4206/.auto-sklearn/ensembles/42.0000000033.ensemble', '/tmp/autosklearn_tmp_2541_4206/.auto-sklearn/ensembles/42.0000000034.ensemble', '/tmp/autosklearn_tmp_2541_4206/.auto-sklearn/ensembles/42.0000000035.ensemble']\n",
      "[(0.480000, SimpleClassificationPipeline({'balancing:strategy': 'weighting', 'categorical_encoding:__choice__': 'one_hot_encoding', 'classifier:__choice__': 'multinomial_nb', 'imputation:strategy': 'mean', 'preprocessor:__choice__': 'liblinear_svc_preprocessor', 'rescaling:__choice__': 'normalize', 'categorical_encoding:one_hot_encoding:use_minimum_fraction': 'False', 'classifier:multinomial_nb:alpha': 0.15886249385821313, 'classifier:multinomial_nb:fit_prior': 'False', 'preprocessor:liblinear_svc_preprocessor:C': 34.79124705386491, 'preprocessor:liblinear_svc_preprocessor:dual': 'False', 'preprocessor:liblinear_svc_preprocessor:fit_intercept': 'True', 'preprocessor:liblinear_svc_preprocessor:intercept_scaling': 1, 'preprocessor:liblinear_svc_preprocessor:loss': 'squared_hinge', 'preprocessor:liblinear_svc_preprocessor:multi_class': 'ovr', 'preprocessor:liblinear_svc_preprocessor:penalty': 'l1', 'preprocessor:liblinear_svc_preprocessor:tol': 1.0368854545877722e-05},\n",
      "dataset_properties={\n",
      "  'task': 1,\n",
      "  'sparse': False,\n",
      "  'multilabel': False,\n",
      "  'multiclass': False,\n",
      "  'target_type': 'classification',\n",
      "  'signed': False})),\n",
      "(0.280000, SimpleClassificationPipeline({'balancing:strategy': 'weighting', 'categorical_encoding:__choice__': 'one_hot_encoding', 'classifier:__choice__': 'adaboost', 'imputation:strategy': 'mean', 'preprocessor:__choice__': 'liblinear_svc_preprocessor', 'rescaling:__choice__': 'none', 'categorical_encoding:one_hot_encoding:use_minimum_fraction': 'False', 'classifier:adaboost:algorithm': 'SAMME.R', 'classifier:adaboost:learning_rate': 0.6675842348625202, 'classifier:adaboost:max_depth': 1, 'classifier:adaboost:n_estimators': 363, 'preprocessor:liblinear_svc_preprocessor:C': 2909.747806304255, 'preprocessor:liblinear_svc_preprocessor:dual': 'False', 'preprocessor:liblinear_svc_preprocessor:fit_intercept': 'True', 'preprocessor:liblinear_svc_preprocessor:intercept_scaling': 1, 'preprocessor:liblinear_svc_preprocessor:loss': 'squared_hinge', 'preprocessor:liblinear_svc_preprocessor:multi_class': 'ovr', 'preprocessor:liblinear_svc_preprocessor:penalty': 'l1', 'preprocessor:liblinear_svc_preprocessor:tol': 0.0013453218902917522},\n",
      "dataset_properties={\n",
      "  'task': 1,\n",
      "  'sparse': False,\n",
      "  'multilabel': False,\n",
      "  'multiclass': False,\n",
      "  'target_type': 'classification',\n",
      "  'signed': False})),\n",
      "(0.040000, SimpleClassificationPipeline({'balancing:strategy': 'weighting', 'categorical_encoding:__choice__': 'no_encoding', 'classifier:__choice__': 'lda', 'imputation:strategy': 'median', 'preprocessor:__choice__': 'extra_trees_preproc_for_classification', 'rescaling:__choice__': 'none', 'classifier:lda:n_components': 76, 'classifier:lda:shrinkage': 'None', 'classifier:lda:tol': 0.00032505037459238496, 'preprocessor:extra_trees_preproc_for_classification:bootstrap': 'False', 'preprocessor:extra_trees_preproc_for_classification:criterion': 'gini', 'preprocessor:extra_trees_preproc_for_classification:max_depth': 'None', 'preprocessor:extra_trees_preproc_for_classification:max_features': 0.5986065200361524, 'preprocessor:extra_trees_preproc_for_classification:max_leaf_nodes': 'None', 'preprocessor:extra_trees_preproc_for_classification:min_impurity_decrease': 0.0, 'preprocessor:extra_trees_preproc_for_classification:min_samples_leaf': 15, 'preprocessor:extra_trees_preproc_for_classification:min_samples_split': 11, 'preprocessor:extra_trees_preproc_for_classification:min_weight_fraction_leaf': 0.0, 'preprocessor:extra_trees_preproc_for_classification:n_estimators': 100},\n",
      "dataset_properties={\n",
      "  'task': 1,\n",
      "  'sparse': False,\n",
      "  'multilabel': False,\n",
      "  'multiclass': False,\n",
      "  'target_type': 'classification',\n",
      "  'signed': False})),\n",
      "(0.040000, SimpleClassificationPipeline({'balancing:strategy': 'none', 'categorical_encoding:__choice__': 'one_hot_encoding', 'classifier:__choice__': 'passive_aggressive', 'imputation:strategy': 'median', 'preprocessor:__choice__': 'polynomial', 'rescaling:__choice__': 'standardize', 'categorical_encoding:one_hot_encoding:use_minimum_fraction': 'False', 'classifier:passive_aggressive:C': 9.381674083299868e-05, 'classifier:passive_aggressive:average': 'True', 'classifier:passive_aggressive:fit_intercept': 'True', 'classifier:passive_aggressive:loss': 'hinge', 'classifier:passive_aggressive:tol': 0.002933754159999856, 'preprocessor:polynomial:degree': 3, 'preprocessor:polynomial:include_bias': 'True', 'preprocessor:polynomial:interaction_only': 'False'},\n",
      "dataset_properties={\n",
      "  'task': 1,\n",
      "  'sparse': False,\n",
      "  'multilabel': False,\n",
      "  'multiclass': False,\n",
      "  'target_type': 'classification',\n",
      "  'signed': False})),\n",
      "(0.040000, SimpleClassificationPipeline({'balancing:strategy': 'weighting', 'categorical_encoding:__choice__': 'one_hot_encoding', 'classifier:__choice__': 'extra_trees', 'imputation:strategy': 'median', 'preprocessor:__choice__': 'no_preprocessing', 'rescaling:__choice__': 'none', 'categorical_encoding:one_hot_encoding:use_minimum_fraction': 'False', 'classifier:extra_trees:bootstrap': 'True', 'classifier:extra_trees:criterion': 'gini', 'classifier:extra_trees:max_depth': 'None', 'classifier:extra_trees:max_features': 0.7014443542797131, 'classifier:extra_trees:max_leaf_nodes': 'None', 'classifier:extra_trees:min_impurity_decrease': 0.0, 'classifier:extra_trees:min_samples_leaf': 13, 'classifier:extra_trees:min_samples_split': 18, 'classifier:extra_trees:min_weight_fraction_leaf': 0.0, 'classifier:extra_trees:n_estimators': 100},\n",
      "dataset_properties={\n",
      "  'task': 1,\n",
      "  'sparse': False,\n",
      "  'multilabel': False,\n",
      "  'multiclass': False,\n",
      "  'target_type': 'classification',\n",
      "  'signed': False})),\n",
      "(0.020000, SimpleClassificationPipeline({'balancing:strategy': 'none', 'categorical_encoding:__choice__': 'one_hot_encoding', 'classifier:__choice__': 'gradient_boosting', 'imputation:strategy': 'most_frequent', 'preprocessor:__choice__': 'liblinear_svc_preprocessor', 'rescaling:__choice__': 'standardize', 'categorical_encoding:one_hot_encoding:use_minimum_fraction': 'False', 'classifier:gradient_boosting:criterion': 'mse', 'classifier:gradient_boosting:learning_rate': 0.054728251483381944, 'classifier:gradient_boosting:loss': 'deviance', 'classifier:gradient_boosting:max_depth': 3, 'classifier:gradient_boosting:max_features': 0.445635243882436, 'classifier:gradient_boosting:max_leaf_nodes': 'None', 'classifier:gradient_boosting:min_impurity_decrease': 0.0, 'classifier:gradient_boosting:min_samples_leaf': 6, 'classifier:gradient_boosting:min_samples_split': 17, 'classifier:gradient_boosting:min_weight_fraction_leaf': 0.0, 'classifier:gradient_boosting:n_estimators': 165, 'classifier:gradient_boosting:subsample': 0.7703313214757509, 'preprocessor:liblinear_svc_preprocessor:C': 0.1068024687939933, 'preprocessor:liblinear_svc_preprocessor:dual': 'False', 'preprocessor:liblinear_svc_preprocessor:fit_intercept': 'True', 'preprocessor:liblinear_svc_preprocessor:intercept_scaling': 1, 'preprocessor:liblinear_svc_preprocessor:loss': 'squared_hinge', 'preprocessor:liblinear_svc_preprocessor:multi_class': 'ovr', 'preprocessor:liblinear_svc_preprocessor:penalty': 'l1', 'preprocessor:liblinear_svc_preprocessor:tol': 0.003494447478616623},\n",
      "dataset_properties={\n",
      "  'task': 1,\n",
      "  'sparse': False,\n",
      "  'multilabel': False,\n",
      "  'multiclass': False,\n",
      "  'target_type': 'classification',\n",
      "  'signed': False})),\n",
      "(0.020000, SimpleClassificationPipeline({'balancing:strategy': 'none', 'categorical_encoding:__choice__': 'one_hot_encoding', 'classifier:__choice__': 'adaboost', 'imputation:strategy': 'median', 'preprocessor:__choice__': 'feature_agglomeration', 'rescaling:__choice__': 'none', 'categorical_encoding:one_hot_encoding:use_minimum_fraction': 'False', 'classifier:adaboost:algorithm': 'SAMME', 'classifier:adaboost:learning_rate': 0.02402053087155955, 'classifier:adaboost:max_depth': 3, 'classifier:adaboost:n_estimators': 193, 'preprocessor:feature_agglomeration:affinity': 'euclidean', 'preprocessor:feature_agglomeration:linkage': 'complete', 'preprocessor:feature_agglomeration:n_clusters': 123, 'preprocessor:feature_agglomeration:pooling_func': 'median'},\n",
      "dataset_properties={\n",
      "  'task': 1,\n",
      "  'sparse': False,\n",
      "  'multilabel': False,\n",
      "  'multiclass': False,\n",
      "  'target_type': 'classification',\n",
      "  'signed': False})),\n",
      "(0.020000, SimpleClassificationPipeline({'balancing:strategy': 'weighting', 'categorical_encoding:__choice__': 'one_hot_encoding', 'classifier:__choice__': 'decision_tree', 'imputation:strategy': 'median', 'preprocessor:__choice__': 'select_percentile_classification', 'rescaling:__choice__': 'none', 'categorical_encoding:one_hot_encoding:use_minimum_fraction': 'False', 'classifier:decision_tree:criterion': 'gini', 'classifier:decision_tree:max_depth_factor': 1.8048808187843197, 'classifier:decision_tree:max_features': 1.0, 'classifier:decision_tree:max_leaf_nodes': 'None', 'classifier:decision_tree:min_impurity_decrease': 0.0, 'classifier:decision_tree:min_samples_leaf': 6, 'classifier:decision_tree:min_samples_split': 19, 'classifier:decision_tree:min_weight_fraction_leaf': 0.0, 'preprocessor:select_percentile_classification:percentile': 48.341430305504275, 'preprocessor:select_percentile_classification:score_func': 'f_classif'},\n",
      "dataset_properties={\n",
      "  'task': 1,\n",
      "  'sparse': False,\n",
      "  'multilabel': False,\n",
      "  'multiclass': False,\n",
      "  'target_type': 'classification',\n",
      "  'signed': False})),\n",
      "(0.020000, SimpleClassificationPipeline({'balancing:strategy': 'none', 'categorical_encoding:__choice__': 'one_hot_encoding', 'classifier:__choice__': 'decision_tree', 'imputation:strategy': 'mean', 'preprocessor:__choice__': 'extra_trees_preproc_for_classification', 'rescaling:__choice__': 'quantile_transformer', 'categorical_encoding:one_hot_encoding:use_minimum_fraction': 'False', 'classifier:decision_tree:criterion': 'entropy', 'classifier:decision_tree:max_depth_factor': 0.1609164395502447, 'classifier:decision_tree:max_features': 1.0, 'classifier:decision_tree:max_leaf_nodes': 'None', 'classifier:decision_tree:min_impurity_decrease': 0.0, 'classifier:decision_tree:min_samples_leaf': 7, 'classifier:decision_tree:min_samples_split': 13, 'classifier:decision_tree:min_weight_fraction_leaf': 0.0, 'preprocessor:extra_trees_preproc_for_classification:bootstrap': 'False', 'preprocessor:extra_trees_preproc_for_classification:criterion': 'entropy', 'preprocessor:extra_trees_preproc_for_classification:max_depth': 'None', 'preprocessor:extra_trees_preproc_for_classification:max_features': 0.9421190223172919, 'preprocessor:extra_trees_preproc_for_classification:max_leaf_nodes': 'None', 'preprocessor:extra_trees_preproc_for_classification:min_impurity_decrease': 0.0, 'preprocessor:extra_trees_preproc_for_classification:min_samples_leaf': 14, 'preprocessor:extra_trees_preproc_for_classification:min_samples_split': 18, 'preprocessor:extra_trees_preproc_for_classification:min_weight_fraction_leaf': 0.0, 'preprocessor:extra_trees_preproc_for_classification:n_estimators': 100, 'rescaling:quantile_transformer:n_quantiles': 619, 'rescaling:quantile_transformer:output_distribution': 'normal'},\n",
      "dataset_properties={\n",
      "  'task': 1,\n",
      "  'sparse': False,\n",
      "  'multilabel': False,\n",
      "  'multiclass': False,\n",
      "  'target_type': 'classification',\n",
      "  'signed': False})),\n",
      "(0.020000, SimpleClassificationPipeline({'balancing:strategy': 'none', 'categorical_encoding:__choice__': 'one_hot_encoding', 'classifier:__choice__': 'qda', 'imputation:strategy': 'median', 'preprocessor:__choice__': 'extra_trees_preproc_for_classification', 'rescaling:__choice__': 'robust_scaler', 'categorical_encoding:one_hot_encoding:use_minimum_fraction': 'False', 'classifier:qda:reg_param': 0.49699477799840264, 'preprocessor:extra_trees_preproc_for_classification:bootstrap': 'True', 'preprocessor:extra_trees_preproc_for_classification:criterion': 'gini', 'preprocessor:extra_trees_preproc_for_classification:max_depth': 'None', 'preprocessor:extra_trees_preproc_for_classification:max_features': 0.8221176410434877, 'preprocessor:extra_trees_preproc_for_classification:max_leaf_nodes': 'None', 'preprocessor:extra_trees_preproc_for_classification:min_impurity_decrease': 0.0, 'preprocessor:extra_trees_preproc_for_classification:min_samples_leaf': 16, 'preprocessor:extra_trees_preproc_for_classification:min_samples_split': 7, 'preprocessor:extra_trees_preproc_for_classification:min_weight_fraction_leaf': 0.0, 'preprocessor:extra_trees_preproc_for_classification:n_estimators': 100, 'rescaling:robust_scaler:q_max': 0.9411193199089896, 'rescaling:robust_scaler:q_min': 0.047698704853686984},\n",
      "dataset_properties={\n",
      "  'task': 1,\n",
      "  'sparse': False,\n",
      "  'multilabel': False,\n",
      "  'multiclass': False,\n",
      "  'target_type': 'classification',\n",
      "  'signed': False})),\n",
      "(0.020000, SimpleClassificationPipeline({'balancing:strategy': 'none', 'categorical_encoding:__choice__': 'one_hot_encoding', 'classifier:__choice__': 'adaboost', 'imputation:strategy': 'mean', 'preprocessor:__choice__': 'no_preprocessing', 'rescaling:__choice__': 'standardize', 'categorical_encoding:one_hot_encoding:use_minimum_fraction': 'True', 'classifier:adaboost:algorithm': 'SAMME.R', 'classifier:adaboost:learning_rate': 0.5366239226453543, 'classifier:adaboost:max_depth': 7, 'classifier:adaboost:n_estimators': 186, 'categorical_encoding:one_hot_encoding:minimum_fraction': 0.0003577387098846521},\n",
      "dataset_properties={\n",
      "  'task': 1,\n",
      "  'sparse': False,\n",
      "  'multilabel': False,\n",
      "  'multiclass': False,\n",
      "  'target_type': 'classification',\n",
      "  'signed': False})),\n",
      "]\n"
     ]
    }
   ],
   "source": [
    "cls_2year = autosklearn.classification.AutoSklearnClassifier(time_left_for_this_task=300,per_run_time_limit=150,\n",
    "        ml_memory_limit=20240,ensemble_size=50,ensemble_nbest=200,\n",
    "        initial_configurations_via_metalearning=0,resampling_strategy='cv',\n",
    "        resampling_strategy_arguments={'folds': 5},\n",
    "        seed=42)\n",
    "cls_2year.fit(X_train.copy(), y_train.copy())\n",
    "cls_2year.refit(X_train.copy(),y_train.copy())\n",
    "y_pred = cls_2year.predict(X_test)\n",
    "\n",
    "print(cls_2year.show_models())\n",
    "\n",
    "\n"
   ]
  },
  {
   "cell_type": "code",
   "execution_count": 43,
   "metadata": {},
   "outputs": [
    {
     "name": "stdout",
     "output_type": "stream",
     "text": [
      "Auc score: 0.6710526315789473\n",
      "Acc score: 0.7241379310344828\n"
     ]
    }
   ],
   "source": [
    "auc_sklearn_2year=metrics.roc_auc_score(y_test,y_pred)\n",
    "acc_sklearn_2year=metrics.accuracy_score(y_test,y_pred)\n",
    "\n",
    "print(\"Auc score:\",auc_sklearn_2year)\n",
    "print(\"Acc score:\",acc_sklearn_2year)"
   ]
  },
  {
   "cell_type": "markdown",
   "metadata": {},
   "source": [
    "## Results"
   ]
  },
  {
   "cell_type": "code",
   "execution_count": 46,
   "metadata": {},
   "outputs": [
    {
     "data": {
      "text/html": [
       "<div>\n",
       "<style>\n",
       "    .dataframe thead tr:only-child th {\n",
       "        text-align: right;\n",
       "    }\n",
       "\n",
       "    .dataframe thead th {\n",
       "        text-align: left;\n",
       "    }\n",
       "\n",
       "    .dataframe tbody tr th {\n",
       "        vertical-align: top;\n",
       "    }\n",
       "</style>\n",
       "<table border=\"1\" class=\"dataframe\">\n",
       "  <thead>\n",
       "    <tr style=\"text-align: right;\">\n",
       "      <th></th>\n",
       "      <th>AUC</th>\n",
       "      <th>accuracy</th>\n",
       "    </tr>\n",
       "  </thead>\n",
       "  <tbody>\n",
       "    <tr>\n",
       "      <th>1 years before</th>\n",
       "      <td>0.721053</td>\n",
       "      <td>0.758621</td>\n",
       "    </tr>\n",
       "    <tr>\n",
       "      <th>2 years before</th>\n",
       "      <td>0.671053</td>\n",
       "      <td>0.724138</td>\n",
       "    </tr>\n",
       "    <tr>\n",
       "      <th>Last year</th>\n",
       "      <td>0.721053</td>\n",
       "      <td>0.758621</td>\n",
       "    </tr>\n",
       "  </tbody>\n",
       "</table>\n",
       "</div>"
      ],
      "text/plain": [
       "                     AUC  accuracy\n",
       "1 years before  0.721053  0.758621\n",
       "2 years before  0.671053  0.724138\n",
       "Last year       0.721053  0.758621"
      ]
     },
     "execution_count": 46,
     "metadata": {},
     "output_type": "execute_result"
    }
   ],
   "source": [
    "data={'AUC':[auc_sklearn_1year,auc_sklearn_2year,auc_sklearn_last],\n",
    "     'accuracy':[acc_sklearn_1year,acc_sklearn_2year,acc_sklearn_last]}\n",
    "\n",
    "results=pd.DataFrame(data,index=['1 years before','2 years before','Last year'])\n",
    "results"
   ]
  },
  {
   "cell_type": "code",
   "execution_count": null,
   "metadata": {
    "collapsed": true
   },
   "outputs": [],
   "source": []
  }
 ],
 "metadata": {
  "kernelspec": {
   "display_name": "Python 3",
   "language": "python",
   "name": "python3"
  },
  "language_info": {
   "codemirror_mode": {
    "name": "ipython",
    "version": 3
   },
   "file_extension": ".py",
   "mimetype": "text/x-python",
   "name": "python",
   "nbconvert_exporter": "python",
   "pygments_lexer": "ipython3",
   "version": "3.6.9"
  }
 },
 "nbformat": 4,
 "nbformat_minor": 2
}
