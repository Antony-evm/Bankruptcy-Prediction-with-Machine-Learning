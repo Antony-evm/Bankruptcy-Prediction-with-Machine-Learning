{
 "cells": [
  {
   "cell_type": "code",
   "execution_count": 1,
   "metadata": {},
   "outputs": [],
   "source": [
    "import pandas as pd\n",
    "import numpy as np\n",
    "import matplotlib.pyplot as plt\n",
    "import warnings\n",
    "from sklearn.preprocessing import normalize\n",
    "\n",
    "warnings.filterwarnings('ignore')\n",
    "\n",
    "from sklearn import svm\n",
    "from sklearn.tree import DecisionTreeClassifier\n",
    "from sklearn.naive_bayes import GaussianNB\n",
    "from sklearn.linear_model import LogisticRegression\n",
    "\n",
    "from tensorflow.keras.models import Sequential\n",
    "from tensorflow.keras.layers import Dense,LSTM,Flatten\n",
    "from tensorflow.keras.optimizers import SGD,Adam\n",
    "from tensorflow.keras.callbacks import EarlyStopping,ModelCheckpoint,ReduceLROnPlateau\n",
    "\n",
    "\n",
    "from sklearn.model_selection import train_test_split\n",
    "\n",
    "from sklearn import metrics\n",
    "\n",
    "import h2o\n",
    "from h2o.automl import H2OAutoML\n",
    "from h2o.estimators.gbm import H2OGradientBoostingEstimator"
   ]
  },
  {
   "cell_type": "code",
   "execution_count": 2,
   "metadata": {
    "scrolled": true
   },
   "outputs": [
    {
     "name": "stdout",
     "output_type": "stream",
     "text": [
      "Checking whether there is an H2O instance running at http://localhost:54321 ..... not found.\n",
      "Attempting to start a local H2O server...\n",
      "; Java HotSpot(TM) Client VM (build 25.201-b09, mixed mode, sharing)\n",
      "  Starting server from C:\\Users\\anton\\AppData\\Roaming\\Python\\Python36\\site-packages\\h2o\\backend\\bin\\h2o.jar\n",
      "  Ice root: C:\\Users\\anton\\AppData\\Local\\Temp\\tmpwrizhnut\n",
      "  JVM stdout: C:\\Users\\anton\\AppData\\Local\\Temp\\tmpwrizhnut\\h2o_anton_started_from_python.out\n",
      "  JVM stderr: C:\\Users\\anton\\AppData\\Local\\Temp\\tmpwrizhnut\\h2o_anton_started_from_python.err\n",
      "  Server is running at http://127.0.0.1:54321\n",
      "Connecting to H2O server at http://127.0.0.1:54321 ... successful.\n",
      "Warning: Your H2O cluster version is too old (3 months and 11 days)! Please download and install the latest version from http://h2o.ai/download/\n"
     ]
    },
    {
     "data": {
      "text/html": [
       "<div style=\"overflow:auto\"><table style=\"width:50%\"><tr><td>H2O cluster uptime:</td>\n",
       "<td>03 secs</td></tr>\n",
       "<tr><td>H2O cluster timezone:</td>\n",
       "<td>Europe/Athens</td></tr>\n",
       "<tr><td>H2O data parsing timezone:</td>\n",
       "<td>UTC</td></tr>\n",
       "<tr><td>H2O cluster version:</td>\n",
       "<td>3.26.0.11</td></tr>\n",
       "<tr><td>H2O cluster version age:</td>\n",
       "<td>3 months and 11 days !!!</td></tr>\n",
       "<tr><td>H2O cluster name:</td>\n",
       "<td>H2O_from_python_anton_12i9nr</td></tr>\n",
       "<tr><td>H2O cluster total nodes:</td>\n",
       "<td>1</td></tr>\n",
       "<tr><td>H2O cluster free memory:</td>\n",
       "<td>247.5 Mb</td></tr>\n",
       "<tr><td>H2O cluster total cores:</td>\n",
       "<td>8</td></tr>\n",
       "<tr><td>H2O cluster allowed cores:</td>\n",
       "<td>8</td></tr>\n",
       "<tr><td>H2O cluster status:</td>\n",
       "<td>accepting new members, healthy</td></tr>\n",
       "<tr><td>H2O connection url:</td>\n",
       "<td>http://127.0.0.1:54321</td></tr>\n",
       "<tr><td>H2O connection proxy:</td>\n",
       "<td>{'http': None, 'https': None}</td></tr>\n",
       "<tr><td>H2O internal security:</td>\n",
       "<td>False</td></tr>\n",
       "<tr><td>H2O API Extensions:</td>\n",
       "<td>Amazon S3, Algos, AutoML, Core V3, TargetEncoder, Core V4</td></tr>\n",
       "<tr><td>Python version:</td>\n",
       "<td>3.6.9 final</td></tr></table></div>"
      ],
      "text/plain": [
       "--------------------------  ---------------------------------------------------------\n",
       "H2O cluster uptime:         03 secs\n",
       "H2O cluster timezone:       Europe/Athens\n",
       "H2O data parsing timezone:  UTC\n",
       "H2O cluster version:        3.26.0.11\n",
       "H2O cluster version age:    3 months and 11 days !!!\n",
       "H2O cluster name:           H2O_from_python_anton_12i9nr\n",
       "H2O cluster total nodes:    1\n",
       "H2O cluster free memory:    247.5 Mb\n",
       "H2O cluster total cores:    8\n",
       "H2O cluster allowed cores:  8\n",
       "H2O cluster status:         accepting new members, healthy\n",
       "H2O connection url:         http://127.0.0.1:54321\n",
       "H2O connection proxy:       {'http': None, 'https': None}\n",
       "H2O internal security:      False\n",
       "H2O API Extensions:         Amazon S3, Algos, AutoML, Core V3, TargetEncoder, Core V4\n",
       "Python version:             3.6.9 final\n",
       "--------------------------  ---------------------------------------------------------"
      ]
     },
     "metadata": {},
     "output_type": "display_data"
    }
   ],
   "source": [
    "h2o.init()"
   ]
  },
  {
   "cell_type": "markdown",
   "metadata": {},
   "source": [
    "## First we deal with the dataset \"last year\""
   ]
  },
  {
   "cell_type": "code",
   "execution_count": 3,
   "metadata": {},
   "outputs": [],
   "source": [
    "df=pd.read_csv(\"last year.csv\")"
   ]
  },
  {
   "cell_type": "code",
   "execution_count": 4,
   "metadata": {},
   "outputs": [
    {
     "name": "stdout",
     "output_type": "stream",
     "text": [
      "Parse progress: |█████████████████████████████████████████████████████████| 100%\n"
     ]
    }
   ],
   "source": [
    "hf=h2o.H2OFrame(df)"
   ]
  },
  {
   "cell_type": "code",
   "execution_count": 5,
   "metadata": {},
   "outputs": [
    {
     "data": {
      "text/html": [
       "<table>\n",
       "<thead>\n",
       "<tr><th style=\"text-align: right;\">  SIZE-3year</th><th style=\"text-align: right;\">  GR-PROFIT-MARGIN-3year</th><th style=\"text-align: right;\">  CAPITAL-EMPLOYED-TURNOVER-3year</th><th style=\"text-align: right;\">  STOCKHOLDERS-EQUITY-TURNOVER-3year</th><th style=\"text-align: right;\">  CAPITAL-EMPLOYED/NET-FIXED-ASSETS-3year</th><th style=\"text-align: right;\">  DEBT/EQUITY-3year</th><th style=\"text-align: right;\">  EQUITY/CAPITAL-EMPLOYED-3year</th><th style=\"text-align: right;\">  WORKING-CAPITAL/TOTAL-ASSETS-3year</th><th style=\"text-align: right;\">  AV-COLLECTION-PERIOD-FOR-RECIEVABLES-3year</th><th style=\"text-align: right;\">  AV-PAYMENT-PERIOD-3year</th><th style=\"text-align: right;\">  AV-TURNOVER-PERIOD-FOR-INVENTORIES-3year</th><th style=\"text-align: right;\">  SCALED-CHANGE-ASSETS-2year</th><th style=\"text-align: right;\">  SIZE-2year</th><th style=\"text-align: right;\">  CH.NET-INCOME-2year</th><th style=\"text-align: right;\">  GR-PROFIT-MARGIN-2year</th><th style=\"text-align: right;\">  CAPITAL-EMPLOYED-TURNOVER-2year</th><th style=\"text-align: right;\">  STOCKHOLDERS-EQUITY-TURNOVER-2year</th><th style=\"text-align: right;\">  CAPITAL-EMPLOYED/NET-FIXED-ASSETS-2year</th><th style=\"text-align: right;\">  DEBT/EQUITY-2year</th><th style=\"text-align: right;\">  EQUITY/CAPITAL-EMPLOYED-2year</th><th style=\"text-align: right;\">  WORKING-CAPITAL/TOTAL-ASSETS-2year</th><th style=\"text-align: right;\">  AV-COLLECTION-PERIOD-FOR-RECIEVABLES-2year</th><th style=\"text-align: right;\">  AV-PAYMENT-PERIOD-2year</th><th style=\"text-align: right;\">  AV-TURNOVER-PERIOD-FOR-INVENTORIES-2year</th><th style=\"text-align: right;\">  SCALED-CHANGE-ASSETS</th><th style=\"text-align: right;\">   SIZE</th><th style=\"text-align: right;\">  CH.NET-INCOME</th><th style=\"text-align: right;\">  GR-PROFIT-MARGIN</th><th style=\"text-align: right;\">  CAPITAL-EMPLOYED-TURNOVER</th><th style=\"text-align: right;\">  STOCKHOLDERS-EQUITY-TURNOVER</th><th style=\"text-align: right;\">  CAPITAL-EMPLOYED/NET-FIXED-ASSETS</th><th style=\"text-align: right;\">  DEBT/EQUITY</th><th style=\"text-align: right;\">  EQUITY/CAPITAL-EMPLOYED</th><th style=\"text-align: right;\">  WORKING-CAPITAL/TOTAL-ASSETS</th><th style=\"text-align: right;\">  AV-COLLECTION-PERIOD-FOR-RECIEVABLES</th><th style=\"text-align: right;\">  AV-PAYMENT-PERIOD</th><th style=\"text-align: right;\">  AV-TURNOVER-PERIOD-FOR-INVENTORIES</th><th>final     </th></tr>\n",
       "</thead>\n",
       "<tbody>\n",
       "<tr><td style=\"text-align: right;\">     17.0484</td><td style=\"text-align: right;\">                11.394  </td><td style=\"text-align: right;\">                         8.55332 </td><td style=\"text-align: right;\">                            9.78249 </td><td style=\"text-align: right;\">                                 0.545139</td><td style=\"text-align: right;\">          22.9557  </td><td style=\"text-align: right;\">                       0.87435 </td><td style=\"text-align: right;\">                           -0.338667</td><td style=\"text-align: right;\">                                    431.196 </td><td style=\"text-align: right;\">                 307.434 </td><td style=\"text-align: right;\">                                   59.9585</td><td style=\"text-align: right;\">                   -0.163349</td><td style=\"text-align: right;\">     16.7187</td><td style=\"text-align: right;\">            -0.332261</td><td style=\"text-align: right;\">                0.007019</td><td style=\"text-align: right;\">                         4.43754 </td><td style=\"text-align: right;\">                            5.07321 </td><td style=\"text-align: right;\">                                 1.76599 </td><td style=\"text-align: right;\">          16.5084  </td><td style=\"text-align: right;\">                       0.874702</td><td style=\"text-align: right;\">                            0.0109  </td><td style=\"text-align: right;\">                                    698.487 </td><td style=\"text-align: right;\">                 326.597 </td><td style=\"text-align: right;\">                                    0     </td><td style=\"text-align: right;\">              0.044032</td><td style=\"text-align: right;\">16.8068</td><td style=\"text-align: right;\">      -1       </td><td style=\"text-align: right;\">           11.8664</td><td style=\"text-align: right;\">                   2.79988 </td><td style=\"text-align: right;\">                      3.51854 </td><td style=\"text-align: right;\">                           1.09679 </td><td style=\"text-align: right;\">     35.1517 </td><td style=\"text-align: right;\">                 0.795749</td><td style=\"text-align: right;\">                     -0.024809</td><td style=\"text-align: right;\">                             2233.51  </td><td style=\"text-align: right;\">            939.705</td><td style=\"text-align: right;\">                            0       </td><td>Bankrupted</td></tr>\n",
       "<tr><td style=\"text-align: right;\">     17.7774</td><td style=\"text-align: right;\">                 5.02206</td><td style=\"text-align: right;\">                         0.405121</td><td style=\"text-align: right;\">                            0.405121</td><td style=\"text-align: right;\">                                 1.33546 </td><td style=\"text-align: right;\">           0.676128</td><td style=\"text-align: right;\">                       1       </td><td style=\"text-align: right;\">                            0.073301</td><td style=\"text-align: right;\">                                     61.8285</td><td style=\"text-align: right;\">                 134.43  </td><td style=\"text-align: right;\">                                  365.416 </td><td style=\"text-align: right;\">                    0.028336</td><td style=\"text-align: right;\">     17.8341</td><td style=\"text-align: right;\">            -0.472987</td><td style=\"text-align: right;\">               20.1219  </td><td style=\"text-align: right;\">                         0.455641</td><td style=\"text-align: right;\">                            0.500191</td><td style=\"text-align: right;\">                                 1.12506 </td><td style=\"text-align: right;\">           0.804943</td><td style=\"text-align: right;\">                       0.910933</td><td style=\"text-align: right;\">                            0.008382</td><td style=\"text-align: right;\">                                     50.3083</td><td style=\"text-align: right;\">                 276.609 </td><td style=\"text-align: right;\">                                  366.879 </td><td style=\"text-align: right;\">             -0.097722</td><td style=\"text-align: right;\">17.638 </td><td style=\"text-align: right;\">      -1       </td><td style=\"text-align: right;\">          -48.8533</td><td style=\"text-align: right;\">                   1.8397  </td><td style=\"text-align: right;\">                      2.40263 </td><td style=\"text-align: right;\">                           0.459472</td><td style=\"text-align: right;\">      3.11552</td><td style=\"text-align: right;\">                 0.765702</td><td style=\"text-align: right;\">                     -0.494313</td><td style=\"text-align: right;\">                               33.6375</td><td style=\"text-align: right;\">            129.11 </td><td style=\"text-align: right;\">                           45.7495  </td><td>Bankrupted</td></tr>\n",
       "<tr><td style=\"text-align: right;\">     11.8552</td><td style=\"text-align: right;\">                 6.37271</td><td style=\"text-align: right;\">                         2.93941 </td><td style=\"text-align: right;\">                            2.93941 </td><td style=\"text-align: right;\">                                50.0545  </td><td style=\"text-align: right;\">           2.08991 </td><td style=\"text-align: right;\">                       1       </td><td style=\"text-align: right;\">                            0.192623</td><td style=\"text-align: right;\">                                    188.645 </td><td style=\"text-align: right;\">                  29.3107</td><td style=\"text-align: right;\">                                  109.392 </td><td style=\"text-align: right;\">                    0.319564</td><td style=\"text-align: right;\">     12.5176</td><td style=\"text-align: right;\">             1       </td><td style=\"text-align: right;\">               17.3665  </td><td style=\"text-align: right;\">                         1.58542 </td><td style=\"text-align: right;\">                            1.58543 </td><td style=\"text-align: right;\">                               378.147   </td><td style=\"text-align: right;\">           1.05019 </td><td style=\"text-align: right;\">                       0.999993</td><td style=\"text-align: right;\">                            0.427538</td><td style=\"text-align: right;\">                                    283.19  </td><td style=\"text-align: right;\">                 195.588 </td><td style=\"text-align: right;\">                                   89.9187</td><td style=\"text-align: right;\">              0.329882</td><td style=\"text-align: right;\">13.2029</td><td style=\"text-align: right;\">      -1       </td><td style=\"text-align: right;\">           -0.0022</td><td style=\"text-align: right;\">                   3.9575  </td><td style=\"text-align: right;\">                      3.9575  </td><td style=\"text-align: right;\">                          41.1074  </td><td style=\"text-align: right;\">      3.72599</td><td style=\"text-align: right;\">                 1       </td><td style=\"text-align: right;\">                      0.171188</td><td style=\"text-align: right;\">                              359.853 </td><td style=\"text-align: right;\">            317.256</td><td style=\"text-align: right;\">                           17.1971  </td><td>Bankrupted</td></tr>\n",
       "<tr><td style=\"text-align: right;\">     13.9112</td><td style=\"text-align: right;\">                16.4816 </td><td style=\"text-align: right;\">                         5.66139 </td><td style=\"text-align: right;\">                            5.66136 </td><td style=\"text-align: right;\">                                13.3043  </td><td style=\"text-align: right;\">           6.36057 </td><td style=\"text-align: right;\">                       1.00001 </td><td style=\"text-align: right;\">                            0.101952</td><td style=\"text-align: right;\">                                    357.85  </td><td style=\"text-align: right;\">                 239.631 </td><td style=\"text-align: right;\">                                    0     </td><td style=\"text-align: right;\">                    0.036113</td><td style=\"text-align: right;\">     13.9834</td><td style=\"text-align: right;\">             0.298251</td><td style=\"text-align: right;\">               20.037   </td><td style=\"text-align: right;\">                         5.80123 </td><td style=\"text-align: right;\">                            5.80123 </td><td style=\"text-align: right;\">                                12.6862  </td><td style=\"text-align: right;\">           6.6823  </td><td style=\"text-align: right;\">                       1       </td><td style=\"text-align: right;\">                            0.0906  </td><td style=\"text-align: right;\">                                    271.615 </td><td style=\"text-align: right;\">                 288.644 </td><td style=\"text-align: right;\">                                    0     </td><td style=\"text-align: right;\">              0.061063</td><td style=\"text-align: right;\">14.1057</td><td style=\"text-align: right;\">       0.040065</td><td style=\"text-align: right;\">           18.0594</td><td style=\"text-align: right;\">                   7.0608  </td><td style=\"text-align: right;\">                      7.0608  </td><td style=\"text-align: right;\">                          20.4195  </td><td style=\"text-align: right;\">      7.69199</td><td style=\"text-align: right;\">                 1       </td><td style=\"text-align: right;\">                      0.082127</td><td style=\"text-align: right;\">                              310.991 </td><td style=\"text-align: right;\">            204.567</td><td style=\"text-align: right;\">                            0       </td><td>Bankrupted</td></tr>\n",
       "<tr><td style=\"text-align: right;\">     14.934 </td><td style=\"text-align: right;\">                24.8771 </td><td style=\"text-align: right;\">                         6.29598 </td><td style=\"text-align: right;\">                            6.29598 </td><td style=\"text-align: right;\">                                 0.855904</td><td style=\"text-align: right;\">           5.91638 </td><td style=\"text-align: right;\">                       1       </td><td style=\"text-align: right;\">                           -0.079627</td><td style=\"text-align: right;\">                                    232.387 </td><td style=\"text-align: right;\">                 173.792 </td><td style=\"text-align: right;\">                                   58.0486</td><td style=\"text-align: right;\">                    0.054719</td><td style=\"text-align: right;\">     15.0435</td><td style=\"text-align: right;\">            -1       </td><td style=\"text-align: right;\">               20.1757  </td><td style=\"text-align: right;\">                         7.0686  </td><td style=\"text-align: right;\">                            7.0686  </td><td style=\"text-align: right;\">                                 0.731521</td><td style=\"text-align: right;\">           7.84956 </td><td style=\"text-align: right;\">                       1       </td><td style=\"text-align: right;\">                           -0.118476</td><td style=\"text-align: right;\">                                    241.826 </td><td style=\"text-align: right;\">                 183.836 </td><td style=\"text-align: right;\">                                   57.2869</td><td style=\"text-align: right;\">             -0.276377</td><td style=\"text-align: right;\">14.476 </td><td style=\"text-align: right;\">      -0.639322</td><td style=\"text-align: right;\">           18.532 </td><td style=\"text-align: right;\">                   7.52303 </td><td style=\"text-align: right;\">                      7.523   </td><td style=\"text-align: right;\">                           0.54607 </td><td style=\"text-align: right;\">      8.23642</td><td style=\"text-align: right;\">                 1       </td><td style=\"text-align: right;\">                     -0.277293</td><td style=\"text-align: right;\">                               70.5558</td><td style=\"text-align: right;\">            167.958</td><td style=\"text-align: right;\">                           16.6845  </td><td>Bankrupted</td></tr>\n",
       "<tr><td style=\"text-align: right;\">     13.7423</td><td style=\"text-align: right;\">                38.3074 </td><td style=\"text-align: right;\">                         6.12232 </td><td style=\"text-align: right;\">                            6.12232 </td><td style=\"text-align: right;\">                                 0.526064</td><td style=\"text-align: right;\">           5.63726 </td><td style=\"text-align: right;\">                       1       </td><td style=\"text-align: right;\">                           -0.283839</td><td style=\"text-align: right;\">                                     11.8471</td><td style=\"text-align: right;\">                 245.601 </td><td style=\"text-align: right;\">                                    0     </td><td style=\"text-align: right;\">                    0.298616</td><td style=\"text-align: right;\">     14.3583</td><td style=\"text-align: right;\">            -0.351794</td><td style=\"text-align: right;\">               38.8719  </td><td style=\"text-align: right;\">                         5.69165 </td><td style=\"text-align: right;\">                            5.69161 </td><td style=\"text-align: right;\">                                 0.448397</td><td style=\"text-align: right;\">          10.4069  </td><td style=\"text-align: right;\">                       1.00001 </td><td style=\"text-align: right;\">                           -0.218278</td><td style=\"text-align: right;\">                                    240.976 </td><td style=\"text-align: right;\">                 418.328 </td><td style=\"text-align: right;\">                                    0     </td><td style=\"text-align: right;\">              0.218348</td><td style=\"text-align: right;\">14.8021</td><td style=\"text-align: right;\">       0.666632</td><td style=\"text-align: right;\">           26.8184</td><td style=\"text-align: right;\">                   4.98607 </td><td style=\"text-align: right;\">                      4.98607 </td><td style=\"text-align: right;\">                           1.10773 </td><td style=\"text-align: right;\">      7.3506 </td><td style=\"text-align: right;\">                 1       </td><td style=\"text-align: right;\">                     -0.083698</td><td style=\"text-align: right;\">                              154.362 </td><td style=\"text-align: right;\">            133.217</td><td style=\"text-align: right;\">                            0.132322</td><td>Bankrupted</td></tr>\n",
       "<tr><td style=\"text-align: right;\">     15.12  </td><td style=\"text-align: right;\">                19.4367 </td><td style=\"text-align: right;\">                         6.70298 </td><td style=\"text-align: right;\">                            6.70298 </td><td style=\"text-align: right;\">                                63.7685  </td><td style=\"text-align: right;\">           5.35213 </td><td style=\"text-align: right;\">                       1       </td><td style=\"text-align: right;\">                            0.14074 </td><td style=\"text-align: right;\">                                    311.934 </td><td style=\"text-align: right;\">                  29.9276</td><td style=\"text-align: right;\">                                   32.6707</td><td style=\"text-align: right;\">                   -0.083622</td><td style=\"text-align: right;\">     14.9524</td><td style=\"text-align: right;\">             0.492204</td><td style=\"text-align: right;\">               15.3583  </td><td style=\"text-align: right;\">                         5.24937 </td><td style=\"text-align: right;\">                            5.24937 </td><td style=\"text-align: right;\">                                79.2801  </td><td style=\"text-align: right;\">           4.25741 </td><td style=\"text-align: right;\">                       1       </td><td style=\"text-align: right;\">                            0.173942</td><td style=\"text-align: right;\">                                    325.461 </td><td style=\"text-align: right;\">                  42.9279</td><td style=\"text-align: right;\">                                   30.3994</td><td style=\"text-align: right;\">             -0.147615</td><td style=\"text-align: right;\">14.655 </td><td style=\"text-align: right;\">      -0.830522</td><td style=\"text-align: right;\">           16.8676</td><td style=\"text-align: right;\">                   3.56988 </td><td style=\"text-align: right;\">                      3.56988 </td><td style=\"text-align: right;\">                          78.6983  </td><td style=\"text-align: right;\">      3.2293 </td><td style=\"text-align: right;\">                 1       </td><td style=\"text-align: right;\">                      0.217872</td><td style=\"text-align: right;\">                              340.371 </td><td style=\"text-align: right;\">            100.051</td><td style=\"text-align: right;\">                           62.5733  </td><td>Bankrupted</td></tr>\n",
       "<tr><td style=\"text-align: right;\">     15.4624</td><td style=\"text-align: right;\">                41.9848 </td><td style=\"text-align: right;\">                         2.92924 </td><td style=\"text-align: right;\">                            3.44413 </td><td style=\"text-align: right;\">                                 8.89938 </td><td style=\"text-align: right;\">           5.07154 </td><td style=\"text-align: right;\">                       0.850502</td><td style=\"text-align: right;\">                            0.14212 </td><td style=\"text-align: right;\">                                    395.91  </td><td style=\"text-align: right;\">                 202.878 </td><td style=\"text-align: right;\">                                  176.986 </td><td style=\"text-align: right;\">                    0.15242 </td><td style=\"text-align: right;\">     15.7696</td><td style=\"text-align: right;\">            -0.092149</td><td style=\"text-align: right;\">               40.9129  </td><td style=\"text-align: right;\">                         1.52127 </td><td style=\"text-align: right;\">                            2.59767 </td><td style=\"text-align: right;\">                                 3.2981  </td><td style=\"text-align: right;\">           4.51277 </td><td style=\"text-align: right;\">                       0.585629</td><td style=\"text-align: right;\">                            0.193179</td><td style=\"text-align: right;\">                                    457.893 </td><td style=\"text-align: right;\">                 349.874 </td><td style=\"text-align: right;\">                                  209.19  </td><td style=\"text-align: right;\">              0.10167 </td><td style=\"text-align: right;\">15.9737</td><td style=\"text-align: right;\">      -0.74118 </td><td style=\"text-align: right;\">           40.4265</td><td style=\"text-align: right;\">                   1.57713 </td><td style=\"text-align: right;\">                      2.73252 </td><td style=\"text-align: right;\">                           5.36249 </td><td style=\"text-align: right;\">      5.78108</td><td style=\"text-align: right;\">                 0.57717 </td><td style=\"text-align: right;\">                      0.194968</td><td style=\"text-align: right;\">                              481.964 </td><td style=\"text-align: right;\">            410.512</td><td style=\"text-align: right;\">                          345.177   </td><td>Bankrupted</td></tr>\n",
       "<tr><td style=\"text-align: right;\">     14.943 </td><td style=\"text-align: right;\">                33.9506 </td><td style=\"text-align: right;\">                         3.96655 </td><td style=\"text-align: right;\">                            4.10605 </td><td style=\"text-align: right;\">                                 0.779867</td><td style=\"text-align: right;\">           2.93403 </td><td style=\"text-align: right;\">                       0.966026</td><td style=\"text-align: right;\">                           -0.133341</td><td style=\"text-align: right;\">                                    165.189 </td><td style=\"text-align: right;\">                  26.0325</td><td style=\"text-align: right;\">                                   63.5665</td><td style=\"text-align: right;\">                    0.12061 </td><td style=\"text-align: right;\">     15.1854</td><td style=\"text-align: right;\">             0.071923</td><td style=\"text-align: right;\">               33.9974  </td><td style=\"text-align: right;\">                         1.15739 </td><td style=\"text-align: right;\">                            4.54815 </td><td style=\"text-align: right;\">                                 2.46172 </td><td style=\"text-align: right;\">           3.3325  </td><td style=\"text-align: right;\">                       0.254475</td><td style=\"text-align: right;\">                            0.458061</td><td style=\"text-align: right;\">                                    151.134 </td><td style=\"text-align: right;\">                  27.9052</td><td style=\"text-align: right;\">                                   70.4715</td><td style=\"text-align: right;\">              0.05871 </td><td style=\"text-align: right;\">15.303 </td><td style=\"text-align: right;\">       0.072768</td><td style=\"text-align: right;\">           45     </td><td style=\"text-align: right;\">                   1.36344 </td><td style=\"text-align: right;\">                      4.46509 </td><td style=\"text-align: right;\">                           1.46244 </td><td style=\"text-align: right;\">      3.3467 </td><td style=\"text-align: right;\">                 0.305355</td><td style=\"text-align: right;\">                      0.110541</td><td style=\"text-align: right;\">                              104.575 </td><td style=\"text-align: right;\">            122.932</td><td style=\"text-align: right;\">                           91.1567  </td><td>Bankrupted</td></tr>\n",
       "<tr><td style=\"text-align: right;\">     18.0841</td><td style=\"text-align: right;\">               -71.7875 </td><td style=\"text-align: right;\">                         0.021042</td><td style=\"text-align: right;\">                            0.038628</td><td style=\"text-align: right;\">                                 2.81772 </td><td style=\"text-align: right;\">           1.14337 </td><td style=\"text-align: right;\">                       0.544736</td><td style=\"text-align: right;\">                            0.521513</td><td style=\"text-align: right;\">                                   2089.15  </td><td style=\"text-align: right;\">                1686.27  </td><td style=\"text-align: right;\">                                  771.431 </td><td style=\"text-align: right;\">                   -0.007257</td><td style=\"text-align: right;\">     18.0695</td><td style=\"text-align: right;\">             0.941226</td><td style=\"text-align: right;\">               38.7468  </td><td style=\"text-align: right;\">                         0.031585</td><td style=\"text-align: right;\">                            0.058735</td><td style=\"text-align: right;\">                                 2.87307 </td><td style=\"text-align: right;\">           1.18658 </td><td style=\"text-align: right;\">                       0.537763</td><td style=\"text-align: right;\">                            0.520988</td><td style=\"text-align: right;\">                                   1920.42  </td><td style=\"text-align: right;\">                1359.94  </td><td style=\"text-align: right;\">                                  122.14  </td><td style=\"text-align: right;\">             -0.00695 </td><td style=\"text-align: right;\">18.0556</td><td style=\"text-align: right;\">      -0.742006</td><td style=\"text-align: right;\">           59.5347</td><td style=\"text-align: right;\">                   0.034124</td><td style=\"text-align: right;\">                      0.064885</td><td style=\"text-align: right;\">                           2.81814 </td><td style=\"text-align: right;\">      1.25897</td><td style=\"text-align: right;\">                 0.525912</td><td style=\"text-align: right;\">                      0.510865</td><td style=\"text-align: right;\">                             1717.9   </td><td style=\"text-align: right;\">           1794.89 </td><td style=\"text-align: right;\">                            0       </td><td>Bankrupted</td></tr>\n",
       "</tbody>\n",
       "</table>"
      ]
     },
     "metadata": {},
     "output_type": "display_data"
    },
    {
     "data": {
      "text/plain": []
     },
     "execution_count": 5,
     "metadata": {},
     "output_type": "execute_result"
    }
   ],
   "source": [
    "hf"
   ]
  },
  {
   "cell_type": "markdown",
   "metadata": {},
   "source": [
    "## Train test split"
   ]
  },
  {
   "cell_type": "code",
   "execution_count": 6,
   "metadata": {},
   "outputs": [],
   "source": [
    "np.random.seed(333)\n",
    "\n",
    "train,test,valid = hf.split_frame(ratios=[.70,.15])\n"
   ]
  },
  {
   "cell_type": "markdown",
   "metadata": {},
   "source": [
    "## H2O auto ml model"
   ]
  },
  {
   "cell_type": "code",
   "execution_count": 7,
   "metadata": {},
   "outputs": [
    {
     "name": "stdout",
     "output_type": "stream",
     "text": [
      "AutoML progress: |████████████████████████████████████████████████████████| 100%\n"
     ]
    }
   ],
   "source": [
    "model = H2OAutoML(max_models=15,seed=1)\n",
    "\n",
    "model.train(x=train.columns[:-1],y=train.columns[-1],training_frame=train,validation_frame=valid)"
   ]
  },
  {
   "cell_type": "markdown",
   "metadata": {},
   "source": [
    "## Performance"
   ]
  },
  {
   "cell_type": "code",
   "execution_count": 12,
   "metadata": {},
   "outputs": [
    {
     "data": {
      "text/html": [
       "<table>\n",
       "<thead>\n",
       "<tr><th>model_id                                 </th><th style=\"text-align: right;\">     auc</th><th style=\"text-align: right;\">  logloss</th><th style=\"text-align: right;\">  mean_per_class_error</th><th style=\"text-align: right;\">    rmse</th><th style=\"text-align: right;\">     mse</th></tr>\n",
       "</thead>\n",
       "<tbody>\n",
       "<tr><td>DRF_1_AutoML_20200317_103945             </td><td style=\"text-align: right;\">0.825137</td><td style=\"text-align: right;\"> 0.503227</td><td style=\"text-align: right;\">              0.246812</td><td style=\"text-align: right;\">0.408698</td><td style=\"text-align: right;\">0.167034</td></tr>\n",
       "<tr><td>GBM_2_AutoML_20200317_103945             </td><td style=\"text-align: right;\">0.802368</td><td style=\"text-align: right;\"> 0.526341</td><td style=\"text-align: right;\">              0.226548</td><td style=\"text-align: right;\">0.419324</td><td style=\"text-align: right;\">0.175832</td></tr>\n",
       "<tr><td>GBM_1_AutoML_20200317_103945             </td><td style=\"text-align: right;\">0.800091</td><td style=\"text-align: right;\"> 0.561703</td><td style=\"text-align: right;\">              0.224044</td><td style=\"text-align: right;\">0.423142</td><td style=\"text-align: right;\">0.179049</td></tr>\n",
       "<tr><td>GBM_3_AutoML_20200317_103945             </td><td style=\"text-align: right;\">0.79326 </td><td style=\"text-align: right;\"> 0.525713</td><td style=\"text-align: right;\">              0.377505</td><td style=\"text-align: right;\">0.422492</td><td style=\"text-align: right;\">0.178499</td></tr>\n",
       "<tr><td>GBM_grid_1_AutoML_20200317_103945_model_2</td><td style=\"text-align: right;\">0.792805</td><td style=\"text-align: right;\"> 0.60816 </td><td style=\"text-align: right;\">              0.270719</td><td style=\"text-align: right;\">0.458001</td><td style=\"text-align: right;\">0.209765</td></tr>\n",
       "<tr><td>GBM_4_AutoML_20200317_103945             </td><td style=\"text-align: right;\">0.759563</td><td style=\"text-align: right;\"> 0.563391</td><td style=\"text-align: right;\">              0.254326</td><td style=\"text-align: right;\">0.434804</td><td style=\"text-align: right;\">0.189054</td></tr>\n",
       "<tr><td>GBM_grid_1_AutoML_20200317_103945_model_1</td><td style=\"text-align: right;\">0.754098</td><td style=\"text-align: right;\"> 0.653705</td><td style=\"text-align: right;\">              0.278916</td><td style=\"text-align: right;\">0.480275</td><td style=\"text-align: right;\">0.230664</td></tr>\n",
       "<tr><td>XRT_1_AutoML_20200317_103945             </td><td style=\"text-align: right;\">0.746812</td><td style=\"text-align: right;\"> 0.56956 </td><td style=\"text-align: right;\">              0.292805</td><td style=\"text-align: right;\">0.44095 </td><td style=\"text-align: right;\">0.194437</td></tr>\n",
       "<tr><td>GBM_grid_1_AutoML_20200317_103945_model_4</td><td style=\"text-align: right;\">0.739071</td><td style=\"text-align: right;\"> 1.05583 </td><td style=\"text-align: right;\">              0.438752</td><td style=\"text-align: right;\">0.499567</td><td style=\"text-align: right;\">0.249567</td></tr>\n",
       "<tr><td>GBM_grid_1_AutoML_20200317_103945_model_3</td><td style=\"text-align: right;\">0.677596</td><td style=\"text-align: right;\"> 0.637906</td><td style=\"text-align: right;\">              0.486111</td><td style=\"text-align: right;\">0.472804</td><td style=\"text-align: right;\">0.223544</td></tr>\n",
       "</tbody>\n",
       "</table>"
      ]
     },
     "metadata": {},
     "output_type": "display_data"
    },
    {
     "name": "stdout",
     "output_type": "stream",
     "text": [
      "\n",
      "drf prediction progress: |████████████████████████████████████████████████| 100%\n"
     ]
    }
   ],
   "source": [
    "lb=model.leaderboard\n",
    "print(lb.head())\n",
    "\n",
    "y_pred=model.leader.predict(test)"
   ]
  },
  {
   "cell_type": "code",
   "execution_count": 28,
   "metadata": {},
   "outputs": [
    {
     "name": "stdout",
     "output_type": "stream",
     "text": [
      "0.6755952380952381\n"
     ]
    }
   ],
   "source": [
    "perf = model.leader.model_performance(test)\n",
    "auc_last_year=perf.auc()\n",
    "print(auc_last_year)"
   ]
  },
  {
   "cell_type": "markdown",
   "metadata": {},
   "source": [
    "## Dataset  \"1 years before\""
   ]
  },
  {
   "cell_type": "code",
   "execution_count": 31,
   "metadata": {},
   "outputs": [],
   "source": [
    "df2=pd.read_csv(\"1 years before.csv\")"
   ]
  },
  {
   "cell_type": "code",
   "execution_count": 32,
   "metadata": {},
   "outputs": [
    {
     "name": "stdout",
     "output_type": "stream",
     "text": [
      "Parse progress: |█████████████████████████████████████████████████████████| 100%\n"
     ]
    }
   ],
   "source": [
    "hf=h2o.H2OFrame(df2)"
   ]
  },
  {
   "cell_type": "code",
   "execution_count": 33,
   "metadata": {},
   "outputs": [
    {
     "data": {
      "text/html": [
       "<table>\n",
       "<thead>\n",
       "<tr><th style=\"text-align: right;\">  SIZE-3year</th><th style=\"text-align: right;\">  GR-PROFIT-MARGIN-3year</th><th style=\"text-align: right;\">  CAPITAL-EMPLOYED-TURNOVER-3year</th><th style=\"text-align: right;\">  STOCKHOLDERS-EQUITY-TURNOVER-3year</th><th style=\"text-align: right;\">  CAPITAL-EMPLOYED/NET-FIXED-ASSETS-3year</th><th style=\"text-align: right;\">  DEBT/EQUITY-3year</th><th style=\"text-align: right;\">  EQUITY/CAPITAL-EMPLOYED-3year</th><th style=\"text-align: right;\">  WORKING-CAPITAL/TOTAL-ASSETS-3year</th><th style=\"text-align: right;\">  AV-COLLECTION-PERIOD-FOR-RECIEVABLES-3year</th><th style=\"text-align: right;\">  AV-PAYMENT-PERIOD-3year</th><th style=\"text-align: right;\">  AV-TURNOVER-PERIOD-FOR-INVENTORIES-3year</th><th style=\"text-align: right;\">  SCALED-CHANGE-ASSETS-2year</th><th style=\"text-align: right;\">  SIZE-2year</th><th style=\"text-align: right;\">  CH.NET-INCOME-2year</th><th style=\"text-align: right;\">  GR-PROFIT-MARGIN-2year</th><th style=\"text-align: right;\">  CAPITAL-EMPLOYED-TURNOVER-2year</th><th style=\"text-align: right;\">  STOCKHOLDERS-EQUITY-TURNOVER-2year</th><th style=\"text-align: right;\">  CAPITAL-EMPLOYED/NET-FIXED-ASSETS-2year</th><th style=\"text-align: right;\">  DEBT/EQUITY-2year</th><th style=\"text-align: right;\">  EQUITY/CAPITAL-EMPLOYED-2year</th><th style=\"text-align: right;\">  WORKING-CAPITAL/TOTAL-ASSETS-2year</th><th style=\"text-align: right;\">  AV-COLLECTION-PERIOD-FOR-RECIEVABLES-2year</th><th style=\"text-align: right;\">  AV-PAYMENT-PERIOD-2year</th><th style=\"text-align: right;\">  AV-TURNOVER-PERIOD-FOR-INVENTORIES-2year</th><th>final     </th></tr>\n",
       "</thead>\n",
       "<tbody>\n",
       "<tr><td style=\"text-align: right;\">     17.0484</td><td style=\"text-align: right;\">                11.394  </td><td style=\"text-align: right;\">                         8.55332 </td><td style=\"text-align: right;\">                            9.78249 </td><td style=\"text-align: right;\">                                 0.545139</td><td style=\"text-align: right;\">          22.9557  </td><td style=\"text-align: right;\">                       0.87435 </td><td style=\"text-align: right;\">                           -0.338667</td><td style=\"text-align: right;\">                                    431.196 </td><td style=\"text-align: right;\">                 307.434 </td><td style=\"text-align: right;\">                                   59.9585</td><td style=\"text-align: right;\">                   -0.163349</td><td style=\"text-align: right;\">     16.7187</td><td style=\"text-align: right;\">            -0.332261</td><td style=\"text-align: right;\">                0.007019</td><td style=\"text-align: right;\">                         4.43754 </td><td style=\"text-align: right;\">                            5.07321 </td><td style=\"text-align: right;\">                                 1.76599 </td><td style=\"text-align: right;\">          16.5084  </td><td style=\"text-align: right;\">                       0.874702</td><td style=\"text-align: right;\">                            0.0109  </td><td style=\"text-align: right;\">                                    698.487 </td><td style=\"text-align: right;\">                 326.597 </td><td style=\"text-align: right;\">                                    0     </td><td>Bankrupted</td></tr>\n",
       "<tr><td style=\"text-align: right;\">     17.7774</td><td style=\"text-align: right;\">                 5.02206</td><td style=\"text-align: right;\">                         0.405121</td><td style=\"text-align: right;\">                            0.405121</td><td style=\"text-align: right;\">                                 1.33546 </td><td style=\"text-align: right;\">           0.676128</td><td style=\"text-align: right;\">                       1       </td><td style=\"text-align: right;\">                            0.073301</td><td style=\"text-align: right;\">                                     61.8285</td><td style=\"text-align: right;\">                 134.43  </td><td style=\"text-align: right;\">                                  365.416 </td><td style=\"text-align: right;\">                    0.028336</td><td style=\"text-align: right;\">     17.8341</td><td style=\"text-align: right;\">            -0.472987</td><td style=\"text-align: right;\">               20.1219  </td><td style=\"text-align: right;\">                         0.455641</td><td style=\"text-align: right;\">                            0.500191</td><td style=\"text-align: right;\">                                 1.12506 </td><td style=\"text-align: right;\">           0.804943</td><td style=\"text-align: right;\">                       0.910933</td><td style=\"text-align: right;\">                            0.008382</td><td style=\"text-align: right;\">                                     50.3083</td><td style=\"text-align: right;\">                 276.609 </td><td style=\"text-align: right;\">                                  366.879 </td><td>Bankrupted</td></tr>\n",
       "<tr><td style=\"text-align: right;\">     11.8552</td><td style=\"text-align: right;\">                 6.37271</td><td style=\"text-align: right;\">                         2.93941 </td><td style=\"text-align: right;\">                            2.93941 </td><td style=\"text-align: right;\">                                50.0545  </td><td style=\"text-align: right;\">           2.08991 </td><td style=\"text-align: right;\">                       1       </td><td style=\"text-align: right;\">                            0.192623</td><td style=\"text-align: right;\">                                    188.645 </td><td style=\"text-align: right;\">                  29.3107</td><td style=\"text-align: right;\">                                  109.392 </td><td style=\"text-align: right;\">                    0.319564</td><td style=\"text-align: right;\">     12.5176</td><td style=\"text-align: right;\">             1       </td><td style=\"text-align: right;\">               17.3665  </td><td style=\"text-align: right;\">                         1.58542 </td><td style=\"text-align: right;\">                            1.58543 </td><td style=\"text-align: right;\">                               378.147   </td><td style=\"text-align: right;\">           1.05019 </td><td style=\"text-align: right;\">                       0.999993</td><td style=\"text-align: right;\">                            0.427538</td><td style=\"text-align: right;\">                                    283.19  </td><td style=\"text-align: right;\">                 195.588 </td><td style=\"text-align: right;\">                                   89.9187</td><td>Bankrupted</td></tr>\n",
       "<tr><td style=\"text-align: right;\">     13.9112</td><td style=\"text-align: right;\">                16.4816 </td><td style=\"text-align: right;\">                         5.66139 </td><td style=\"text-align: right;\">                            5.66136 </td><td style=\"text-align: right;\">                                13.3043  </td><td style=\"text-align: right;\">           6.36057 </td><td style=\"text-align: right;\">                       1.00001 </td><td style=\"text-align: right;\">                            0.101952</td><td style=\"text-align: right;\">                                    357.85  </td><td style=\"text-align: right;\">                 239.631 </td><td style=\"text-align: right;\">                                    0     </td><td style=\"text-align: right;\">                    0.036113</td><td style=\"text-align: right;\">     13.9834</td><td style=\"text-align: right;\">             0.298251</td><td style=\"text-align: right;\">               20.037   </td><td style=\"text-align: right;\">                         5.80123 </td><td style=\"text-align: right;\">                            5.80123 </td><td style=\"text-align: right;\">                                12.6862  </td><td style=\"text-align: right;\">           6.6823  </td><td style=\"text-align: right;\">                       1       </td><td style=\"text-align: right;\">                            0.0906  </td><td style=\"text-align: right;\">                                    271.615 </td><td style=\"text-align: right;\">                 288.644 </td><td style=\"text-align: right;\">                                    0     </td><td>Bankrupted</td></tr>\n",
       "<tr><td style=\"text-align: right;\">     14.934 </td><td style=\"text-align: right;\">                24.8771 </td><td style=\"text-align: right;\">                         6.29598 </td><td style=\"text-align: right;\">                            6.29598 </td><td style=\"text-align: right;\">                                 0.855904</td><td style=\"text-align: right;\">           5.91638 </td><td style=\"text-align: right;\">                       1       </td><td style=\"text-align: right;\">                           -0.079627</td><td style=\"text-align: right;\">                                    232.387 </td><td style=\"text-align: right;\">                 173.792 </td><td style=\"text-align: right;\">                                   58.0486</td><td style=\"text-align: right;\">                    0.054719</td><td style=\"text-align: right;\">     15.0435</td><td style=\"text-align: right;\">            -1       </td><td style=\"text-align: right;\">               20.1757  </td><td style=\"text-align: right;\">                         7.0686  </td><td style=\"text-align: right;\">                            7.0686  </td><td style=\"text-align: right;\">                                 0.731521</td><td style=\"text-align: right;\">           7.84956 </td><td style=\"text-align: right;\">                       1       </td><td style=\"text-align: right;\">                           -0.118476</td><td style=\"text-align: right;\">                                    241.826 </td><td style=\"text-align: right;\">                 183.836 </td><td style=\"text-align: right;\">                                   57.2869</td><td>Bankrupted</td></tr>\n",
       "<tr><td style=\"text-align: right;\">     13.7423</td><td style=\"text-align: right;\">                38.3074 </td><td style=\"text-align: right;\">                         6.12232 </td><td style=\"text-align: right;\">                            6.12232 </td><td style=\"text-align: right;\">                                 0.526064</td><td style=\"text-align: right;\">           5.63726 </td><td style=\"text-align: right;\">                       1       </td><td style=\"text-align: right;\">                           -0.283839</td><td style=\"text-align: right;\">                                     11.8471</td><td style=\"text-align: right;\">                 245.601 </td><td style=\"text-align: right;\">                                    0     </td><td style=\"text-align: right;\">                    0.298616</td><td style=\"text-align: right;\">     14.3583</td><td style=\"text-align: right;\">            -0.351794</td><td style=\"text-align: right;\">               38.8719  </td><td style=\"text-align: right;\">                         5.69165 </td><td style=\"text-align: right;\">                            5.69161 </td><td style=\"text-align: right;\">                                 0.448397</td><td style=\"text-align: right;\">          10.4069  </td><td style=\"text-align: right;\">                       1.00001 </td><td style=\"text-align: right;\">                           -0.218278</td><td style=\"text-align: right;\">                                    240.976 </td><td style=\"text-align: right;\">                 418.328 </td><td style=\"text-align: right;\">                                    0     </td><td>Bankrupted</td></tr>\n",
       "<tr><td style=\"text-align: right;\">     15.12  </td><td style=\"text-align: right;\">                19.4367 </td><td style=\"text-align: right;\">                         6.70298 </td><td style=\"text-align: right;\">                            6.70298 </td><td style=\"text-align: right;\">                                63.7685  </td><td style=\"text-align: right;\">           5.35213 </td><td style=\"text-align: right;\">                       1       </td><td style=\"text-align: right;\">                            0.14074 </td><td style=\"text-align: right;\">                                    311.934 </td><td style=\"text-align: right;\">                  29.9276</td><td style=\"text-align: right;\">                                   32.6707</td><td style=\"text-align: right;\">                   -0.083622</td><td style=\"text-align: right;\">     14.9524</td><td style=\"text-align: right;\">             0.492204</td><td style=\"text-align: right;\">               15.3583  </td><td style=\"text-align: right;\">                         5.24937 </td><td style=\"text-align: right;\">                            5.24937 </td><td style=\"text-align: right;\">                                79.2801  </td><td style=\"text-align: right;\">           4.25741 </td><td style=\"text-align: right;\">                       1       </td><td style=\"text-align: right;\">                            0.173942</td><td style=\"text-align: right;\">                                    325.461 </td><td style=\"text-align: right;\">                  42.9279</td><td style=\"text-align: right;\">                                   30.3994</td><td>Bankrupted</td></tr>\n",
       "<tr><td style=\"text-align: right;\">     15.4624</td><td style=\"text-align: right;\">                41.9848 </td><td style=\"text-align: right;\">                         2.92924 </td><td style=\"text-align: right;\">                            3.44413 </td><td style=\"text-align: right;\">                                 8.89938 </td><td style=\"text-align: right;\">           5.07154 </td><td style=\"text-align: right;\">                       0.850502</td><td style=\"text-align: right;\">                            0.14212 </td><td style=\"text-align: right;\">                                    395.91  </td><td style=\"text-align: right;\">                 202.878 </td><td style=\"text-align: right;\">                                  176.986 </td><td style=\"text-align: right;\">                    0.15242 </td><td style=\"text-align: right;\">     15.7696</td><td style=\"text-align: right;\">            -0.092149</td><td style=\"text-align: right;\">               40.9129  </td><td style=\"text-align: right;\">                         1.52127 </td><td style=\"text-align: right;\">                            2.59767 </td><td style=\"text-align: right;\">                                 3.2981  </td><td style=\"text-align: right;\">           4.51277 </td><td style=\"text-align: right;\">                       0.585629</td><td style=\"text-align: right;\">                            0.193179</td><td style=\"text-align: right;\">                                    457.893 </td><td style=\"text-align: right;\">                 349.874 </td><td style=\"text-align: right;\">                                  209.19  </td><td>Bankrupted</td></tr>\n",
       "<tr><td style=\"text-align: right;\">     14.943 </td><td style=\"text-align: right;\">                33.9506 </td><td style=\"text-align: right;\">                         3.96655 </td><td style=\"text-align: right;\">                            4.10605 </td><td style=\"text-align: right;\">                                 0.779867</td><td style=\"text-align: right;\">           2.93403 </td><td style=\"text-align: right;\">                       0.966026</td><td style=\"text-align: right;\">                           -0.133341</td><td style=\"text-align: right;\">                                    165.189 </td><td style=\"text-align: right;\">                  26.0325</td><td style=\"text-align: right;\">                                   63.5665</td><td style=\"text-align: right;\">                    0.12061 </td><td style=\"text-align: right;\">     15.1854</td><td style=\"text-align: right;\">             0.071923</td><td style=\"text-align: right;\">               33.9974  </td><td style=\"text-align: right;\">                         1.15739 </td><td style=\"text-align: right;\">                            4.54815 </td><td style=\"text-align: right;\">                                 2.46172 </td><td style=\"text-align: right;\">           3.3325  </td><td style=\"text-align: right;\">                       0.254475</td><td style=\"text-align: right;\">                            0.458061</td><td style=\"text-align: right;\">                                    151.134 </td><td style=\"text-align: right;\">                  27.9052</td><td style=\"text-align: right;\">                                   70.4715</td><td>Bankrupted</td></tr>\n",
       "<tr><td style=\"text-align: right;\">     18.0841</td><td style=\"text-align: right;\">               -71.7875 </td><td style=\"text-align: right;\">                         0.021042</td><td style=\"text-align: right;\">                            0.038628</td><td style=\"text-align: right;\">                                 2.81772 </td><td style=\"text-align: right;\">           1.14337 </td><td style=\"text-align: right;\">                       0.544736</td><td style=\"text-align: right;\">                            0.521513</td><td style=\"text-align: right;\">                                   2089.15  </td><td style=\"text-align: right;\">                1686.27  </td><td style=\"text-align: right;\">                                  771.431 </td><td style=\"text-align: right;\">                   -0.007257</td><td style=\"text-align: right;\">     18.0695</td><td style=\"text-align: right;\">             0.941226</td><td style=\"text-align: right;\">               38.7468  </td><td style=\"text-align: right;\">                         0.031585</td><td style=\"text-align: right;\">                            0.058735</td><td style=\"text-align: right;\">                                 2.87307 </td><td style=\"text-align: right;\">           1.18658 </td><td style=\"text-align: right;\">                       0.537763</td><td style=\"text-align: right;\">                            0.520988</td><td style=\"text-align: right;\">                                   1920.42  </td><td style=\"text-align: right;\">                1359.94  </td><td style=\"text-align: right;\">                                  122.14  </td><td>Bankrupted</td></tr>\n",
       "</tbody>\n",
       "</table>"
      ]
     },
     "metadata": {},
     "output_type": "display_data"
    },
    {
     "data": {
      "text/plain": []
     },
     "execution_count": 33,
     "metadata": {},
     "output_type": "execute_result"
    }
   ],
   "source": [
    "hf"
   ]
  },
  {
   "cell_type": "markdown",
   "metadata": {},
   "source": [
    "## Train test split"
   ]
  },
  {
   "cell_type": "code",
   "execution_count": 35,
   "metadata": {},
   "outputs": [],
   "source": [
    "np.random.seed(333)\n",
    "\n",
    "train,test,valid = hf.split_frame(ratios=[.70,.15])"
   ]
  },
  {
   "cell_type": "markdown",
   "metadata": {},
   "source": [
    "## H2O auto ml model"
   ]
  },
  {
   "cell_type": "code",
   "execution_count": 36,
   "metadata": {},
   "outputs": [
    {
     "name": "stdout",
     "output_type": "stream",
     "text": [
      "AutoML progress: |████████████████████████████████████████████████████████| 100%\n"
     ]
    }
   ],
   "source": [
    "model2 = H2OAutoML(max_models=15,seed=1)\n",
    "\n",
    "model2.train(x=train.columns[:-1],y=train.columns[-1],training_frame=train,validation_frame=valid)"
   ]
  },
  {
   "cell_type": "markdown",
   "metadata": {},
   "source": [
    "## Performance"
   ]
  },
  {
   "cell_type": "code",
   "execution_count": 37,
   "metadata": {},
   "outputs": [
    {
     "data": {
      "text/html": [
       "<table>\n",
       "<thead>\n",
       "<tr><th>model_id                                          </th><th style=\"text-align: right;\">     auc</th><th style=\"text-align: right;\">  logloss</th><th style=\"text-align: right;\">  mean_per_class_error</th><th style=\"text-align: right;\">    rmse</th><th style=\"text-align: right;\">     mse</th></tr>\n",
       "</thead>\n",
       "<tbody>\n",
       "<tr><td>DeepLearning_grid_1_AutoML_20200317_105401_model_1</td><td style=\"text-align: right;\">0.651046</td><td style=\"text-align: right;\"> 2.07644 </td><td style=\"text-align: right;\">              0.445946</td><td style=\"text-align: right;\">0.551928</td><td style=\"text-align: right;\">0.304624</td></tr>\n",
       "<tr><td>GBM_grid_1_AutoML_20200317_105401_model_4         </td><td style=\"text-align: right;\">0.621622</td><td style=\"text-align: right;\"> 1.30542 </td><td style=\"text-align: right;\">              0.472973</td><td style=\"text-align: right;\">0.557721</td><td style=\"text-align: right;\">0.311053</td></tr>\n",
       "<tr><td>XRT_1_AutoML_20200317_105401                      </td><td style=\"text-align: right;\">0.619878</td><td style=\"text-align: right;\"> 0.675172</td><td style=\"text-align: right;\">              0.472973</td><td style=\"text-align: right;\">0.485943</td><td style=\"text-align: right;\">0.23614 </td></tr>\n",
       "<tr><td>GBM_4_AutoML_20200317_105401                      </td><td style=\"text-align: right;\">0.605057</td><td style=\"text-align: right;\"> 0.705389</td><td style=\"text-align: right;\">              0.5     </td><td style=\"text-align: right;\">0.500587</td><td style=\"text-align: right;\">0.250588</td></tr>\n",
       "<tr><td>DeepLearning_grid_1_AutoML_20200317_105401_model_2</td><td style=\"text-align: right;\">0.601351</td><td style=\"text-align: right;\"> 1.79717 </td><td style=\"text-align: right;\">              0.459459</td><td style=\"text-align: right;\">0.594975</td><td style=\"text-align: right;\">0.353995</td></tr>\n",
       "<tr><td>GBM_1_AutoML_20200317_105401                      </td><td style=\"text-align: right;\">0.588056</td><td style=\"text-align: right;\"> 0.850803</td><td style=\"text-align: right;\">              0.5     </td><td style=\"text-align: right;\">0.528686</td><td style=\"text-align: right;\">0.279509</td></tr>\n",
       "<tr><td>DRF_1_AutoML_20200317_105401                      </td><td style=\"text-align: right;\">0.576286</td><td style=\"text-align: right;\"> 0.71435 </td><td style=\"text-align: right;\">              0.5     </td><td style=\"text-align: right;\">0.502556</td><td style=\"text-align: right;\">0.252562</td></tr>\n",
       "<tr><td>GBM_3_AutoML_20200317_105401                      </td><td style=\"text-align: right;\">0.57367 </td><td style=\"text-align: right;\"> 0.712831</td><td style=\"text-align: right;\">              0.472973</td><td style=\"text-align: right;\">0.504408</td><td style=\"text-align: right;\">0.254428</td></tr>\n",
       "<tr><td>GBM_grid_1_AutoML_20200317_105401_model_2         </td><td style=\"text-align: right;\">0.572799</td><td style=\"text-align: right;\"> 0.656852</td><td style=\"text-align: right;\">              0.5     </td><td style=\"text-align: right;\">0.482005</td><td style=\"text-align: right;\">0.232329</td></tr>\n",
       "<tr><td>GBM_2_AutoML_20200317_105401                      </td><td style=\"text-align: right;\">0.560157</td><td style=\"text-align: right;\"> 0.744803</td><td style=\"text-align: right;\">              0.5     </td><td style=\"text-align: right;\">0.518037</td><td style=\"text-align: right;\">0.268362</td></tr>\n",
       "</tbody>\n",
       "</table>"
      ]
     },
     "metadata": {},
     "output_type": "display_data"
    },
    {
     "name": "stdout",
     "output_type": "stream",
     "text": [
      "\n",
      "deeplearning prediction progress: |███████████████████████████████████████| 100%\n"
     ]
    }
   ],
   "source": [
    "lb=model2.leaderboard\n",
    "print(lb.head())\n",
    "\n",
    "y_pred=model2.leader.predict(test)"
   ]
  },
  {
   "cell_type": "code",
   "execution_count": 39,
   "metadata": {},
   "outputs": [
    {
     "name": "stdout",
     "output_type": "stream",
     "text": [
      "0.6587301587301587\n"
     ]
    }
   ],
   "source": [
    "perf = model2.leader.model_performance(test)\n",
    "auc_1year=perf.auc()\n",
    "print(auc_1year)"
   ]
  },
  {
   "cell_type": "markdown",
   "metadata": {},
   "source": [
    "## Dataset \"2 years before\""
   ]
  },
  {
   "cell_type": "code",
   "execution_count": 40,
   "metadata": {},
   "outputs": [],
   "source": [
    "df3=pd.read_csv(\"2 years before.csv\")"
   ]
  },
  {
   "cell_type": "code",
   "execution_count": 41,
   "metadata": {},
   "outputs": [
    {
     "name": "stdout",
     "output_type": "stream",
     "text": [
      "Parse progress: |█████████████████████████████████████████████████████████| 100%\n"
     ]
    }
   ],
   "source": [
    "hf=h2o.H2OFrame(df3)"
   ]
  },
  {
   "cell_type": "code",
   "execution_count": 44,
   "metadata": {},
   "outputs": [
    {
     "data": {
      "text/html": [
       "<table>\n",
       "<thead>\n",
       "<tr><th style=\"text-align: right;\">  SIZE-3year</th><th style=\"text-align: right;\">  GR-PROFIT-MARGIN-3year</th><th style=\"text-align: right;\">  CAPITAL-EMPLOYED-TURNOVER-3year</th><th style=\"text-align: right;\">  STOCKHOLDERS-EQUITY-TURNOVER-3year</th><th style=\"text-align: right;\">  CAPITAL-EMPLOYED/NET-FIXED-ASSETS-3year</th><th style=\"text-align: right;\">  DEBT/EQUITY-3year</th><th style=\"text-align: right;\">  EQUITY/CAPITAL-EMPLOYED-3year</th><th style=\"text-align: right;\">  WORKING-CAPITAL/TOTAL-ASSETS-3year</th><th style=\"text-align: right;\">  AV-COLLECTION-PERIOD-FOR-RECIEVABLES-3year</th><th style=\"text-align: right;\">  AV-PAYMENT-PERIOD-3year</th><th style=\"text-align: right;\">  AV-TURNOVER-PERIOD-FOR-INVENTORIES-3year</th><th>final     </th></tr>\n",
       "</thead>\n",
       "<tbody>\n",
       "<tr><td style=\"text-align: right;\">     17.0484</td><td style=\"text-align: right;\">                11.394  </td><td style=\"text-align: right;\">                         8.55332 </td><td style=\"text-align: right;\">                            9.78249 </td><td style=\"text-align: right;\">                                 0.545139</td><td style=\"text-align: right;\">          22.9557  </td><td style=\"text-align: right;\">                       0.87435 </td><td style=\"text-align: right;\">                           -0.338667</td><td style=\"text-align: right;\">                                    431.196 </td><td style=\"text-align: right;\">                 307.434 </td><td style=\"text-align: right;\">                                   59.9585</td><td>Bankrupted</td></tr>\n",
       "<tr><td style=\"text-align: right;\">     17.7774</td><td style=\"text-align: right;\">                 5.02206</td><td style=\"text-align: right;\">                         0.405121</td><td style=\"text-align: right;\">                            0.405121</td><td style=\"text-align: right;\">                                 1.33546 </td><td style=\"text-align: right;\">           0.676128</td><td style=\"text-align: right;\">                       1       </td><td style=\"text-align: right;\">                            0.073301</td><td style=\"text-align: right;\">                                     61.8285</td><td style=\"text-align: right;\">                 134.43  </td><td style=\"text-align: right;\">                                  365.416 </td><td>Bankrupted</td></tr>\n",
       "<tr><td style=\"text-align: right;\">     11.8552</td><td style=\"text-align: right;\">                 6.37271</td><td style=\"text-align: right;\">                         2.93941 </td><td style=\"text-align: right;\">                            2.93941 </td><td style=\"text-align: right;\">                                50.0545  </td><td style=\"text-align: right;\">           2.08991 </td><td style=\"text-align: right;\">                       1       </td><td style=\"text-align: right;\">                            0.192623</td><td style=\"text-align: right;\">                                    188.645 </td><td style=\"text-align: right;\">                  29.3107</td><td style=\"text-align: right;\">                                  109.392 </td><td>Bankrupted</td></tr>\n",
       "<tr><td style=\"text-align: right;\">     13.9112</td><td style=\"text-align: right;\">                16.4816 </td><td style=\"text-align: right;\">                         5.66139 </td><td style=\"text-align: right;\">                            5.66136 </td><td style=\"text-align: right;\">                                13.3043  </td><td style=\"text-align: right;\">           6.36057 </td><td style=\"text-align: right;\">                       1.00001 </td><td style=\"text-align: right;\">                            0.101952</td><td style=\"text-align: right;\">                                    357.85  </td><td style=\"text-align: right;\">                 239.631 </td><td style=\"text-align: right;\">                                    0     </td><td>Bankrupted</td></tr>\n",
       "<tr><td style=\"text-align: right;\">     14.934 </td><td style=\"text-align: right;\">                24.8771 </td><td style=\"text-align: right;\">                         6.29598 </td><td style=\"text-align: right;\">                            6.29598 </td><td style=\"text-align: right;\">                                 0.855904</td><td style=\"text-align: right;\">           5.91638 </td><td style=\"text-align: right;\">                       1       </td><td style=\"text-align: right;\">                           -0.079627</td><td style=\"text-align: right;\">                                    232.387 </td><td style=\"text-align: right;\">                 173.792 </td><td style=\"text-align: right;\">                                   58.0486</td><td>Bankrupted</td></tr>\n",
       "<tr><td style=\"text-align: right;\">     13.7423</td><td style=\"text-align: right;\">                38.3074 </td><td style=\"text-align: right;\">                         6.12232 </td><td style=\"text-align: right;\">                            6.12232 </td><td style=\"text-align: right;\">                                 0.526064</td><td style=\"text-align: right;\">           5.63726 </td><td style=\"text-align: right;\">                       1       </td><td style=\"text-align: right;\">                           -0.283839</td><td style=\"text-align: right;\">                                     11.8471</td><td style=\"text-align: right;\">                 245.601 </td><td style=\"text-align: right;\">                                    0     </td><td>Bankrupted</td></tr>\n",
       "<tr><td style=\"text-align: right;\">     15.12  </td><td style=\"text-align: right;\">                19.4367 </td><td style=\"text-align: right;\">                         6.70298 </td><td style=\"text-align: right;\">                            6.70298 </td><td style=\"text-align: right;\">                                63.7685  </td><td style=\"text-align: right;\">           5.35213 </td><td style=\"text-align: right;\">                       1       </td><td style=\"text-align: right;\">                            0.14074 </td><td style=\"text-align: right;\">                                    311.934 </td><td style=\"text-align: right;\">                  29.9276</td><td style=\"text-align: right;\">                                   32.6707</td><td>Bankrupted</td></tr>\n",
       "<tr><td style=\"text-align: right;\">     15.4624</td><td style=\"text-align: right;\">                41.9848 </td><td style=\"text-align: right;\">                         2.92924 </td><td style=\"text-align: right;\">                            3.44413 </td><td style=\"text-align: right;\">                                 8.89938 </td><td style=\"text-align: right;\">           5.07154 </td><td style=\"text-align: right;\">                       0.850502</td><td style=\"text-align: right;\">                            0.14212 </td><td style=\"text-align: right;\">                                    395.91  </td><td style=\"text-align: right;\">                 202.878 </td><td style=\"text-align: right;\">                                  176.986 </td><td>Bankrupted</td></tr>\n",
       "<tr><td style=\"text-align: right;\">     14.943 </td><td style=\"text-align: right;\">                33.9506 </td><td style=\"text-align: right;\">                         3.96655 </td><td style=\"text-align: right;\">                            4.10605 </td><td style=\"text-align: right;\">                                 0.779867</td><td style=\"text-align: right;\">           2.93403 </td><td style=\"text-align: right;\">                       0.966026</td><td style=\"text-align: right;\">                           -0.133341</td><td style=\"text-align: right;\">                                    165.189 </td><td style=\"text-align: right;\">                  26.0325</td><td style=\"text-align: right;\">                                   63.5665</td><td>Bankrupted</td></tr>\n",
       "<tr><td style=\"text-align: right;\">     18.0841</td><td style=\"text-align: right;\">               -71.7875 </td><td style=\"text-align: right;\">                         0.021042</td><td style=\"text-align: right;\">                            0.038628</td><td style=\"text-align: right;\">                                 2.81772 </td><td style=\"text-align: right;\">           1.14337 </td><td style=\"text-align: right;\">                       0.544736</td><td style=\"text-align: right;\">                            0.521513</td><td style=\"text-align: right;\">                                   2089.15  </td><td style=\"text-align: right;\">                1686.27  </td><td style=\"text-align: right;\">                                  771.431 </td><td>Bankrupted</td></tr>\n",
       "</tbody>\n",
       "</table>"
      ]
     },
     "metadata": {},
     "output_type": "display_data"
    },
    {
     "data": {
      "text/plain": []
     },
     "execution_count": 44,
     "metadata": {},
     "output_type": "execute_result"
    }
   ],
   "source": [
    "hf"
   ]
  },
  {
   "cell_type": "markdown",
   "metadata": {},
   "source": [
    "## Train test split"
   ]
  },
  {
   "cell_type": "code",
   "execution_count": 45,
   "metadata": {},
   "outputs": [],
   "source": [
    "np.random.seed(333)\n",
    "\n",
    "train,test,valid = hf.split_frame(ratios=[.70,.15])"
   ]
  },
  {
   "cell_type": "markdown",
   "metadata": {},
   "source": [
    "## H2O auto ml model"
   ]
  },
  {
   "cell_type": "code",
   "execution_count": 46,
   "metadata": {},
   "outputs": [
    {
     "name": "stdout",
     "output_type": "stream",
     "text": [
      "AutoML progress: |████████████████████████████████████████████████████████| 100%\n"
     ]
    }
   ],
   "source": [
    "model3 = H2OAutoML(max_models=15,seed=1)\n",
    "\n",
    "model3.train(x=train.columns[:-1],y=train.columns[-1],training_frame=train,validation_frame=valid)"
   ]
  },
  {
   "cell_type": "markdown",
   "metadata": {},
   "source": [
    "## Performance"
   ]
  },
  {
   "cell_type": "code",
   "execution_count": 47,
   "metadata": {},
   "outputs": [
    {
     "data": {
      "text/html": [
       "<table>\n",
       "<thead>\n",
       "<tr><th>model_id                                          </th><th style=\"text-align: right;\">     auc</th><th style=\"text-align: right;\">  logloss</th><th style=\"text-align: right;\">  mean_per_class_error</th><th style=\"text-align: right;\">    rmse</th><th style=\"text-align: right;\">     mse</th></tr>\n",
       "</thead>\n",
       "<tbody>\n",
       "<tr><td>DeepLearning_grid_1_AutoML_20200317_105913_model_1</td><td style=\"text-align: right;\">0.701102</td><td style=\"text-align: right;\"> 1.60451 </td><td style=\"text-align: right;\">              0.386364</td><td style=\"text-align: right;\">0.544937</td><td style=\"text-align: right;\">0.296957</td></tr>\n",
       "<tr><td>DeepLearning_1_AutoML_20200317_105913             </td><td style=\"text-align: right;\">0.689164</td><td style=\"text-align: right;\"> 0.63588 </td><td style=\"text-align: right;\">              0.469697</td><td style=\"text-align: right;\">0.467939</td><td style=\"text-align: right;\">0.218967</td></tr>\n",
       "<tr><td>DRF_1_AutoML_20200317_105913                      </td><td style=\"text-align: right;\">0.671947</td><td style=\"text-align: right;\"> 0.602255</td><td style=\"text-align: right;\">              0.469697</td><td style=\"text-align: right;\">0.458545</td><td style=\"text-align: right;\">0.210264</td></tr>\n",
       "<tr><td>GBM_grid_1_AutoML_20200317_105913_model_2         </td><td style=\"text-align: right;\">0.668733</td><td style=\"text-align: right;\"> 0.608788</td><td style=\"text-align: right;\">              0.424242</td><td style=\"text-align: right;\">0.45836 </td><td style=\"text-align: right;\">0.210094</td></tr>\n",
       "<tr><td>DeepLearning_grid_1_AutoML_20200317_105913_model_2</td><td style=\"text-align: right;\">0.65955 </td><td style=\"text-align: right;\"> 1.23429 </td><td style=\"text-align: right;\">              0.363636</td><td style=\"text-align: right;\">0.525186</td><td style=\"text-align: right;\">0.27582 </td></tr>\n",
       "<tr><td>GBM_3_AutoML_20200317_105913                      </td><td style=\"text-align: right;\">0.651286</td><td style=\"text-align: right;\"> 0.633496</td><td style=\"text-align: right;\">              0.484848</td><td style=\"text-align: right;\">0.472524</td><td style=\"text-align: right;\">0.223279</td></tr>\n",
       "<tr><td>DeepLearning_grid_1_AutoML_20200317_105913_model_3</td><td style=\"text-align: right;\">0.641873</td><td style=\"text-align: right;\"> 0.874137</td><td style=\"text-align: right;\">              0.401515</td><td style=\"text-align: right;\">0.519969</td><td style=\"text-align: right;\">0.270368</td></tr>\n",
       "<tr><td>GBM_1_AutoML_20200317_105913                      </td><td style=\"text-align: right;\">0.635216</td><td style=\"text-align: right;\"> 0.772219</td><td style=\"text-align: right;\">              0.469697</td><td style=\"text-align: right;\">0.514568</td><td style=\"text-align: right;\">0.26478 </td></tr>\n",
       "<tr><td>XRT_1_AutoML_20200317_105913                      </td><td style=\"text-align: right;\">0.631772</td><td style=\"text-align: right;\"> 0.629383</td><td style=\"text-align: right;\">              0.462121</td><td style=\"text-align: right;\">0.473114</td><td style=\"text-align: right;\">0.223836</td></tr>\n",
       "<tr><td>GBM_2_AutoML_20200317_105913                      </td><td style=\"text-align: right;\">0.625115</td><td style=\"text-align: right;\"> 0.639168</td><td style=\"text-align: right;\">              0.5     </td><td style=\"text-align: right;\">0.475494</td><td style=\"text-align: right;\">0.226095</td></tr>\n",
       "</tbody>\n",
       "</table>"
      ]
     },
     "metadata": {},
     "output_type": "display_data"
    },
    {
     "name": "stdout",
     "output_type": "stream",
     "text": [
      "\n",
      "deeplearning prediction progress: |███████████████████████████████████████| 100%\n"
     ]
    }
   ],
   "source": [
    "lb=model3.leaderboard\n",
    "print(lb.head())\n",
    "\n",
    "y_pred=model3.leader.predict(test)"
   ]
  },
  {
   "cell_type": "code",
   "execution_count": 48,
   "metadata": {},
   "outputs": [
    {
     "name": "stdout",
     "output_type": "stream",
     "text": [
      "0.76875\n"
     ]
    }
   ],
   "source": [
    "perf = model3.leader.model_performance(test)\n",
    "auc_2year=perf.auc()\n",
    "print(auc_2year)"
   ]
  },
  {
   "cell_type": "markdown",
   "metadata": {},
   "source": [
    "## Results"
   ]
  },
  {
   "cell_type": "code",
   "execution_count": 49,
   "metadata": {},
   "outputs": [
    {
     "data": {
      "text/html": [
       "<div>\n",
       "<style scoped>\n",
       "    .dataframe tbody tr th:only-of-type {\n",
       "        vertical-align: middle;\n",
       "    }\n",
       "\n",
       "    .dataframe tbody tr th {\n",
       "        vertical-align: top;\n",
       "    }\n",
       "\n",
       "    .dataframe thead th {\n",
       "        text-align: right;\n",
       "    }\n",
       "</style>\n",
       "<table border=\"1\" class=\"dataframe\">\n",
       "  <thead>\n",
       "    <tr style=\"text-align: right;\">\n",
       "      <th></th>\n",
       "      <th>H2O AUTOML</th>\n",
       "    </tr>\n",
       "  </thead>\n",
       "  <tbody>\n",
       "    <tr>\n",
       "      <th>1 years before</th>\n",
       "      <td>0.658730</td>\n",
       "    </tr>\n",
       "    <tr>\n",
       "      <th>2 years before</th>\n",
       "      <td>0.768750</td>\n",
       "    </tr>\n",
       "    <tr>\n",
       "      <th>last year</th>\n",
       "      <td>0.675595</td>\n",
       "    </tr>\n",
       "  </tbody>\n",
       "</table>\n",
       "</div>"
      ],
      "text/plain": [
       "                H2O AUTOML\n",
       "1 years before    0.658730\n",
       "2 years before    0.768750\n",
       "last year         0.675595"
      ]
     },
     "execution_count": 49,
     "metadata": {},
     "output_type": "execute_result"
    }
   ],
   "source": [
    "data={'H2O AUTOML':[auc_1year,auc_2year,auc_last_year]}\n",
    "    \n",
    "\n",
    "results=pd.DataFrame(data,index=['1 years before','2 years before','last year'])\n",
    "\n",
    "results"
   ]
  }
 ],
 "metadata": {
  "kernelspec": {
   "display_name": "Python 3",
   "language": "python",
   "name": "python3"
  },
  "language_info": {
   "codemirror_mode": {
    "name": "ipython",
    "version": 3
   },
   "file_extension": ".py",
   "mimetype": "text/x-python",
   "name": "python",
   "nbconvert_exporter": "python",
   "pygments_lexer": "ipython3",
   "version": "3.6.9"
  }
 },
 "nbformat": 4,
 "nbformat_minor": 2
}
