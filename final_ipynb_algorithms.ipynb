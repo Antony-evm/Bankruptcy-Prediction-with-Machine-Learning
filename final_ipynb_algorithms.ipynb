{
 "cells": [
  {
   "cell_type": "code",
   "execution_count": 1,
   "metadata": {},
   "outputs": [],
   "source": [
    "import pandas as pd\n",
    "import itertools\n",
    "import warnings\n",
    "import numpy as np\n",
    "from sklearn import preprocessing\n",
    "from sklearn import svm\n",
    "from sklearn.tree import DecisionTreeClassifier\n",
    "from sklearn.naive_bayes import GaussianNB\n",
    "from sklearn.linear_model import LogisticRegression\n",
    "import numpy as np\n",
    "warnings.filterwarnings('ignore')\n",
    "\n",
    "from tensorflow.keras.models import Sequential\n",
    "from tensorflow.keras.layers import Dense,LSTM,Flatten\n",
    "from tensorflow.keras.optimizers import SGD,Adam\n",
    "\n",
    "from sklearn.model_selection import train_test_split,GridSearchCV\n",
    "\n",
    "from sklearn import metrics\n",
    "\n",
    "from sklearn.feature_selection import RFE"
   ]
  },
  {
   "cell_type": "markdown",
   "metadata": {},
   "source": [
    "## Firstly, we deal with the dataset \"1 years before\""
   ]
  },
  {
   "cell_type": "markdown",
   "metadata": {},
   "source": [
    "## Presenting the data"
   ]
  },
  {
   "cell_type": "code",
   "execution_count": 2,
   "metadata": {},
   "outputs": [
    {
     "name": "stdout",
     "output_type": "stream",
     "text": [
      "Our dataset is comprised of 145 rows and 25 columns. We have 49 bankrupted companies and 96 companies that still operate.\n"
     ]
    }
   ],
   "source": [
    "df=pd.read_csv(\"1 years before.csv\")\n",
    "df['final'][df['final']=='Bankrupted']=0\n",
    "df['final'][df['final']=='Non-Bankrupted']=1\n",
    "df.head()\n",
    "\n",
    "bankruptcies=df['final'][df['final']==0].count()\n",
    "rows=df.shape[0]\n",
    "columns=df.shape[1]\n",
    "print(f'Our dataset is comprised of {rows} rows and {columns} columns. We have {bankruptcies} bankrupted companies and {rows-bankruptcies} companies that still operate.')"
   ]
  },
  {
   "cell_type": "code",
   "execution_count": 3,
   "metadata": {},
   "outputs": [
    {
     "data": {
      "text/html": [
       "<div>\n",
       "<style scoped>\n",
       "    .dataframe tbody tr th:only-of-type {\n",
       "        vertical-align: middle;\n",
       "    }\n",
       "\n",
       "    .dataframe tbody tr th {\n",
       "        vertical-align: top;\n",
       "    }\n",
       "\n",
       "    .dataframe thead th {\n",
       "        text-align: right;\n",
       "    }\n",
       "</style>\n",
       "<table border=\"1\" class=\"dataframe\">\n",
       "  <thead>\n",
       "    <tr style=\"text-align: right;\">\n",
       "      <th></th>\n",
       "      <th>SIZE-3year</th>\n",
       "      <th>GR-PROFIT-MARGIN-3year</th>\n",
       "      <th>CAPITAL-EMPLOYED-TURNOVER-3year</th>\n",
       "      <th>STOCKHOLDERS-EQUITY-TURNOVER-3year</th>\n",
       "      <th>CAPITAL-EMPLOYED/NET-FIXED-ASSETS-3year</th>\n",
       "      <th>DEBT/EQUITY-3year</th>\n",
       "      <th>EQUITY/CAPITAL-EMPLOYED-3year</th>\n",
       "      <th>WORKING-CAPITAL/TOTAL-ASSETS-3year</th>\n",
       "      <th>AV-COLLECTION-PERIOD-FOR-RECIEVABLES-3year</th>\n",
       "      <th>AV-PAYMENT-PERIOD-3year</th>\n",
       "      <th>...</th>\n",
       "      <th>CAPITAL-EMPLOYED-TURNOVER-2year</th>\n",
       "      <th>STOCKHOLDERS-EQUITY-TURNOVER-2year</th>\n",
       "      <th>CAPITAL-EMPLOYED/NET-FIXED-ASSETS-2year</th>\n",
       "      <th>DEBT/EQUITY-2year</th>\n",
       "      <th>EQUITY/CAPITAL-EMPLOYED-2year</th>\n",
       "      <th>WORKING-CAPITAL/TOTAL-ASSETS-2year</th>\n",
       "      <th>AV-COLLECTION-PERIOD-FOR-RECIEVABLES-2year</th>\n",
       "      <th>AV-PAYMENT-PERIOD-2year</th>\n",
       "      <th>AV-TURNOVER-PERIOD-FOR-INVENTORIES-2year</th>\n",
       "      <th>final</th>\n",
       "    </tr>\n",
       "  </thead>\n",
       "  <tbody>\n",
       "    <tr>\n",
       "      <th>0</th>\n",
       "      <td>17.048357</td>\n",
       "      <td>11.394002</td>\n",
       "      <td>8.553323</td>\n",
       "      <td>9.782489</td>\n",
       "      <td>0.545139</td>\n",
       "      <td>22.955679</td>\n",
       "      <td>0.874350</td>\n",
       "      <td>-0.338667</td>\n",
       "      <td>431.196373</td>\n",
       "      <td>307.433926</td>\n",
       "      <td>...</td>\n",
       "      <td>4.437544</td>\n",
       "      <td>5.073205</td>\n",
       "      <td>1.765993</td>\n",
       "      <td>16.508362</td>\n",
       "      <td>0.874702</td>\n",
       "      <td>0.010900</td>\n",
       "      <td>698.486763</td>\n",
       "      <td>326.597359</td>\n",
       "      <td>0.000000</td>\n",
       "      <td>0</td>\n",
       "    </tr>\n",
       "    <tr>\n",
       "      <th>1</th>\n",
       "      <td>17.777371</td>\n",
       "      <td>5.022056</td>\n",
       "      <td>0.405121</td>\n",
       "      <td>0.405121</td>\n",
       "      <td>1.335460</td>\n",
       "      <td>0.676128</td>\n",
       "      <td>1.000000</td>\n",
       "      <td>0.073301</td>\n",
       "      <td>61.828454</td>\n",
       "      <td>134.429902</td>\n",
       "      <td>...</td>\n",
       "      <td>0.455641</td>\n",
       "      <td>0.500191</td>\n",
       "      <td>1.125059</td>\n",
       "      <td>0.804943</td>\n",
       "      <td>0.910933</td>\n",
       "      <td>0.008382</td>\n",
       "      <td>50.308317</td>\n",
       "      <td>276.608621</td>\n",
       "      <td>366.879367</td>\n",
       "      <td>0</td>\n",
       "    </tr>\n",
       "    <tr>\n",
       "      <th>2</th>\n",
       "      <td>11.855231</td>\n",
       "      <td>6.372713</td>\n",
       "      <td>2.939412</td>\n",
       "      <td>2.939412</td>\n",
       "      <td>50.054526</td>\n",
       "      <td>2.089913</td>\n",
       "      <td>1.000000</td>\n",
       "      <td>0.192623</td>\n",
       "      <td>188.645150</td>\n",
       "      <td>29.310724</td>\n",
       "      <td>...</td>\n",
       "      <td>1.585416</td>\n",
       "      <td>1.585427</td>\n",
       "      <td>378.147222</td>\n",
       "      <td>1.050186</td>\n",
       "      <td>0.999993</td>\n",
       "      <td>0.427538</td>\n",
       "      <td>283.190442</td>\n",
       "      <td>195.587902</td>\n",
       "      <td>89.918697</td>\n",
       "      <td>0</td>\n",
       "    </tr>\n",
       "    <tr>\n",
       "      <th>3</th>\n",
       "      <td>13.911165</td>\n",
       "      <td>16.481641</td>\n",
       "      <td>5.661395</td>\n",
       "      <td>5.661360</td>\n",
       "      <td>13.304319</td>\n",
       "      <td>6.360569</td>\n",
       "      <td>1.000006</td>\n",
       "      <td>0.101952</td>\n",
       "      <td>357.850150</td>\n",
       "      <td>239.631257</td>\n",
       "      <td>...</td>\n",
       "      <td>5.801234</td>\n",
       "      <td>5.801234</td>\n",
       "      <td>12.686171</td>\n",
       "      <td>6.682304</td>\n",
       "      <td>1.000000</td>\n",
       "      <td>0.090600</td>\n",
       "      <td>271.614982</td>\n",
       "      <td>288.643750</td>\n",
       "      <td>0.000000</td>\n",
       "      <td>0</td>\n",
       "    </tr>\n",
       "    <tr>\n",
       "      <th>4</th>\n",
       "      <td>14.933960</td>\n",
       "      <td>24.877081</td>\n",
       "      <td>6.295984</td>\n",
       "      <td>6.295984</td>\n",
       "      <td>0.855904</td>\n",
       "      <td>5.916377</td>\n",
       "      <td>1.000000</td>\n",
       "      <td>-0.079627</td>\n",
       "      <td>232.387033</td>\n",
       "      <td>173.791784</td>\n",
       "      <td>...</td>\n",
       "      <td>7.068596</td>\n",
       "      <td>7.068596</td>\n",
       "      <td>0.731521</td>\n",
       "      <td>7.849565</td>\n",
       "      <td>1.000000</td>\n",
       "      <td>-0.118476</td>\n",
       "      <td>241.826172</td>\n",
       "      <td>183.835760</td>\n",
       "      <td>57.286862</td>\n",
       "      <td>0</td>\n",
       "    </tr>\n",
       "    <tr>\n",
       "      <th>...</th>\n",
       "      <td>...</td>\n",
       "      <td>...</td>\n",
       "      <td>...</td>\n",
       "      <td>...</td>\n",
       "      <td>...</td>\n",
       "      <td>...</td>\n",
       "      <td>...</td>\n",
       "      <td>...</td>\n",
       "      <td>...</td>\n",
       "      <td>...</td>\n",
       "      <td>...</td>\n",
       "      <td>...</td>\n",
       "      <td>...</td>\n",
       "      <td>...</td>\n",
       "      <td>...</td>\n",
       "      <td>...</td>\n",
       "      <td>...</td>\n",
       "      <td>...</td>\n",
       "      <td>...</td>\n",
       "      <td>...</td>\n",
       "      <td>...</td>\n",
       "    </tr>\n",
       "    <tr>\n",
       "      <th>140</th>\n",
       "      <td>16.007338</td>\n",
       "      <td>17.450000</td>\n",
       "      <td>1.050000</td>\n",
       "      <td>1.050000</td>\n",
       "      <td>1.240000</td>\n",
       "      <td>0.840000</td>\n",
       "      <td>1.000000</td>\n",
       "      <td>0.101211</td>\n",
       "      <td>154.000000</td>\n",
       "      <td>254.000000</td>\n",
       "      <td>...</td>\n",
       "      <td>1.060000</td>\n",
       "      <td>1.060000</td>\n",
       "      <td>1.150000</td>\n",
       "      <td>0.810000</td>\n",
       "      <td>1.000000</td>\n",
       "      <td>0.070620</td>\n",
       "      <td>139.000000</td>\n",
       "      <td>184.000000</td>\n",
       "      <td>182.000000</td>\n",
       "      <td>1</td>\n",
       "    </tr>\n",
       "    <tr>\n",
       "      <th>141</th>\n",
       "      <td>15.875201</td>\n",
       "      <td>28.230000</td>\n",
       "      <td>2.020000</td>\n",
       "      <td>2.020000</td>\n",
       "      <td>1.770000</td>\n",
       "      <td>0.600000</td>\n",
       "      <td>1.000000</td>\n",
       "      <td>0.273218</td>\n",
       "      <td>91.000000</td>\n",
       "      <td>80.000000</td>\n",
       "      <td>...</td>\n",
       "      <td>1.590000</td>\n",
       "      <td>1.590000</td>\n",
       "      <td>1.720000</td>\n",
       "      <td>0.540000</td>\n",
       "      <td>1.000000</td>\n",
       "      <td>0.272412</td>\n",
       "      <td>90.000000</td>\n",
       "      <td>87.000000</td>\n",
       "      <td>158.000000</td>\n",
       "      <td>1</td>\n",
       "    </tr>\n",
       "    <tr>\n",
       "      <th>142</th>\n",
       "      <td>14.378253</td>\n",
       "      <td>68.390000</td>\n",
       "      <td>2.810000</td>\n",
       "      <td>2.840000</td>\n",
       "      <td>6.520000</td>\n",
       "      <td>1.690000</td>\n",
       "      <td>0.990000</td>\n",
       "      <td>0.308747</td>\n",
       "      <td>112.000000</td>\n",
       "      <td>106.000000</td>\n",
       "      <td>...</td>\n",
       "      <td>1.930000</td>\n",
       "      <td>4.020000</td>\n",
       "      <td>13.980000</td>\n",
       "      <td>3.700000</td>\n",
       "      <td>0.480000</td>\n",
       "      <td>0.371691</td>\n",
       "      <td>131.000000</td>\n",
       "      <td>250.000000</td>\n",
       "      <td>550.000000</td>\n",
       "      <td>1</td>\n",
       "    </tr>\n",
       "    <tr>\n",
       "      <th>143</th>\n",
       "      <td>14.597912</td>\n",
       "      <td>12.920000</td>\n",
       "      <td>1.010000</td>\n",
       "      <td>1.010000</td>\n",
       "      <td>0.730000</td>\n",
       "      <td>0.830000</td>\n",
       "      <td>1.000000</td>\n",
       "      <td>-0.203044</td>\n",
       "      <td>38.000000</td>\n",
       "      <td>70.000000</td>\n",
       "      <td>...</td>\n",
       "      <td>1.130000</td>\n",
       "      <td>1.130000</td>\n",
       "      <td>0.970000</td>\n",
       "      <td>0.380000</td>\n",
       "      <td>1.000000</td>\n",
       "      <td>-0.025060</td>\n",
       "      <td>62.000000</td>\n",
       "      <td>50.000000</td>\n",
       "      <td>42.000000</td>\n",
       "      <td>1</td>\n",
       "    </tr>\n",
       "    <tr>\n",
       "      <th>144</th>\n",
       "      <td>15.558559</td>\n",
       "      <td>24.810000</td>\n",
       "      <td>1.820000</td>\n",
       "      <td>2.040000</td>\n",
       "      <td>1.610000</td>\n",
       "      <td>1.180000</td>\n",
       "      <td>0.890000</td>\n",
       "      <td>0.114791</td>\n",
       "      <td>85.000000</td>\n",
       "      <td>97.000000</td>\n",
       "      <td>...</td>\n",
       "      <td>1.810000</td>\n",
       "      <td>2.000000</td>\n",
       "      <td>1.830000</td>\n",
       "      <td>0.960000</td>\n",
       "      <td>0.900000</td>\n",
       "      <td>0.171251</td>\n",
       "      <td>76.000000</td>\n",
       "      <td>59.000000</td>\n",
       "      <td>148.000000</td>\n",
       "      <td>1</td>\n",
       "    </tr>\n",
       "  </tbody>\n",
       "</table>\n",
       "<p>145 rows × 25 columns</p>\n",
       "</div>"
      ],
      "text/plain": [
       "     SIZE-3year  GR-PROFIT-MARGIN-3year  CAPITAL-EMPLOYED-TURNOVER-3year  \\\n",
       "0     17.048357               11.394002                         8.553323   \n",
       "1     17.777371                5.022056                         0.405121   \n",
       "2     11.855231                6.372713                         2.939412   \n",
       "3     13.911165               16.481641                         5.661395   \n",
       "4     14.933960               24.877081                         6.295984   \n",
       "..          ...                     ...                              ...   \n",
       "140   16.007338               17.450000                         1.050000   \n",
       "141   15.875201               28.230000                         2.020000   \n",
       "142   14.378253               68.390000                         2.810000   \n",
       "143   14.597912               12.920000                         1.010000   \n",
       "144   15.558559               24.810000                         1.820000   \n",
       "\n",
       "     STOCKHOLDERS-EQUITY-TURNOVER-3year  \\\n",
       "0                              9.782489   \n",
       "1                              0.405121   \n",
       "2                              2.939412   \n",
       "3                              5.661360   \n",
       "4                              6.295984   \n",
       "..                                  ...   \n",
       "140                            1.050000   \n",
       "141                            2.020000   \n",
       "142                            2.840000   \n",
       "143                            1.010000   \n",
       "144                            2.040000   \n",
       "\n",
       "     CAPITAL-EMPLOYED/NET-FIXED-ASSETS-3year  DEBT/EQUITY-3year  \\\n",
       "0                                   0.545139          22.955679   \n",
       "1                                   1.335460           0.676128   \n",
       "2                                  50.054526           2.089913   \n",
       "3                                  13.304319           6.360569   \n",
       "4                                   0.855904           5.916377   \n",
       "..                                       ...                ...   \n",
       "140                                 1.240000           0.840000   \n",
       "141                                 1.770000           0.600000   \n",
       "142                                 6.520000           1.690000   \n",
       "143                                 0.730000           0.830000   \n",
       "144                                 1.610000           1.180000   \n",
       "\n",
       "     EQUITY/CAPITAL-EMPLOYED-3year  WORKING-CAPITAL/TOTAL-ASSETS-3year  \\\n",
       "0                         0.874350                           -0.338667   \n",
       "1                         1.000000                            0.073301   \n",
       "2                         1.000000                            0.192623   \n",
       "3                         1.000006                            0.101952   \n",
       "4                         1.000000                           -0.079627   \n",
       "..                             ...                                 ...   \n",
       "140                       1.000000                            0.101211   \n",
       "141                       1.000000                            0.273218   \n",
       "142                       0.990000                            0.308747   \n",
       "143                       1.000000                           -0.203044   \n",
       "144                       0.890000                            0.114791   \n",
       "\n",
       "     AV-COLLECTION-PERIOD-FOR-RECIEVABLES-3year  AV-PAYMENT-PERIOD-3year  ...  \\\n",
       "0                                    431.196373               307.433926  ...   \n",
       "1                                     61.828454               134.429902  ...   \n",
       "2                                    188.645150                29.310724  ...   \n",
       "3                                    357.850150               239.631257  ...   \n",
       "4                                    232.387033               173.791784  ...   \n",
       "..                                          ...                      ...  ...   \n",
       "140                                  154.000000               254.000000  ...   \n",
       "141                                   91.000000                80.000000  ...   \n",
       "142                                  112.000000               106.000000  ...   \n",
       "143                                   38.000000                70.000000  ...   \n",
       "144                                   85.000000                97.000000  ...   \n",
       "\n",
       "     CAPITAL-EMPLOYED-TURNOVER-2year  STOCKHOLDERS-EQUITY-TURNOVER-2year  \\\n",
       "0                           4.437544                            5.073205   \n",
       "1                           0.455641                            0.500191   \n",
       "2                           1.585416                            1.585427   \n",
       "3                           5.801234                            5.801234   \n",
       "4                           7.068596                            7.068596   \n",
       "..                               ...                                 ...   \n",
       "140                         1.060000                            1.060000   \n",
       "141                         1.590000                            1.590000   \n",
       "142                         1.930000                            4.020000   \n",
       "143                         1.130000                            1.130000   \n",
       "144                         1.810000                            2.000000   \n",
       "\n",
       "     CAPITAL-EMPLOYED/NET-FIXED-ASSETS-2year  DEBT/EQUITY-2year  \\\n",
       "0                                   1.765993          16.508362   \n",
       "1                                   1.125059           0.804943   \n",
       "2                                 378.147222           1.050186   \n",
       "3                                  12.686171           6.682304   \n",
       "4                                   0.731521           7.849565   \n",
       "..                                       ...                ...   \n",
       "140                                 1.150000           0.810000   \n",
       "141                                 1.720000           0.540000   \n",
       "142                                13.980000           3.700000   \n",
       "143                                 0.970000           0.380000   \n",
       "144                                 1.830000           0.960000   \n",
       "\n",
       "     EQUITY/CAPITAL-EMPLOYED-2year  WORKING-CAPITAL/TOTAL-ASSETS-2year  \\\n",
       "0                         0.874702                            0.010900   \n",
       "1                         0.910933                            0.008382   \n",
       "2                         0.999993                            0.427538   \n",
       "3                         1.000000                            0.090600   \n",
       "4                         1.000000                           -0.118476   \n",
       "..                             ...                                 ...   \n",
       "140                       1.000000                            0.070620   \n",
       "141                       1.000000                            0.272412   \n",
       "142                       0.480000                            0.371691   \n",
       "143                       1.000000                           -0.025060   \n",
       "144                       0.900000                            0.171251   \n",
       "\n",
       "     AV-COLLECTION-PERIOD-FOR-RECIEVABLES-2year  AV-PAYMENT-PERIOD-2year  \\\n",
       "0                                    698.486763               326.597359   \n",
       "1                                     50.308317               276.608621   \n",
       "2                                    283.190442               195.587902   \n",
       "3                                    271.614982               288.643750   \n",
       "4                                    241.826172               183.835760   \n",
       "..                                          ...                      ...   \n",
       "140                                  139.000000               184.000000   \n",
       "141                                   90.000000                87.000000   \n",
       "142                                  131.000000               250.000000   \n",
       "143                                   62.000000                50.000000   \n",
       "144                                   76.000000                59.000000   \n",
       "\n",
       "     AV-TURNOVER-PERIOD-FOR-INVENTORIES-2year  final  \n",
       "0                                    0.000000      0  \n",
       "1                                  366.879367      0  \n",
       "2                                   89.918697      0  \n",
       "3                                    0.000000      0  \n",
       "4                                   57.286862      0  \n",
       "..                                        ...    ...  \n",
       "140                                182.000000      1  \n",
       "141                                158.000000      1  \n",
       "142                                550.000000      1  \n",
       "143                                 42.000000      1  \n",
       "144                                148.000000      1  \n",
       "\n",
       "[145 rows x 25 columns]"
      ]
     },
     "execution_count": 3,
     "metadata": {},
     "output_type": "execute_result"
    }
   ],
   "source": [
    "df"
   ]
  },
  {
   "cell_type": "code",
   "execution_count": 3,
   "metadata": {},
   "outputs": [
    {
     "data": {
      "text/plain": [
       "Index(['SIZE-3year', 'GR-PROFIT-MARGIN-3year',\n",
       "       'CAPITAL-EMPLOYED-TURNOVER-3year', 'STOCKHOLDERS-EQUITY-TURNOVER-3year',\n",
       "       'CAPITAL-EMPLOYED/NET-FIXED-ASSETS-3year', 'DEBT/EQUITY-3year',\n",
       "       'EQUITY/CAPITAL-EMPLOYED-3year', 'WORKING-CAPITAL/TOTAL-ASSETS-3year',\n",
       "       'AV-COLLECTION-PERIOD-FOR-RECIEVABLES-3year', 'AV-PAYMENT-PERIOD-3year',\n",
       "       'AV-TURNOVER-PERIOD-FOR-INVENTORIES-3year',\n",
       "       'SCALED-CHANGE-ASSETS-2year', 'SIZE-2year', 'CH.NET-INCOME-2year',\n",
       "       'GR-PROFIT-MARGIN-2year', 'CAPITAL-EMPLOYED-TURNOVER-2year',\n",
       "       'STOCKHOLDERS-EQUITY-TURNOVER-2year',\n",
       "       'CAPITAL-EMPLOYED/NET-FIXED-ASSETS-2year', 'DEBT/EQUITY-2year',\n",
       "       'EQUITY/CAPITAL-EMPLOYED-2year', 'WORKING-CAPITAL/TOTAL-ASSETS-2year',\n",
       "       'AV-COLLECTION-PERIOD-FOR-RECIEVABLES-2year', 'AV-PAYMENT-PERIOD-2year',\n",
       "       'AV-TURNOVER-PERIOD-FOR-INVENTORIES-2year', 'final'],\n",
       "      dtype='object')"
      ]
     },
     "execution_count": 3,
     "metadata": {},
     "output_type": "execute_result"
    }
   ],
   "source": [
    "df.columns"
   ]
  },
  {
   "cell_type": "markdown",
   "metadata": {},
   "source": [
    "## Splitting into input(X), target(Y), train(80%) , test(20%) and normalizing the data"
   ]
  },
  {
   "cell_type": "code",
   "execution_count": 4,
   "metadata": {},
   "outputs": [],
   "source": [
    "np.random.seed(333)\n",
    "\n",
    "X=df.iloc[:,0:-1].values\n",
    "Y=df.iloc[:,-1]\n",
    "X_train,X_test, y_train,y_test = train_test_split(X,Y,test_size=0.2,random_state=43) \n",
    "X_train=preprocessing.normalize(X_train)\n",
    "X_test=preprocessing.normalize(X_test)\n",
    "y_train=y_train.astype(int)\n",
    "y_test=y_test.astype(int)"
   ]
  },
  {
   "cell_type": "markdown",
   "metadata": {},
   "source": [
    "## Cart Decision Tree Algorithm\n"
   ]
  },
  {
   "cell_type": "code",
   "execution_count": 5,
   "metadata": {},
   "outputs": [],
   "source": [
    "X_cart_train=X_train\n",
    "X_cart_test=X_test\n",
    "y_cart_train=y_train\n",
    "y_cart_test=y_test"
   ]
  },
  {
   "cell_type": "code",
   "execution_count": 6,
   "metadata": {},
   "outputs": [
    {
     "name": "stdout",
     "output_type": "stream",
     "text": [
      "0.65\n",
      "DecisionTreeClassifier(class_weight=None, criterion='gini', max_depth=1,\n",
      "                       max_features='sqrt', max_leaf_nodes=None,\n",
      "                       min_impurity_decrease=0.0, min_impurity_split=None,\n",
      "                       min_samples_leaf=1, min_samples_split=2,\n",
      "                       min_weight_fraction_leaf=0.0, presort=False,\n",
      "                       random_state=None, splitter='best')\n"
     ]
    }
   ],
   "source": [
    "np.random.seed(112)\n",
    "\n",
    "clf = DecisionTreeClassifier(criterion=\"gini\")\n",
    "clf=clf.fit(X_cart_train,y_cart_train)\n",
    "depth=clf.get_depth()\n",
    "\n",
    "parameters={'criterion':('gini','entropy'),'max_depth': range(1,depth,1),'max_features':('sqrt','log2')}\n",
    "clf_tree=DecisionTreeClassifier()\n",
    "clf=GridSearchCV(clf_tree,parameters)\n",
    "clf=clf.fit(X_cart_train,y_cart_train)\n",
    "y_cart_pred = clf.predict(X_cart_test)\n",
    "auc_cart=metrics.roc_auc_score(y_cart_test,y_cart_pred)\n",
    "\n",
    "print(auc_cart)\n",
    "print(clf.best_estimator_)\n"
   ]
  },
  {
   "cell_type": "markdown",
   "metadata": {},
   "source": [
    "## Naive Bayes"
   ]
  },
  {
   "cell_type": "code",
   "execution_count": 7,
   "metadata": {},
   "outputs": [],
   "source": [
    "X_nb_train=X_train\n",
    "X_nb_test=X_test\n",
    "y_nb_train=y_train\n",
    "y_nb_test=y_test"
   ]
  },
  {
   "cell_type": "code",
   "execution_count": 8,
   "metadata": {},
   "outputs": [
    {
     "name": "stdout",
     "output_type": "stream",
     "text": [
      "0.5710526315789474\n"
     ]
    }
   ],
   "source": [
    "gnb = GaussianNB(var_smoothing=1e-09)\n",
    "y_nb_pred = gnb.fit(X_nb_train,y_nb_train).predict(X_nb_test)\n",
    "\n",
    "auc_nb=metrics.roc_auc_score(y_nb_test,y_nb_pred)\n",
    "\n",
    "print(auc_nb)"
   ]
  },
  {
   "cell_type": "markdown",
   "metadata": {},
   "source": [
    "## Logistic Regression"
   ]
  },
  {
   "cell_type": "code",
   "execution_count": 9,
   "metadata": {},
   "outputs": [],
   "source": [
    "X_lr_train=X_train\n",
    "X_lr_test=X_test\n",
    "y_lr_train=y_train\n",
    "y_lr_test=y_test"
   ]
  },
  {
   "cell_type": "code",
   "execution_count": 10,
   "metadata": {},
   "outputs": [
    {
     "name": "stdout",
     "output_type": "stream",
     "text": [
      "0.5\n",
      "LogisticRegression(C=1.0, class_weight=None, dual=False, fit_intercept=True,\n",
      "                   intercept_scaling=1, l1_ratio=None, max_iter=100,\n",
      "                   multi_class='warn', n_jobs=None, penalty='l2',\n",
      "                   random_state=None, solver='newton-cg', tol=0.0001, verbose=0,\n",
      "                   warm_start=False)\n"
     ]
    }
   ],
   "source": [
    "parameters={'penalty':('l2','none'),'class_weight':(None,'balanced'),'solver':('newton-cg','lbfgs','sag')}\n",
    "\n",
    "logreg = LogisticRegression()\n",
    "log=GridSearchCV(logreg,parameters)\n",
    "\n",
    "log.fit(X_lr_train, y_lr_train)\n",
    "\n",
    "y_lr_pred = log.predict(X_lr_test)\n",
    "\n",
    "auc_lr=metrics.roc_auc_score(y_lr_test,y_lr_pred)\n",
    "\n",
    "print(auc_lr)\n",
    "print(log.best_estimator_)"
   ]
  },
  {
   "cell_type": "markdown",
   "metadata": {},
   "source": [
    "## Dataset \"2 years before\""
   ]
  },
  {
   "cell_type": "code",
   "execution_count": 11,
   "metadata": {},
   "outputs": [
    {
     "name": "stdout",
     "output_type": "stream",
     "text": [
      "Our dataset is comprised of 145 rows and 12 columns. We have 49 bankrupted companies and 96 companies that still operate.\n"
     ]
    }
   ],
   "source": [
    "df2=pd.read_csv(\"2 years before.csv\")\n",
    "df2['final'][df2['final']=='Bankrupted']=0\n",
    "df2['final'][df2['final']=='Non-Bankrupted']=1\n",
    "df2.head()\n",
    "\n",
    "bankruptcies=df2['final'][df2['final']==0].count()\n",
    "rows=df2.shape[0]\n",
    "columns=df2.shape[1]\n",
    "print(f'Our dataset is comprised of {rows} rows and {columns} columns. We have {bankruptcies} bankrupted companies and {rows-bankruptcies} companies that still operate.')"
   ]
  },
  {
   "cell_type": "markdown",
   "metadata": {},
   "source": [
    "## Splitting into input(X), target(Y), train(80%) , test(20%) and normalizing the data"
   ]
  },
  {
   "cell_type": "code",
   "execution_count": 12,
   "metadata": {},
   "outputs": [],
   "source": [
    "np.random.seed(333)\n",
    "\n",
    "X=df2.iloc[:,0:-1].values\n",
    "Y=df2.iloc[:,-1]\n",
    "X_train,X_test, y_train,y_test = train_test_split(X,Y,test_size=0.2,random_state=43) \n",
    "X_train=preprocessing.normalize(X_train)\n",
    "X_test=preprocessing.normalize(X_test)\n",
    "y_train=y_train.astype(int)\n",
    "y_test=y_test.astype(int)"
   ]
  },
  {
   "cell_type": "markdown",
   "metadata": {},
   "source": [
    "## Cart Decision Tree Algorithm\n"
   ]
  },
  {
   "cell_type": "code",
   "execution_count": 13,
   "metadata": {},
   "outputs": [],
   "source": [
    "X_cart_train=X_train\n",
    "X_cart_test=X_test\n",
    "y_cart_train=y_train\n",
    "y_cart_test=y_test"
   ]
  },
  {
   "cell_type": "code",
   "execution_count": 14,
   "metadata": {},
   "outputs": [
    {
     "name": "stdout",
     "output_type": "stream",
     "text": [
      "0.6210526315789473\n",
      "DecisionTreeClassifier(class_weight=None, criterion='entropy', max_depth=2,\n",
      "                       max_features='log2', max_leaf_nodes=None,\n",
      "                       min_impurity_decrease=0.0, min_impurity_split=None,\n",
      "                       min_samples_leaf=1, min_samples_split=2,\n",
      "                       min_weight_fraction_leaf=0.0, presort=False,\n",
      "                       random_state=None, splitter='best')\n"
     ]
    }
   ],
   "source": [
    "np.random.seed(11)\n",
    "\n",
    "clf2 = DecisionTreeClassifier(criterion=\"gini\")\n",
    "clf2=clf2.fit(X_cart_train,y_cart_train)\n",
    "depth=clf2.get_depth()\n",
    "\n",
    "parameters={'criterion':('gini','entropy'),'max_depth': range(1,depth,1),'max_features':('sqrt','log2')}\n",
    "clf_tree2=DecisionTreeClassifier()\n",
    "clf2=GridSearchCV(clf_tree2,parameters)\n",
    "clf2=clf2.fit(X_cart_train,y_cart_train)\n",
    "y_cart_pred = clf2.predict(X_cart_test)\n",
    "auc_cart2=metrics.roc_auc_score(y_cart_test,y_cart_pred)\n",
    "\n",
    "print(auc_cart2)\n",
    "print(clf2.best_estimator_)\n"
   ]
  },
  {
   "cell_type": "markdown",
   "metadata": {},
   "source": [
    "## Naive Bayes"
   ]
  },
  {
   "cell_type": "code",
   "execution_count": 15,
   "metadata": {},
   "outputs": [],
   "source": [
    "X_nb_train=X_train\n",
    "X_nb_test=X_test\n",
    "y_nb_train=y_train\n",
    "y_nb_test=y_test"
   ]
  },
  {
   "cell_type": "code",
   "execution_count": 16,
   "metadata": {},
   "outputs": [
    {
     "name": "stdout",
     "output_type": "stream",
     "text": [
      "0.5473684210526315\n"
     ]
    }
   ],
   "source": [
    "gnb2= GaussianNB(var_smoothing=1e-09)\n",
    "y_nb_pred = gnb2.fit(X_nb_train,y_nb_train).predict(X_nb_test)\n",
    "\n",
    "auc_nb2=metrics.roc_auc_score(y_nb_test,y_nb_pred)\n",
    "\n",
    "print(auc_nb2)"
   ]
  },
  {
   "cell_type": "markdown",
   "metadata": {},
   "source": [
    "## Logistic Regression"
   ]
  },
  {
   "cell_type": "code",
   "execution_count": 17,
   "metadata": {},
   "outputs": [],
   "source": [
    "X_lr_train=X_train\n",
    "X_lr_test=X_test\n",
    "y_lr_train=y_train\n",
    "y_lr_test=y_test"
   ]
  },
  {
   "cell_type": "code",
   "execution_count": 18,
   "metadata": {},
   "outputs": [
    {
     "name": "stdout",
     "output_type": "stream",
     "text": [
      "0.5236842105263158\n",
      "LogisticRegression(C=1.0, class_weight=None, dual=False, fit_intercept=True,\n",
      "                   intercept_scaling=1, l1_ratio=None, max_iter=100,\n",
      "                   multi_class='warn', n_jobs=None, penalty='l2',\n",
      "                   random_state=None, solver='newton-cg', tol=0.0001, verbose=0,\n",
      "                   warm_start=False)\n"
     ]
    }
   ],
   "source": [
    "parameters={'penalty':('l2','none'),'class_weight':(None,'balanced'),'solver':('newton-cg','lbfgs','sag')}\n",
    "\n",
    "logreg2 = LogisticRegression()\n",
    "log2=GridSearchCV(logreg2,parameters)\n",
    "\n",
    "log2.fit(X_lr_train, y_lr_train)\n",
    "\n",
    "y_lr_pred = log2.predict(X_lr_test)\n",
    "\n",
    "auc_lr2=metrics.roc_auc_score(y_lr_test,y_lr_pred)\n",
    "\n",
    "print(auc_lr2)\n",
    "print(log2.best_estimator_)"
   ]
  },
  {
   "cell_type": "markdown",
   "metadata": {},
   "source": [
    "## Dataset \"last year\""
   ]
  },
  {
   "cell_type": "code",
   "execution_count": 19,
   "metadata": {},
   "outputs": [
    {
     "name": "stdout",
     "output_type": "stream",
     "text": [
      "Our dataset is comprised of 145 rows and 38 columns. We have 49 bankrupted companies and 96 companies that still operate.\n"
     ]
    }
   ],
   "source": [
    "df3=pd.read_csv(\"last year.csv\")\n",
    "df3['final'][df3['final']=='Bankrupted']=0\n",
    "df3['final'][df3['final']=='Non-Bankrupted']=1\n",
    "df3.head()\n",
    "\n",
    "bankruptcies=df3['final'][df3['final']==0].count()\n",
    "rows=df3.shape[0]\n",
    "columns=df3.shape[1]\n",
    "print(f'Our dataset is comprised of {rows} rows and {columns} columns. We have {bankruptcies} bankrupted companies and {rows-bankruptcies} companies that still operate.')"
   ]
  },
  {
   "cell_type": "markdown",
   "metadata": {},
   "source": [
    "## Splitting into input(X), target(Y), train(80%) , test(20%) and normalizing the data"
   ]
  },
  {
   "cell_type": "code",
   "execution_count": 20,
   "metadata": {},
   "outputs": [],
   "source": [
    "np.random.seed(333)\n",
    "\n",
    "X=df3.iloc[:,0:-1].values\n",
    "Y=df3.iloc[:,-1]\n",
    "X_train,X_test, y_train,y_test = train_test_split(X,Y,test_size=0.2,random_state=43) \n",
    "X_train=preprocessing.normalize(X_train)\n",
    "X_test=preprocessing.normalize(X_test)\n",
    "y_train=y_train.astype(int)\n",
    "y_test=y_test.astype(int)"
   ]
  },
  {
   "cell_type": "markdown",
   "metadata": {},
   "source": [
    "## Cart Decision Tree Algorithm\n"
   ]
  },
  {
   "cell_type": "code",
   "execution_count": 21,
   "metadata": {},
   "outputs": [],
   "source": [
    "X_cart_train=X_train\n",
    "X_cart_test=X_test\n",
    "y_cart_train=y_train\n",
    "y_cart_test=y_test"
   ]
  },
  {
   "cell_type": "code",
   "execution_count": 22,
   "metadata": {},
   "outputs": [
    {
     "name": "stdout",
     "output_type": "stream",
     "text": [
      "0.818421052631579\n",
      "DecisionTreeClassifier(class_weight=None, criterion='gini', max_depth=6,\n",
      "                       max_features='log2', max_leaf_nodes=None,\n",
      "                       min_impurity_decrease=0.0, min_impurity_split=None,\n",
      "                       min_samples_leaf=1, min_samples_split=2,\n",
      "                       min_weight_fraction_leaf=0.0, presort=False,\n",
      "                       random_state=None, splitter='best')\n"
     ]
    }
   ],
   "source": [
    "np.random.seed(33)\n",
    "\n",
    "clf3 = DecisionTreeClassifier(criterion=\"gini\")\n",
    "clf3=clf3.fit(X_cart_train,y_cart_train)\n",
    "depth=clf3.get_depth()\n",
    "\n",
    "parameters={'criterion':('gini','entropy'),'max_depth': range(1,depth,1),'max_features':('sqrt','log2')}\n",
    "clf_tree3=DecisionTreeClassifier()\n",
    "clf3=GridSearchCV(clf_tree3,parameters)\n",
    "clf3=clf3.fit(X_cart_train,y_cart_train)\n",
    "y_cart_pred = clf3.predict(X_cart_test)\n",
    "auc_cart3=metrics.roc_auc_score(y_cart_test,y_cart_pred)\n",
    "\n",
    "print(auc_cart3)\n",
    "print(clf3.best_estimator_)\n"
   ]
  },
  {
   "cell_type": "code",
   "execution_count": 51,
   "metadata": {},
   "outputs": [
    {
     "name": "stdout",
     "output_type": "stream",
     "text": [
      "0.618421052631579 Index(['SIZE-3year', 'GR-PROFIT-MARGIN-3year',\n",
      "       'CAPITAL-EMPLOYED-TURNOVER-3year', 'STOCKHOLDERS-EQUITY-TURNOVER-3year',\n",
      "       'CAPITAL-EMPLOYED/NET-FIXED-ASSETS-3year', 'DEBT/EQUITY-3year',\n",
      "       'EQUITY/CAPITAL-EMPLOYED-3year', 'WORKING-CAPITAL/TOTAL-ASSETS-3year',\n",
      "       'AV-COLLECTION-PERIOD-FOR-RECIEVABLES-3year', 'AV-PAYMENT-PERIOD-3year',\n",
      "       'AV-TURNOVER-PERIOD-FOR-INVENTORIES-3year',\n",
      "       'SCALED-CHANGE-ASSETS-2year', 'SIZE-2year', 'CH.NET-INCOME-2year',\n",
      "       'GR-PROFIT-MARGIN-2year', 'CAPITAL-EMPLOYED-TURNOVER-2year',\n",
      "       'STOCKHOLDERS-EQUITY-TURNOVER-2year',\n",
      "       'CAPITAL-EMPLOYED/NET-FIXED-ASSETS-2year', 'DEBT/EQUITY-2year',\n",
      "       'EQUITY/CAPITAL-EMPLOYED-2year', 'WORKING-CAPITAL/TOTAL-ASSETS-2year',\n",
      "       'AV-COLLECTION-PERIOD-FOR-RECIEVABLES-2year', 'AV-PAYMENT-PERIOD-2year',\n",
      "       'AV-TURNOVER-PERIOD-FOR-INVENTORIES-2year', 'SCALED-CHANGE-ASSETS',\n",
      "       'SIZE', 'CH.NET-INCOME', 'GR-PROFIT-MARGIN',\n",
      "       'CAPITAL-EMPLOYED-TURNOVER', 'STOCKHOLDERS-EQUITY-TURNOVER',\n",
      "       'CAPITAL-EMPLOYED/NET-FIXED-ASSETS', 'DEBT/EQUITY',\n",
      "       'EQUITY/CAPITAL-EMPLOYED', 'WORKING-CAPITAL/TOTAL-ASSETS',\n",
      "       'AV-COLLECTION-PERIOD-FOR-RECIEVABLES', 'AV-PAYMENT-PERIOD',\n",
      "       'AV-TURNOVER-PERIOD-FOR-INVENTORIES', 'final'],\n",
      "      dtype='object')\n"
     ]
    },
    {
     "data": {
      "text/plain": [
       "array([0.05997821, 0.        , 0.        , 0.        , 0.        ,\n",
       "       0.        , 0.        , 0.        , 0.        , 0.        ,\n",
       "       0.06343849, 0.12049194, 0.11346927, 0.05416782, 0.        ,\n",
       "       0.04123502, 0.        , 0.08574794, 0.        , 0.        ,\n",
       "       0.        , 0.        , 0.        , 0.        , 0.02474101,\n",
       "       0.        , 0.        , 0.07737448, 0.        , 0.        ,\n",
       "       0.01955811, 0.        , 0.13988187, 0.19991584, 0.        ,\n",
       "       0.        , 0.        ])"
      ]
     },
     "execution_count": 51,
     "metadata": {},
     "output_type": "execute_result"
    }
   ],
   "source": [
    "\n",
    "xxxx=DecisionTreeClassifier(criterion='gini',max_depth=6,max_features='log2')\n",
    "xxxx=xxxx.fit(X_cart_train,y_cart_train)\n",
    "pred=xxxx.predict(X_cart_test)\n",
    "cc=metrics.roc_auc_score(y_cart_test,pred)\n",
    "print(cc,df3.columns)\n",
    "xxxx.feature_importances_"
   ]
  },
  {
   "cell_type": "markdown",
   "metadata": {},
   "source": [
    "## Naive Bayes"
   ]
  },
  {
   "cell_type": "code",
   "execution_count": 147,
   "metadata": {},
   "outputs": [],
   "source": [
    "X_nb_train=X_train\n",
    "X_nb_test=X_test\n",
    "y_nb_train=y_train\n",
    "y_nb_test=y_test"
   ]
  },
  {
   "cell_type": "code",
   "execution_count": 148,
   "metadata": {},
   "outputs": [
    {
     "name": "stdout",
     "output_type": "stream",
     "text": [
      "0.5710526315789474\n"
     ]
    }
   ],
   "source": [
    "gnb3= GaussianNB(var_smoothing=1e-09)\n",
    "y_nb_pred = gnb3.fit(X_nb_train,y_nb_train).predict(X_nb_test)\n",
    "\n",
    "auc_nb3=metrics.roc_auc_score(y_nb_test,y_nb_pred)\n",
    "\n",
    "print(auc_nb3)"
   ]
  },
  {
   "cell_type": "markdown",
   "metadata": {},
   "source": [
    "## Logistic Regression"
   ]
  },
  {
   "cell_type": "code",
   "execution_count": 149,
   "metadata": {},
   "outputs": [],
   "source": [
    "X_lr_train=X_train\n",
    "X_lr_test=X_test\n",
    "y_lr_train=y_train\n",
    "y_lr_test=y_test"
   ]
  },
  {
   "cell_type": "code",
   "execution_count": 150,
   "metadata": {},
   "outputs": [
    {
     "name": "stdout",
     "output_type": "stream",
     "text": [
      "0.5\n",
      "LogisticRegression(C=1.0, class_weight=None, dual=False, fit_intercept=True,\n",
      "                   intercept_scaling=1, l1_ratio=None, max_iter=100,\n",
      "                   multi_class='warn', n_jobs=None, penalty='l2',\n",
      "                   random_state=None, solver='newton-cg', tol=0.0001, verbose=0,\n",
      "                   warm_start=False)\n"
     ]
    }
   ],
   "source": [
    "parameters={'penalty':('l2','none'),'class_weight':(None,'balanced'),'solver':('newton-cg','lbfgs','sag')}\n",
    "\n",
    "logreg3 = LogisticRegression()\n",
    "log3=GridSearchCV(logreg3,parameters)\n",
    "\n",
    "log3.fit(X_lr_train, y_lr_train)\n",
    "\n",
    "y_lr_pred = log3.predict(X_lr_test)\n",
    "\n",
    "auc_lr3=metrics.roc_auc_score(y_lr_test,y_lr_pred)\n",
    "\n",
    "print(auc_lr3)\n",
    "print(log3.best_estimator_)"
   ]
  },
  {
   "cell_type": "markdown",
   "metadata": {},
   "source": [
    "## All the results"
   ]
  },
  {
   "cell_type": "code",
   "execution_count": 164,
   "metadata": {},
   "outputs": [
    {
     "data": {
      "text/html": [
       "<div>\n",
       "<style scoped>\n",
       "    .dataframe tbody tr th:only-of-type {\n",
       "        vertical-align: middle;\n",
       "    }\n",
       "\n",
       "    .dataframe tbody tr th {\n",
       "        vertical-align: top;\n",
       "    }\n",
       "\n",
       "    .dataframe thead th {\n",
       "        text-align: right;\n",
       "    }\n",
       "</style>\n",
       "<table border=\"1\" class=\"dataframe\">\n",
       "  <thead>\n",
       "    <tr style=\"text-align: right;\">\n",
       "      <th></th>\n",
       "      <th>Logistic_Reg</th>\n",
       "      <th>Naive_Bayes</th>\n",
       "      <th>CART</th>\n",
       "    </tr>\n",
       "  </thead>\n",
       "  <tbody>\n",
       "    <tr>\n",
       "      <th>1 years before</th>\n",
       "      <td>0.500000</td>\n",
       "      <td>0.571053</td>\n",
       "      <td>0.650000</td>\n",
       "    </tr>\n",
       "    <tr>\n",
       "      <th>2 years before</th>\n",
       "      <td>0.523684</td>\n",
       "      <td>0.547368</td>\n",
       "      <td>0.621053</td>\n",
       "    </tr>\n",
       "    <tr>\n",
       "      <th>last year</th>\n",
       "      <td>0.500000</td>\n",
       "      <td>0.571053</td>\n",
       "      <td>0.818421</td>\n",
       "    </tr>\n",
       "  </tbody>\n",
       "</table>\n",
       "</div>"
      ],
      "text/plain": [
       "                Logistic_Reg  Naive_Bayes      CART\n",
       "1 years before      0.500000     0.571053  0.650000\n",
       "2 years before      0.523684     0.547368  0.621053\n",
       "last year           0.500000     0.571053  0.818421"
      ]
     },
     "execution_count": 164,
     "metadata": {},
     "output_type": "execute_result"
    }
   ],
   "source": [
    "data={'Logistic_Reg':[auc_lr,auc_lr2,auc_lr3],\n",
    "    'Naive_Bayes':[auc_nb,auc_nb2,auc_nb3],\n",
    "     'CART':[auc_cart,auc_cart2,auc_cart3]}\n",
    "\n",
    "results=pd.DataFrame(data,index=['1 years before','2 years before','last year'])\n",
    "\n",
    "results"
   ]
  },
  {
   "cell_type": "code",
   "execution_count": null,
   "metadata": {},
   "outputs": [],
   "source": []
  }
 ],
 "metadata": {
  "kernelspec": {
   "display_name": "Python 3",
   "language": "python",
   "name": "python3"
  },
  "language_info": {
   "codemirror_mode": {
    "name": "ipython",
    "version": 3
   },
   "file_extension": ".py",
   "mimetype": "text/x-python",
   "name": "python",
   "nbconvert_exporter": "python",
   "pygments_lexer": "ipython3",
   "version": "3.6.9"
  }
 },
 "nbformat": 4,
 "nbformat_minor": 2
}
